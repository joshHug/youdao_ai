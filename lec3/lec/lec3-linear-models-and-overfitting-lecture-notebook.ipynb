{
 "cells": [
  {
   "cell_type": "markdown",
   "metadata": {},
   "source": [
    "import seaborn as sns\n",
    "import pandas as pd\n",
    "sns.set(font_scale=1.5)\n",
    "import matplotlib.pyplot as plt\n",
    "import numpy as np\n",
    "from sklearn import linear_model\n",
    "from sklearn.metrics import mean_squared_error\n",
    "from sklearn.metrics import mean_absolute_error"
   ]
  },
  {
   "cell_type": "markdown",
   "metadata": {},
   "source": [
    "## Improving on Homework 2 "
   ]
  },
  {
   "cell_type": "code",
   "execution_count": 2,
   "metadata": {},
   "outputs": [
    {
     "data": {
      "text/html": [
       "<div>\n",
       "<style scoped>\n",
       "    .dataframe tbody tr th:only-of-type {\n",
       "        vertical-align: middle;\n",
       "    }\n",
       "\n",
       "    .dataframe tbody tr th {\n",
       "        vertical-align: top;\n",
       "    }\n",
       "\n",
       "    .dataframe thead th {\n",
       "        text-align: right;\n",
       "    }\n",
       "</style>\n",
       "<table border=\"1\" class=\"dataframe\">\n",
       "  <thead>\n",
       "    <tr style=\"text-align: right;\">\n",
       "      <th></th>\n",
       "      <th>voltage</th>\n",
       "      <th>current</th>\n",
       "      <th>type</th>\n",
       "    </tr>\n",
       "  </thead>\n",
       "  <tbody>\n",
       "    <tr>\n",
       "      <th>0</th>\n",
       "      <td>26.040247</td>\n",
       "      <td>68.654996</td>\n",
       "      <td>Silicon</td>\n",
       "    </tr>\n",
       "    <tr>\n",
       "      <th>1</th>\n",
       "      <td>16.202469</td>\n",
       "      <td>45.383931</td>\n",
       "      <td>Silicon</td>\n",
       "    </tr>\n",
       "    <tr>\n",
       "      <th>2</th>\n",
       "      <td>18.105575</td>\n",
       "      <td>45.662902</td>\n",
       "      <td>Silicon</td>\n",
       "    </tr>\n",
       "    <tr>\n",
       "      <th>3</th>\n",
       "      <td>18.499687</td>\n",
       "      <td>49.730946</td>\n",
       "      <td>Silicon</td>\n",
       "    </tr>\n",
       "    <tr>\n",
       "      <th>4</th>\n",
       "      <td>23.625672</td>\n",
       "      <td>64.926232</td>\n",
       "      <td>Silicon</td>\n",
       "    </tr>\n",
       "  </tbody>\n",
       "</table>\n",
       "</div>"
      ],
      "text/plain": [
       "     voltage    current     type\n",
       "0  26.040247  68.654996  Silicon\n",
       "1  16.202469  45.383931  Silicon\n",
       "2  18.105575  45.662902  Silicon\n",
       "3  18.499687  49.730946  Silicon\n",
       "4  23.625672  64.926232  Silicon"
      ]
     },
     "execution_count": 2,
     "metadata": {},
     "output_type": "execute_result"
    }
   ],
   "source": [
    "df_vc = pd.read_csv(\"voltage_current_data.csv\")\n",
    "df_vc.head(5)"
   ]
  },
  {
   "cell_type": "code",
   "execution_count": 3,
   "metadata": {},
   "outputs": [
    {
     "data": {
      "text/html": [
       "<div>\n",
       "<style scoped>\n",
       "    .dataframe tbody tr th:only-of-type {\n",
       "        vertical-align: middle;\n",
       "    }\n",
       "\n",
       "    .dataframe tbody tr th {\n",
       "        vertical-align: top;\n",
       "    }\n",
       "\n",
       "    .dataframe thead th {\n",
       "        text-align: right;\n",
       "    }\n",
       "</style>\n",
       "<table border=\"1\" class=\"dataframe\">\n",
       "  <thead>\n",
       "    <tr style=\"text-align: right;\">\n",
       "      <th></th>\n",
       "      <th>voltage</th>\n",
       "      <th>Carbon</th>\n",
       "      <th>Germanium</th>\n",
       "      <th>Silicon</th>\n",
       "    </tr>\n",
       "  </thead>\n",
       "  <tbody>\n",
       "    <tr>\n",
       "      <th>48</th>\n",
       "      <td>22.859473</td>\n",
       "      <td>0</td>\n",
       "      <td>0</td>\n",
       "      <td>1</td>\n",
       "    </tr>\n",
       "    <tr>\n",
       "      <th>49</th>\n",
       "      <td>28.763284</td>\n",
       "      <td>0</td>\n",
       "      <td>0</td>\n",
       "      <td>1</td>\n",
       "    </tr>\n",
       "    <tr>\n",
       "      <th>50</th>\n",
       "      <td>12.777193</td>\n",
       "      <td>1</td>\n",
       "      <td>0</td>\n",
       "      <td>0</td>\n",
       "    </tr>\n",
       "    <tr>\n",
       "      <th>51</th>\n",
       "      <td>18.781104</td>\n",
       "      <td>1</td>\n",
       "      <td>0</td>\n",
       "      <td>0</td>\n",
       "    </tr>\n",
       "  </tbody>\n",
       "</table>\n",
       "</div>"
      ],
      "text/plain": [
       "      voltage  Carbon  Germanium  Silicon\n",
       "48  22.859473       0          0        1\n",
       "49  28.763284       0          0        1\n",
       "50  12.777193       1          0        0\n",
       "51  18.781104       1          0        0"
      ]
     },
     "execution_count": 3,
     "metadata": {},
     "output_type": "execute_result"
    }
   ],
   "source": [
    "#2a\n",
    "two_features = ['voltage', 'type']\n",
    "\n",
    "two_feature_data = pd.DataFrame(df_vc[two_features])\n",
    "\n",
    "dummies = pd.get_dummies(two_feature_data['type'])\n",
    "data_w_dummies = pd.concat([two_feature_data, dummies], axis=1)\n",
    "data_w_dummies = data_w_dummies.drop(['type'], axis=1)\n",
    "data_w_dummies.iloc[48:52, :]"
   ]
  },
  {
   "cell_type": "code",
   "execution_count": 4,
   "metadata": {},
   "outputs": [
    {
     "data": {
      "text/plain": [
       "LinearRegression(copy_X=True, fit_intercept=True, n_jobs=None, normalize=False)"
      ]
     },
     "execution_count": 4,
     "metadata": {},
     "output_type": "execute_result"
    }
   ],
   "source": [
    "f_with_type = linear_model.LinearRegression()\n",
    "f_with_type.fit(data_w_dummies, df_vc['current'])"
   ]
  },
  {
   "cell_type": "code",
   "execution_count": 5,
   "metadata": {},
   "outputs": [
    {
     "data": {
      "text/plain": [
       "array([  4.03744567,  -1.04996567,  26.83843466, -25.78846899])"
      ]
     },
     "execution_count": 5,
     "metadata": {},
     "output_type": "execute_result"
    }
   ],
   "source": [
    "f_with_type.coef_"
   ]
  },
  {
   "cell_type": "code",
   "execution_count": 6,
   "metadata": {
    "scrolled": false
   },
   "outputs": [
    {
     "data": {
      "text/plain": [
       "-0.35351803812464766"
      ]
     },
     "execution_count": 6,
     "metadata": {},
     "output_type": "execute_result"
    }
   ],
   "source": [
    "f_with_type.intercept_"
   ]
  },
  {
   "cell_type": "code",
   "execution_count": 7,
   "metadata": {},
   "outputs": [
    {
     "data": {
      "text/plain": [
       "62.542793422591046"
      ]
     },
     "execution_count": 7,
     "metadata": {},
     "output_type": "execute_result"
    }
   ],
   "source": [
    "mean_squared_error(f_with_type.predict(data_w_dummies), df_vc['current'])"
   ]
  },
  {
   "cell_type": "code",
   "execution_count": 8,
   "metadata": {},
   "outputs": [
    {
     "data": {
      "text/html": [
       "<div>\n",
       "<style scoped>\n",
       "    .dataframe tbody tr th:only-of-type {\n",
       "        vertical-align: middle;\n",
       "    }\n",
       "\n",
       "    .dataframe tbody tr th {\n",
       "        vertical-align: top;\n",
       "    }\n",
       "\n",
       "    .dataframe thead th {\n",
       "        text-align: right;\n",
       "    }\n",
       "</style>\n",
       "<table border=\"1\" class=\"dataframe\">\n",
       "  <thead>\n",
       "    <tr style=\"text-align: right;\">\n",
       "      <th></th>\n",
       "      <th>Carbon</th>\n",
       "      <th>Germanium</th>\n",
       "      <th>Silicon</th>\n",
       "    </tr>\n",
       "  </thead>\n",
       "  <tbody>\n",
       "    <tr>\n",
       "      <th>48</th>\n",
       "      <td>0.000000</td>\n",
       "      <td>0.0</td>\n",
       "      <td>22.859473</td>\n",
       "    </tr>\n",
       "    <tr>\n",
       "      <th>49</th>\n",
       "      <td>0.000000</td>\n",
       "      <td>0.0</td>\n",
       "      <td>28.763284</td>\n",
       "    </tr>\n",
       "    <tr>\n",
       "      <th>50</th>\n",
       "      <td>12.777193</td>\n",
       "      <td>0.0</td>\n",
       "      <td>0.000000</td>\n",
       "    </tr>\n",
       "    <tr>\n",
       "      <th>51</th>\n",
       "      <td>18.781104</td>\n",
       "      <td>0.0</td>\n",
       "      <td>0.000000</td>\n",
       "    </tr>\n",
       "  </tbody>\n",
       "</table>\n",
       "</div>"
      ],
      "text/plain": [
       "       Carbon  Germanium    Silicon\n",
       "48   0.000000        0.0  22.859473\n",
       "49   0.000000        0.0  28.763284\n",
       "50  12.777193        0.0   0.000000\n",
       "51  18.781104        0.0   0.000000"
      ]
     },
     "execution_count": 8,
     "metadata": {},
     "output_type": "execute_result"
    }
   ],
   "source": [
    "#3\n",
    "# Our model in 2a has an output that is equal to theta_1*voltage + theta_2 (if silicon) + theta_3 (if carbon) + theta_4 (if germanium)\n",
    "# That is, each type has a fixed positive offset.\n",
    "#\n",
    "# From our plot in 2b shows that this is not a good model. Instead, a better model would be:\n",
    "# current = theta_1 * voltage (if silicon) + theta_2 * voltage (if carbon) + theta_3 * voltage (if germanium)\n",
    "#\n",
    "# To do this, we can replace the dummy value of 1 by the voltage and remove the \n",
    "# voltage column.\n",
    "data_w_scaled_dummies = data_w_dummies.copy()\n",
    "data_w_scaled_dummies['Carbon'] = data_w_scaled_dummies['Carbon'] * data_w_scaled_dummies['voltage']\n",
    "data_w_scaled_dummies['Germanium'] = data_w_scaled_dummies['Germanium'] * data_w_scaled_dummies['voltage']\n",
    "data_w_scaled_dummies['Silicon'] = data_w_scaled_dummies['Silicon'] * data_w_scaled_dummies['voltage']\n",
    "data_w_scaled_dummies = data_w_scaled_dummies.drop(['voltage'], axis=1)\n",
    "data_w_scaled_dummies.iloc[48:52, :]"
   ]
  },
  {
   "cell_type": "code",
   "execution_count": 9,
   "metadata": {},
   "outputs": [
    {
     "data": {
      "text/plain": [
       "25.714214023084757"
      ]
     },
     "execution_count": 9,
     "metadata": {},
     "output_type": "execute_result"
    }
   ],
   "source": [
    "f_vc_with_scaled_type = linear_model.LinearRegression()\n",
    "f_vc_with_scaled_type.fit(data_w_scaled_dummies, df_vc['current'])\n",
    "mean_squared_error(f_vc_with_scaled_type.predict(data_w_scaled_dummies), df_vc['current'])"
   ]
  },
  {
   "cell_type": "code",
   "execution_count": 10,
   "metadata": {},
   "outputs": [
    {
     "data": {
      "text/plain": [
       "array([3.9045347 , 5.29989642, 2.72432338])"
      ]
     },
     "execution_count": 10,
     "metadata": {},
     "output_type": "execute_result"
    }
   ],
   "source": [
    "f_vc_with_scaled_type.coef_"
   ]
  },
  {
   "cell_type": "code",
   "execution_count": 11,
   "metadata": {},
   "outputs": [
    {
     "data": {
      "text/plain": [
       "1.2044777216613909"
      ]
     },
     "execution_count": 11,
     "metadata": {},
     "output_type": "execute_result"
    }
   ],
   "source": [
    "f_vc_with_scaled_type.intercept_"
   ]
  },
  {
   "cell_type": "markdown",
   "metadata": {},
   "source": [
    "### Introducing the MPG vs. Horsepower Model"
   ]
  },
  {
   "cell_type": "code",
   "execution_count": 12,
   "metadata": {},
   "outputs": [
    {
     "data": {
      "text/html": [
       "<div>\n",
       "<style scoped>\n",
       "    .dataframe tbody tr th:only-of-type {\n",
       "        vertical-align: middle;\n",
       "    }\n",
       "\n",
       "    .dataframe tbody tr th {\n",
       "        vertical-align: top;\n",
       "    }\n",
       "\n",
       "    .dataframe thead th {\n",
       "        text-align: right;\n",
       "    }\n",
       "</style>\n",
       "<table border=\"1\" class=\"dataframe\">\n",
       "  <thead>\n",
       "    <tr style=\"text-align: right;\">\n",
       "      <th></th>\n",
       "      <th>mpg</th>\n",
       "      <th>cylinders</th>\n",
       "      <th>displacement</th>\n",
       "      <th>horsepower</th>\n",
       "      <th>weight</th>\n",
       "      <th>acceleration</th>\n",
       "      <th>model_year</th>\n",
       "      <th>origin</th>\n",
       "      <th>name</th>\n",
       "    </tr>\n",
       "  </thead>\n",
       "  <tbody>\n",
       "    <tr>\n",
       "      <th>0</th>\n",
       "      <td>18.0</td>\n",
       "      <td>8</td>\n",
       "      <td>307.0</td>\n",
       "      <td>130.0</td>\n",
       "      <td>3504</td>\n",
       "      <td>12.0</td>\n",
       "      <td>70</td>\n",
       "      <td>usa</td>\n",
       "      <td>chevrolet chevelle malibu</td>\n",
       "    </tr>\n",
       "    <tr>\n",
       "      <th>1</th>\n",
       "      <td>15.0</td>\n",
       "      <td>8</td>\n",
       "      <td>350.0</td>\n",
       "      <td>165.0</td>\n",
       "      <td>3693</td>\n",
       "      <td>11.5</td>\n",
       "      <td>70</td>\n",
       "      <td>usa</td>\n",
       "      <td>buick skylark 320</td>\n",
       "    </tr>\n",
       "    <tr>\n",
       "      <th>2</th>\n",
       "      <td>18.0</td>\n",
       "      <td>8</td>\n",
       "      <td>318.0</td>\n",
       "      <td>150.0</td>\n",
       "      <td>3436</td>\n",
       "      <td>11.0</td>\n",
       "      <td>70</td>\n",
       "      <td>usa</td>\n",
       "      <td>plymouth satellite</td>\n",
       "    </tr>\n",
       "    <tr>\n",
       "      <th>3</th>\n",
       "      <td>16.0</td>\n",
       "      <td>8</td>\n",
       "      <td>304.0</td>\n",
       "      <td>150.0</td>\n",
       "      <td>3433</td>\n",
       "      <td>12.0</td>\n",
       "      <td>70</td>\n",
       "      <td>usa</td>\n",
       "      <td>amc rebel sst</td>\n",
       "    </tr>\n",
       "    <tr>\n",
       "      <th>4</th>\n",
       "      <td>17.0</td>\n",
       "      <td>8</td>\n",
       "      <td>302.0</td>\n",
       "      <td>140.0</td>\n",
       "      <td>3449</td>\n",
       "      <td>10.5</td>\n",
       "      <td>70</td>\n",
       "      <td>usa</td>\n",
       "      <td>ford torino</td>\n",
       "    </tr>\n",
       "  </tbody>\n",
       "</table>\n",
       "</div>"
      ],
      "text/plain": [
       "    mpg  cylinders  displacement  horsepower  weight  acceleration  \\\n",
       "0  18.0          8         307.0       130.0    3504          12.0   \n",
       "1  15.0          8         350.0       165.0    3693          11.5   \n",
       "2  18.0          8         318.0       150.0    3436          11.0   \n",
       "3  16.0          8         304.0       150.0    3433          12.0   \n",
       "4  17.0          8         302.0       140.0    3449          10.5   \n",
       "\n",
       "   model_year origin                       name  \n",
       "0          70    usa  chevrolet chevelle malibu  \n",
       "1          70    usa          buick skylark 320  \n",
       "2          70    usa         plymouth satellite  \n",
       "3          70    usa              amc rebel sst  \n",
       "4          70    usa                ford torino  "
      ]
     },
     "execution_count": 12,
     "metadata": {},
     "output_type": "execute_result"
    }
   ],
   "source": [
    "#load the fuel dataset, and drop any rows that have missing data\n",
    "vehicle_data = sns.load_dataset('mpg').dropna()\n",
    "vehicle_data.head(5)"
   ]
  },
  {
   "cell_type": "code",
   "execution_count": 13,
   "metadata": {},
   "outputs": [
    {
     "data": {
      "text/plain": [
       "<matplotlib.axes._subplots.AxesSubplot at 0x7fdbf4e01278>"
      ]
     },
     "execution_count": 13,
     "metadata": {},
     "output_type": "execute_result"
    },
    {
     "data": {
      "image/png": "[encoded data removed]",
      "text/plain": [
       "<Figure size 432x288 with 1 Axes>"
      ]
     },
     "metadata": {},
     "output_type": "display_data"
    }
   ],
   "source": [
    "sns.scatterplot(x='horsepower', y='mpg', data=vehicle_data)"
   ]
  },
  {
   "cell_type": "code",
   "execution_count": 14,
   "metadata": {},
   "outputs": [
    {
     "data": {
      "text/plain": [
       "LinearRegression(copy_X=True, fit_intercept=True, n_jobs=None, normalize=False)"
      ]
     },
     "execution_count": 14,
     "metadata": {},
     "output_type": "execute_result"
    }
   ],
   "source": [
    "from sklearn.linear_model import LinearRegression\n",
    "model = LinearRegression()\n",
    "model.fit(vehicle_data[['horsepower']], vehicle_data['mpg'])"
   ]
  },
  {
   "cell_type": "code",
   "execution_count": 15,
   "metadata": {
    "scrolled": true
   },
   "outputs": [
    {
     "data": {
      "text/plain": [
       "<matplotlib.axes._subplots.AxesSubplot at 0x7fdbf42c4b00>"
      ]
     },
     "execution_count": 15,
     "metadata": {},
     "output_type": "execute_result"
    },
    {
     "data": {
      "image/png": "[encoded data removed]",
      "text/plain": [
       "<Figure size 432x288 with 1 Axes>"
      ]
     },
     "metadata": {},
     "output_type": "display_data"
    }
   ],
   "source": [
    "predicted_mpg = model.predict(vehicle_data[['horsepower']])\n",
    "sns.scatterplot(x='horsepower', y='mpg', data=vehicle_data)\n",
    "sns.scatterplot(x='horsepower', y='predicted_mpg', data=vehicle_data.assign(predicted_mpg=predicted_mpg))"
   ]
  },
  {
   "cell_type": "code",
   "execution_count": 16,
   "metadata": {},
   "outputs": [
    {
     "data": {
      "text/plain": [
       "array([-0.15784473])"
      ]
     },
     "execution_count": 16,
     "metadata": {},
     "output_type": "execute_result"
    }
   ],
   "source": [
    "model.coef_"
   ]
  },
  {
   "cell_type": "code",
   "execution_count": 17,
   "metadata": {},
   "outputs": [
    {
     "data": {
      "text/plain": [
       "39.93586102117047"
      ]
     },
     "execution_count": 17,
     "metadata": {},
     "output_type": "execute_result"
    }
   ],
   "source": [
    "model.intercept_"
   ]
  },
  {
   "cell_type": "code",
   "execution_count": 18,
   "metadata": {},
   "outputs": [
    {
     "data": {
      "text/plain": [
       "23.943662938603108"
      ]
     },
     "execution_count": 18,
     "metadata": {},
     "output_type": "execute_result"
    }
   ],
   "source": [
    "mean_squared_error(vehicle_data['mpg'], model.predict(vehicle_data[['horsepower']]))"
   ]
  },
  {
   "cell_type": "code",
   "execution_count": 19,
   "metadata": {},
   "outputs": [
    {
     "data": {
      "text/html": [
       "<div>\n",
       "<style scoped>\n",
       "    .dataframe tbody tr th:only-of-type {\n",
       "        vertical-align: middle;\n",
       "    }\n",
       "\n",
       "    .dataframe tbody tr th {\n",
       "        vertical-align: top;\n",
       "    }\n",
       "\n",
       "    .dataframe thead th {\n",
       "        text-align: right;\n",
       "    }\n",
       "</style>\n",
       "<table border=\"1\" class=\"dataframe\">\n",
       "  <thead>\n",
       "    <tr style=\"text-align: right;\">\n",
       "      <th></th>\n",
       "      <th>hp</th>\n",
       "      <th>hp^2</th>\n",
       "    </tr>\n",
       "  </thead>\n",
       "  <tbody>\n",
       "    <tr>\n",
       "      <th>0</th>\n",
       "      <td>130.0</td>\n",
       "      <td>16900.0</td>\n",
       "    </tr>\n",
       "    <tr>\n",
       "      <th>1</th>\n",
       "      <td>165.0</td>\n",
       "      <td>27225.0</td>\n",
       "    </tr>\n",
       "    <tr>\n",
       "      <th>2</th>\n",
       "      <td>150.0</td>\n",
       "      <td>22500.0</td>\n",
       "    </tr>\n",
       "    <tr>\n",
       "      <th>3</th>\n",
       "      <td>150.0</td>\n",
       "      <td>22500.0</td>\n",
       "    </tr>\n",
       "    <tr>\n",
       "      <th>4</th>\n",
       "      <td>140.0</td>\n",
       "      <td>19600.0</td>\n",
       "    </tr>\n",
       "  </tbody>\n",
       "</table>\n",
       "</div>"
      ],
      "text/plain": [
       "      hp     hp^2\n",
       "0  130.0  16900.0\n",
       "1  165.0  27225.0\n",
       "2  150.0  22500.0\n",
       "3  150.0  22500.0\n",
       "4  140.0  19600.0"
      ]
     },
     "execution_count": 19,
     "metadata": {},
     "output_type": "execute_result"
    }
   ],
   "source": [
    "#for convenience, let's make a new dataframe with just hp and hp^2\n",
    "hp_and_hp2 =  pd.DataFrame({\n",
    "    'hp': vehicle_data['horsepower'],\n",
    "    'hp^2': vehicle_data['horsepower']**2,\n",
    "})\n",
    "hp_and_hp2.head(5)"
   ]
  },
  {
   "cell_type": "code",
   "execution_count": 20,
   "metadata": {},
   "outputs": [
    {
     "data": {
      "text/plain": [
       "LinearRegression(copy_X=True, fit_intercept=True, n_jobs=None, normalize=False)"
      ]
     },
     "execution_count": 20,
     "metadata": {},
     "output_type": "execute_result"
    }
   ],
   "source": [
    "#build a model that tries to predict mpg from hp and hp^2\n",
    "model2 = LinearRegression()\n",
    "model2.fit(hp_and_hp2, vehicle_data['mpg'])"
   ]
  },
  {
   "cell_type": "code",
   "execution_count": 21,
   "metadata": {
    "scrolled": true
   },
   "outputs": [
    {
     "data": {
      "text/plain": [
       "<matplotlib.axes._subplots.AxesSubplot at 0x7fdbf42aa240>"
      ]
     },
     "execution_count": 21,
     "metadata": {},
     "output_type": "execute_result"
    },
    {
     "data": {
      "image/png": "[encoded data removed]",
      "text/plain": [
       "<Figure size 432x288 with 1 Axes>"
      ]
     },
     "metadata": {},
     "output_type": "display_data"
    }
   ],
   "source": [
    "model2_predicted_mpg = model2.predict(hp_and_hp2)\n",
    "sns.scatterplot(x='horsepower', y='mpg', data=vehicle_data)\n",
    "sns.scatterplot(x='horsepower', y='predicted_mpg', data=vehicle_data.assign(predicted_mpg=model2_predicted_mpg))"
   ]
  },
  {
   "cell_type": "code",
   "execution_count": 22,
   "metadata": {},
   "outputs": [
    {
     "data": {
      "text/plain": [
       "array([-0.46618963,  0.00123054])"
      ]
     },
     "execution_count": 22,
     "metadata": {},
     "output_type": "execute_result"
    }
   ],
   "source": [
    "model2.coef_"
   ]
  },
  {
   "cell_type": "code",
   "execution_count": 23,
   "metadata": {
    "scrolled": true
   },
   "outputs": [
    {
     "data": {
      "text/plain": [
       "18.98476890761722"
      ]
     },
     "execution_count": 23,
     "metadata": {},
     "output_type": "execute_result"
    }
   ],
   "source": [
    "mean_squared_error(vehicle_data['mpg'], model2.predict(hp_and_hp2))"
   ]
  },
  {
   "cell_type": "code",
   "execution_count": 24,
   "metadata": {},
   "outputs": [
    {
     "data": {
      "text/html": [
       "<div>\n",
       "<style scoped>\n",
       "    .dataframe tbody tr th:only-of-type {\n",
       "        vertical-align: middle;\n",
       "    }\n",
       "\n",
       "    .dataframe tbody tr th {\n",
       "        vertical-align: top;\n",
       "    }\n",
       "\n",
       "    .dataframe thead th {\n",
       "        text-align: right;\n",
       "    }\n",
       "</style>\n",
       "<table border=\"1\" class=\"dataframe\">\n",
       "  <thead>\n",
       "    <tr style=\"text-align: right;\">\n",
       "      <th></th>\n",
       "      <th>bias</th>\n",
       "      <th>hp</th>\n",
       "      <th>hp^2</th>\n",
       "    </tr>\n",
       "  </thead>\n",
       "  <tbody>\n",
       "    <tr>\n",
       "      <th>0</th>\n",
       "      <td>1.0</td>\n",
       "      <td>130.0</td>\n",
       "      <td>16900.0</td>\n",
       "    </tr>\n",
       "    <tr>\n",
       "      <th>1</th>\n",
       "      <td>1.0</td>\n",
       "      <td>165.0</td>\n",
       "      <td>27225.0</td>\n",
       "    </tr>\n",
       "    <tr>\n",
       "      <th>2</th>\n",
       "      <td>1.0</td>\n",
       "      <td>150.0</td>\n",
       "      <td>22500.0</td>\n",
       "    </tr>\n",
       "    <tr>\n",
       "      <th>3</th>\n",
       "      <td>1.0</td>\n",
       "      <td>150.0</td>\n",
       "      <td>22500.0</td>\n",
       "    </tr>\n",
       "    <tr>\n",
       "      <th>4</th>\n",
       "      <td>1.0</td>\n",
       "      <td>140.0</td>\n",
       "      <td>19600.0</td>\n",
       "    </tr>\n",
       "  </tbody>\n",
       "</table>\n",
       "</div>"
      ],
      "text/plain": [
       "   bias     hp     hp^2\n",
       "0   1.0  130.0  16900.0\n",
       "1   1.0  165.0  27225.0\n",
       "2   1.0  150.0  22500.0\n",
       "3   1.0  150.0  22500.0\n",
       "4   1.0  140.0  19600.0"
      ]
     },
     "execution_count": 24,
     "metadata": {},
     "output_type": "execute_result"
    }
   ],
   "source": [
    "#for convenience, let's make a new dataframe with just hp and hp^2\n",
    "hp_and_hp2_and_bias =  pd.DataFrame({\n",
    "    'hp': vehicle_data['horsepower'],\n",
    "    'hp^2': vehicle_data['horsepower']**2,\n",
    "    'bias': vehicle_data['horsepower'] / vehicle_data['horsepower'] # better to do np.ones(len(vehicle_data))\n",
    "})\n",
    "hp_and_hp2_and_bias.head(5)"
   ]
  },
  {
   "cell_type": "code",
   "execution_count": 25,
   "metadata": {},
   "outputs": [
    {
     "data": {
      "text/plain": [
       "LinearRegression(copy_X=True, fit_intercept=False, n_jobs=None, normalize=False)"
      ]
     },
     "execution_count": 25,
     "metadata": {},
     "output_type": "execute_result"
    }
   ],
   "source": [
    "#build a model that tries to predict mpg from hp and hp^2\n",
    "model2b = LinearRegression(fit_intercept=False)\n",
    "model2b.fit(hp_and_hp2_and_bias, vehicle_data['mpg'])"
   ]
  },
  {
   "cell_type": "code",
   "execution_count": 26,
   "metadata": {},
   "outputs": [
    {
     "data": {
      "text/plain": [
       "array([ 5.69000997e+01, -4.66189630e-01,  1.23053610e-03])"
      ]
     },
     "execution_count": 26,
     "metadata": {},
     "output_type": "execute_result"
    }
   ],
   "source": [
    "model2b.coef_"
   ]
  },
  {
   "cell_type": "code",
   "execution_count": 27,
   "metadata": {},
   "outputs": [
    {
     "data": {
      "text/plain": [
       "0.0"
      ]
     },
     "execution_count": 27,
     "metadata": {},
     "output_type": "execute_result"
    }
   ],
   "source": [
    "model2b.intercept_"
   ]
  },
  {
   "cell_type": "markdown",
   "metadata": {},
   "source": [
    "### Overfitting"
   ]
  },
  {
   "cell_type": "code",
   "execution_count": 28,
   "metadata": {},
   "outputs": [
    {
     "data": {
      "text/plain": [
       "array([0, 1, 2, 3])"
      ]
     },
     "execution_count": 28,
     "metadata": {},
     "output_type": "execute_result"
    }
   ],
   "source": [
    "x_values = np.array([0, 1, 2, 3])\n",
    "x_values"
   ]
  },
  {
   "cell_type": "code",
   "execution_count": 29,
   "metadata": {},
   "outputs": [
    {
     "data": {
      "text/plain": [
       "array([0, 3, 2, 1])"
      ]
     },
     "execution_count": 29,
     "metadata": {},
     "output_type": "execute_result"
    }
   ],
   "source": [
    "y_values = np.array([0, 3, 2, 1])\n",
    "y_values"
   ]
  },
  {
   "cell_type": "code",
   "execution_count": 30,
   "metadata": {},
   "outputs": [
    {
     "data": {
      "text/plain": [
       "<matplotlib.collections.PathCollection at 0x7fdbf4229320>"
      ]
     },
     "execution_count": 30,
     "metadata": {},
     "output_type": "execute_result"
    },
    {
     "data": {
      "image/png": "[encoded data removed]",
      "text/plain": [
       "<Figure size 432x288 with 1 Axes>"
      ]
     },
     "metadata": {},
     "output_type": "display_data"
    }
   ],
   "source": [
    "plt.scatter(x_values, y_values)"
   ]
  },
  {
   "cell_type": "code",
   "execution_count": 31,
   "metadata": {},
   "outputs": [
    {
     "data": {
      "text/html": [
       "<div>\n",
       "<style scoped>\n",
       "    .dataframe tbody tr th:only-of-type {\n",
       "        vertical-align: middle;\n",
       "    }\n",
       "\n",
       "    .dataframe tbody tr th {\n",
       "        vertical-align: top;\n",
       "    }\n",
       "\n",
       "    .dataframe thead th {\n",
       "        text-align: right;\n",
       "    }\n",
       "</style>\n",
       "<table border=\"1\" class=\"dataframe\">\n",
       "  <thead>\n",
       "    <tr style=\"text-align: right;\">\n",
       "      <th></th>\n",
       "      <th>x</th>\n",
       "      <th>y</th>\n",
       "    </tr>\n",
       "  </thead>\n",
       "  <tbody>\n",
       "    <tr>\n",
       "      <th>0</th>\n",
       "      <td>0</td>\n",
       "      <td>0</td>\n",
       "    </tr>\n",
       "    <tr>\n",
       "      <th>1</th>\n",
       "      <td>1</td>\n",
       "      <td>3</td>\n",
       "    </tr>\n",
       "    <tr>\n",
       "      <th>2</th>\n",
       "      <td>2</td>\n",
       "      <td>2</td>\n",
       "    </tr>\n",
       "    <tr>\n",
       "      <th>3</th>\n",
       "      <td>3</td>\n",
       "      <td>1</td>\n",
       "    </tr>\n",
       "  </tbody>\n",
       "</table>\n",
       "</div>"
      ],
      "text/plain": [
       "   x  y\n",
       "0  0  0\n",
       "1  1  3\n",
       "2  2  2\n",
       "3  3  1"
      ]
     },
     "execution_count": 31,
     "metadata": {},
     "output_type": "execute_result"
    }
   ],
   "source": [
    "arbitrary_data =  pd.DataFrame({\n",
    "    'x': x_values,\n",
    "    'y': y_values,\n",
    "})\n",
    "arbitrary_data"
   ]
  },
  {
   "cell_type": "code",
   "execution_count": 32,
   "metadata": {},
   "outputs": [
    {
     "data": {
      "text/html": [
       "<div>\n",
       "<style scoped>\n",
       "    .dataframe tbody tr th:only-of-type {\n",
       "        vertical-align: middle;\n",
       "    }\n",
       "\n",
       "    .dataframe tbody tr th {\n",
       "        vertical-align: top;\n",
       "    }\n",
       "\n",
       "    .dataframe thead th {\n",
       "        text-align: right;\n",
       "    }\n",
       "</style>\n",
       "<table border=\"1\" class=\"dataframe\">\n",
       "  <thead>\n",
       "    <tr style=\"text-align: right;\">\n",
       "      <th></th>\n",
       "      <th>x</th>\n",
       "      <th>x^2</th>\n",
       "      <th>x^3</th>\n",
       "    </tr>\n",
       "  </thead>\n",
       "  <tbody>\n",
       "    <tr>\n",
       "      <th>0</th>\n",
       "      <td>0</td>\n",
       "      <td>0</td>\n",
       "      <td>0</td>\n",
       "    </tr>\n",
       "    <tr>\n",
       "      <th>1</th>\n",
       "      <td>1</td>\n",
       "      <td>1</td>\n",
       "      <td>1</td>\n",
       "    </tr>\n",
       "    <tr>\n",
       "      <th>2</th>\n",
       "      <td>2</td>\n",
       "      <td>4</td>\n",
       "      <td>8</td>\n",
       "    </tr>\n",
       "    <tr>\n",
       "      <th>3</th>\n",
       "      <td>3</td>\n",
       "      <td>9</td>\n",
       "      <td>27</td>\n",
       "    </tr>\n",
       "  </tbody>\n",
       "</table>\n",
       "</div>"
      ],
      "text/plain": [
       "   x  x^2  x^3\n",
       "0  0    0    0\n",
       "1  1    1    1\n",
       "2  2    4    8\n",
       "3  3    9   27"
      ]
     },
     "execution_count": 32,
     "metadata": {},
     "output_type": "execute_result"
    }
   ],
   "source": [
    "x_x2_and_x3 =  pd.DataFrame({\n",
    "    'x': arbitrary_data['x'],\n",
    "    'x^2': arbitrary_data['x']**2,\n",
    "    'x^3': arbitrary_data['x']**3,\n",
    "})\n",
    "x_x2_and_x3.head()"
   ]
  },
  {
   "cell_type": "code",
   "execution_count": 33,
   "metadata": {
    "scrolled": true
   },
   "outputs": [
    {
     "data": {
      "text/plain": [
       "LinearRegression(copy_X=True, fit_intercept=True, n_jobs=None, normalize=False)"
      ]
     },
     "execution_count": 33,
     "metadata": {},
     "output_type": "execute_result"
    }
   ],
   "source": [
    "#build a model that tries to predict y from x, x^2, and x^3\n",
    "arbitrary_data_model = LinearRegression()\n",
    "arbitrary_data_model.fit(x_x2_and_x3, arbitrary_data['y'])"
   ]
  },
  {
   "cell_type": "code",
   "execution_count": 34,
   "metadata": {},
   "outputs": [
    {
     "data": {
      "text/plain": [
       "array([ 6.33333333, -4.        ,  0.66666667])"
      ]
     },
     "execution_count": 34,
     "metadata": {},
     "output_type": "execute_result"
    }
   ],
   "source": [
    "arbitrary_data_model.coef_"
   ]
  },
  {
   "cell_type": "code",
   "execution_count": 35,
   "metadata": {},
   "outputs": [
    {
     "data": {
      "text/plain": [
       "5.329070518200751e-15"
      ]
     },
     "execution_count": 35,
     "metadata": {},
     "output_type": "execute_result"
    }
   ],
   "source": [
    "arbitrary_data_model.intercept_"
   ]
  },
  {
   "cell_type": "code",
   "execution_count": 36,
   "metadata": {},
   "outputs": [],
   "source": [
    "more_x_points = np.linspace(0, 3, 100)\n",
    "\n",
    "more_x_features =  pd.DataFrame({\n",
    "    'x': more_x_points,\n",
    "    'x^2': more_x_points**2,\n",
    "    'x^3': more_x_points**3,\n",
    "})"
   ]
  },
  {
   "cell_type": "code",
   "execution_count": 37,
   "metadata": {
    "scrolled": false
   },
   "outputs": [
    {
     "data": {
      "text/plain": [
       "[<matplotlib.lines.Line2D at 0x7fdbf41c2470>]"
      ]
     },
     "execution_count": 37,
     "metadata": {},
     "output_type": "execute_result"
    },
    {
     "data": {
      "image/png": "[encoded data removed]",
      "text/plain": [
       "<Figure size 432x288 with 1 Axes>"
      ]
     },
     "metadata": {},
     "output_type": "display_data"
    }
   ],
   "source": [
    "predicted_y = arbitrary_data_model.predict(more_x_features)\n",
    "plt.scatter(x_values, y_values)\n",
    "plt.plot(more_x_points, predicted_y, 'orange')"
   ]
  },
  {
   "cell_type": "code",
   "execution_count": 38,
   "metadata": {},
   "outputs": [
    {
     "data": {
      "text/plain": [
       "2.0809287863115206e-29"
      ]
     },
     "execution_count": 38,
     "metadata": {},
     "output_type": "execute_result"
    }
   ],
   "source": [
    "mean_squared_error(arbitrary_data_model.predict(x_x2_and_x3), arbitrary_data['y'])"
   ]
  },
  {
   "cell_type": "markdown",
   "metadata": {},
   "source": [
    "Alternate solution: Just use linear algebra directly."
   ]
  },
  {
   "cell_type": "code",
   "execution_count": 39,
   "metadata": {},
   "outputs": [],
   "source": [
    "Phi = np.array([[0,0,0,1], [1,1,1,1], [2,4,8,1], [3,9,27,1]])\n",
    "Y_hat = np.array([0,3,2,1])"
   ]
  },
  {
   "cell_type": "code",
   "execution_count": 40,
   "metadata": {
    "scrolled": true
   },
   "outputs": [
    {
     "data": {
      "text/plain": [
       "array([[ 0,  0,  0,  1],\n",
       "       [ 1,  1,  1,  1],\n",
       "       [ 2,  4,  8,  1],\n",
       "       [ 3,  9, 27,  1]])"
      ]
     },
     "execution_count": 40,
     "metadata": {},
     "output_type": "execute_result"
    }
   ],
   "source": [
    "Phi"
   ]
  },
  {
   "cell_type": "code",
   "execution_count": 41,
   "metadata": {},
   "outputs": [
    {
     "data": {
      "text/plain": [
       "array([0, 3, 2, 1])"
      ]
     },
     "execution_count": 41,
     "metadata": {},
     "output_type": "execute_result"
    }
   ],
   "source": [
    "Y_hat"
   ]
  },
  {
   "cell_type": "code",
   "execution_count": 42,
   "metadata": {},
   "outputs": [
    {
     "data": {
      "text/plain": [
       "array([ 6.33333333, -4.        ,  0.66666667,  0.        ])"
      ]
     },
     "execution_count": 42,
     "metadata": {},
     "output_type": "execute_result"
    }
   ],
   "source": [
    "theta = np.linalg.solve(Phi, Y_hat)\n",
    "theta"
   ]
  },
  {
   "cell_type": "code",
   "execution_count": 43,
   "metadata": {},
   "outputs": [],
   "source": [
    "# or if you want to do it the less efficient way, \n",
    "# can explicitly create the inverse, then multiply using the \n",
    "# matrix multiplication operator @\n",
    "Phi_inverse = np.linalg.inv(Phi)\n",
    "theta = Phi_inverse @ Y_hat"
   ]
  },
  {
   "cell_type": "code",
   "execution_count": 44,
   "metadata": {},
   "outputs": [
    {
     "data": {
      "text/plain": [
       "array([ 6.33333333, -4.        ,  0.66666667,  0.        ])"
      ]
     },
     "execution_count": 44,
     "metadata": {},
     "output_type": "execute_result"
    }
   ],
   "source": [
    "theta"
   ]
  },
  {
   "cell_type": "markdown",
   "metadata": {},
   "source": [
    "### More Advanced scikit-learn Code"
   ]
  },
  {
   "cell_type": "markdown",
   "metadata": {},
   "source": [
    "We can also avoid manually creating a bunch of features by using sklearn's PolynomialFeatures capability."
   ]
  },
  {
   "cell_type": "code",
   "execution_count": 45,
   "metadata": {},
   "outputs": [
    {
     "data": {
      "text/plain": [
       "array([[ 1.,  0.,  0.,  0.],\n",
       "       [ 1.,  1.,  1.,  1.],\n",
       "       [ 1.,  2.,  4.,  8.],\n",
       "       [ 1.,  3.,  9., 27.]])"
      ]
     },
     "execution_count": 45,
     "metadata": {},
     "output_type": "execute_result"
    }
   ],
   "source": [
    "from sklearn.preprocessing import PolynomialFeatures\n",
    "\n",
    "poly3 = PolynomialFeatures(degree=3)\n",
    "x_x2_and_x3 = poly3.fit_transform(arbitrary_data[['x']])\n",
    "x_x2_and_x3"
   ]
  },
  {
   "cell_type": "code",
   "execution_count": 46,
   "metadata": {},
   "outputs": [
    {
     "data": {
      "text/plain": [
       "LinearRegression(copy_X=True, fit_intercept=False, n_jobs=None, normalize=False)"
      ]
     },
     "execution_count": 46,
     "metadata": {},
     "output_type": "execute_result"
    }
   ],
   "source": [
    "#since the output of the polynomial transform includes the bias term, \n",
    "#we set fit_intercept to false\n",
    "arbitrary_data_model = LinearRegression(fit_intercept=False)\n",
    "arbitrary_data_model.fit(x_x2_and_x3, arbitrary_data['y'])"
   ]
  },
  {
   "cell_type": "code",
   "execution_count": 47,
   "metadata": {
    "scrolled": true
   },
   "outputs": [
    {
     "data": {
      "text/plain": [
       "array([-1.34232805e-14,  6.33333333e+00, -4.00000000e+00,  6.66666667e-01])"
      ]
     },
     "execution_count": 47,
     "metadata": {},
     "output_type": "execute_result"
    }
   ],
   "source": [
    "#printing out the coefficients, we see we get the same values\n",
    "arbitrary_data_model.coef_"
   ]
  },
  {
   "cell_type": "code",
   "execution_count": 48,
   "metadata": {},
   "outputs": [],
   "source": [
    "## can also do using a scikit \"pipeline\"\n",
    "\n",
    "from sklearn.pipeline import Pipeline\n",
    "\n",
    "pipeline_version_of_model = Pipeline([\n",
    "    ('josh_transform', PolynomialFeatures(degree=3)),\n",
    "    ('josh_regression', LinearRegression(fit_intercept=False)),\n",
    "])\n",
    "pipeline_version_of_model.fit(arbitrary_data[['x']], arbitrary_data['y']);"
   ]
  },
  {
   "cell_type": "code",
   "execution_count": 49,
   "metadata": {},
   "outputs": [
    {
     "data": {
      "text/plain": [
       "array([-1.34232805e-14,  6.33333333e+00, -4.00000000e+00,  6.66666667e-01])"
      ]
     },
     "execution_count": 49,
     "metadata": {},
     "output_type": "execute_result"
    }
   ],
   "source": [
    "pipeline_version_of_model.named_steps['josh_regression'].coef_"
   ]
  },
  {
   "cell_type": "markdown",
   "metadata": {},
   "source": [
    "## Overfitting on Vehicle Data"
   ]
  },
  {
   "cell_type": "code",
   "execution_count": 50,
   "metadata": {},
   "outputs": [],
   "source": [
    "six_vehicles = vehicle_data.sample(6)"
   ]
  },
  {
   "cell_type": "code",
   "execution_count": 51,
   "metadata": {},
   "outputs": [
    {
     "data": {
      "text/html": [
       "<div>\n",
       "<style scoped>\n",
       "    .dataframe tbody tr th:only-of-type {\n",
       "        vertical-align: middle;\n",
       "    }\n",
       "\n",
       "    .dataframe tbody tr th {\n",
       "        vertical-align: top;\n",
       "    }\n",
       "\n",
       "    .dataframe thead th {\n",
       "        text-align: right;\n",
       "    }\n",
       "</style>\n",
       "<table border=\"1\" class=\"dataframe\">\n",
       "  <thead>\n",
       "    <tr style=\"text-align: right;\">\n",
       "      <th></th>\n",
       "      <th>mpg</th>\n",
       "      <th>cylinders</th>\n",
       "      <th>displacement</th>\n",
       "      <th>horsepower</th>\n",
       "      <th>weight</th>\n",
       "      <th>acceleration</th>\n",
       "      <th>model_year</th>\n",
       "      <th>origin</th>\n",
       "      <th>name</th>\n",
       "    </tr>\n",
       "  </thead>\n",
       "  <tbody>\n",
       "    <tr>\n",
       "      <th>383</th>\n",
       "      <td>38.0</td>\n",
       "      <td>4</td>\n",
       "      <td>91.0</td>\n",
       "      <td>67.0</td>\n",
       "      <td>1965</td>\n",
       "      <td>15.0</td>\n",
       "      <td>82</td>\n",
       "      <td>japan</td>\n",
       "      <td>honda civic</td>\n",
       "    </tr>\n",
       "    <tr>\n",
       "      <th>189</th>\n",
       "      <td>15.5</td>\n",
       "      <td>8</td>\n",
       "      <td>304.0</td>\n",
       "      <td>120.0</td>\n",
       "      <td>3962</td>\n",
       "      <td>13.9</td>\n",
       "      <td>76</td>\n",
       "      <td>usa</td>\n",
       "      <td>amc matador</td>\n",
       "    </tr>\n",
       "    <tr>\n",
       "      <th>178</th>\n",
       "      <td>23.0</td>\n",
       "      <td>4</td>\n",
       "      <td>120.0</td>\n",
       "      <td>88.0</td>\n",
       "      <td>2957</td>\n",
       "      <td>17.0</td>\n",
       "      <td>75</td>\n",
       "      <td>europe</td>\n",
       "      <td>peugeot 504</td>\n",
       "    </tr>\n",
       "    <tr>\n",
       "      <th>148</th>\n",
       "      <td>26.0</td>\n",
       "      <td>4</td>\n",
       "      <td>116.0</td>\n",
       "      <td>75.0</td>\n",
       "      <td>2246</td>\n",
       "      <td>14.0</td>\n",
       "      <td>74</td>\n",
       "      <td>europe</td>\n",
       "      <td>fiat 124 tc</td>\n",
       "    </tr>\n",
       "    <tr>\n",
       "      <th>332</th>\n",
       "      <td>29.8</td>\n",
       "      <td>4</td>\n",
       "      <td>89.0</td>\n",
       "      <td>62.0</td>\n",
       "      <td>1845</td>\n",
       "      <td>15.3</td>\n",
       "      <td>80</td>\n",
       "      <td>europe</td>\n",
       "      <td>vokswagen rabbit</td>\n",
       "    </tr>\n",
       "    <tr>\n",
       "      <th>261</th>\n",
       "      <td>18.1</td>\n",
       "      <td>6</td>\n",
       "      <td>258.0</td>\n",
       "      <td>120.0</td>\n",
       "      <td>3410</td>\n",
       "      <td>15.1</td>\n",
       "      <td>78</td>\n",
       "      <td>usa</td>\n",
       "      <td>amc concord d/l</td>\n",
       "    </tr>\n",
       "  </tbody>\n",
       "</table>\n",
       "</div>"
      ],
      "text/plain": [
       "      mpg  cylinders  displacement  horsepower  weight  acceleration  \\\n",
       "383  38.0          4          91.0        67.0    1965          15.0   \n",
       "189  15.5          8         304.0       120.0    3962          13.9   \n",
       "178  23.0          4         120.0        88.0    2957          17.0   \n",
       "148  26.0          4         116.0        75.0    2246          14.0   \n",
       "332  29.8          4          89.0        62.0    1845          15.3   \n",
       "261  18.1          6         258.0       120.0    3410          15.1   \n",
       "\n",
       "     model_year  origin              name  \n",
       "383          82   japan       honda civic  \n",
       "189          76     usa       amc matador  \n",
       "178          75  europe       peugeot 504  \n",
       "148          74  europe       fiat 124 tc  \n",
       "332          80  europe  vokswagen rabbit  \n",
       "261          78     usa   amc concord d/l  "
      ]
     },
     "execution_count": 51,
     "metadata": {},
     "output_type": "execute_result"
    }
   ],
   "source": [
    "six_vehicles"
   ]
  },
  {
   "cell_type": "code",
   "execution_count": 52,
   "metadata": {},
   "outputs": [],
   "source": [
    "from sklearn.preprocessing import PolynomialFeatures\n",
    "\n",
    "six_vehicle_model = Pipeline([\n",
    "    ('poly6', PolynomialFeatures(degree=6)),\n",
    "    ('regression', LinearRegression(fit_intercept=False)),\n",
    "])\n",
    "six_vehicle_model.fit(six_vehicles[['horsepower']], six_vehicles['mpg']);"
   ]
  },
  {
   "cell_type": "code",
   "execution_count": 53,
   "metadata": {},
   "outputs": [
    {
     "data": {
      "text/plain": [
       "Text(0,0.5,'mpg')"
      ]
     },
     "execution_count": 53,
     "metadata": {},
     "output_type": "execute_result"
    },
    {
     "data": {
      "image/png": "[encoded data removed]",
      "text/plain": [
       "<Figure size 432x288 with 1 Axes>"
      ]
     },
     "metadata": {},
     "output_type": "display_data"
    }
   ],
   "source": [
    "min_x = min(six_vehicles['horsepower'])\n",
    "max_x = max(six_vehicles['horsepower'])\n",
    "horsepower_values = np.linspace(min_x, max_x, 100).reshape((100, 1))\n",
    "predicted_mpg = six_vehicle_model.predict(horsepower_values)\n",
    "plt.scatter(six_vehicles['horsepower'], six_vehicles['mpg'])\n",
    "plt.plot(horsepower_values, predicted_mpg, 'orange')\n",
    "plt.xlabel(\"horsepower\")\n",
    "plt.ylabel(\"mpg\")"
   ]
  },
  {
   "cell_type": "code",
   "execution_count": 54,
   "metadata": {},
   "outputs": [
    {
     "data": {
      "text/plain": [
       "(9.0, 46.6)"
      ]
     },
     "execution_count": 54,
     "metadata": {},
     "output_type": "execute_result"
    },
    {
     "data": {
      "image/png": "[encoded data removed]",
      "text/plain": [
       "<Figure size 432x288 with 1 Axes>"
      ]
     },
     "metadata": {},
     "output_type": "display_data"
    }
   ],
   "source": [
    "min_x = min(vehicle_data['horsepower'])\n",
    "max_x = max(vehicle_data['horsepower'])\n",
    "min_y = min(vehicle_data['mpg'])\n",
    "max_y = max(vehicle_data['mpg'])\n",
    "horsepower_values = np.linspace(min_x, max_x, 100).reshape((100, 1))\n",
    "predicted_mpg = six_vehicle_model.predict(horsepower_values)\n",
    "plt.scatter(vehicle_data['horsepower'], vehicle_data['mpg'])\n",
    "plt.plot(horsepower_values, predicted_mpg, 'orange')\n",
    "plt.ylim([min_y, max_y])"
   ]
  },
  {
   "cell_type": "code",
   "execution_count": 55,
   "metadata": {},
   "outputs": [
    {
     "data": {
      "text/plain": [
       "Text(155,41,'MSE: 18.49, order: 6')"
      ]
     },
     "execution_count": 55,
     "metadata": {},
     "output_type": "execute_result"
    },
    {
     "data": {
      "image/png": "[encoded data removed]",
      "text/plain": [
       "<Figure size 432x288 with 1 Axes>"
      ]
     },
     "metadata": {},
     "output_type": "display_data"
    }
   ],
   "source": [
    "model_degree = 6\n",
    "\n",
    "polyN_model_on_all_vehicles = Pipeline([\n",
    "    ('polyN', PolynomialFeatures(degree=model_degree)),\n",
    "    ('regression', LinearRegression(fit_intercept=False)),\n",
    "])\n",
    "polyN_model_on_all_vehicles.fit(vehicle_data[['horsepower']], vehicle_data['mpg'])\n",
    "\n",
    "min_x = min(vehicle_data['horsepower'])\n",
    "max_x = max(vehicle_data['horsepower'])\n",
    "min_y = 0\n",
    "max_y = 50\n",
    "plt.ylim([min_y, max_y])\n",
    "\n",
    "horsepower_values = np.linspace(46, 240, 100).reshape((100, 1))\n",
    "predicted_mpg = polyN_model_on_all_vehicles.predict(horsepower_values)\n",
    "plt.scatter(vehicle_data['horsepower'], vehicle_data['mpg'])\n",
    "plt.plot(horsepower_values, predicted_mpg, 'orange')\n",
    "plt.ylim([min_y, max_y])\n",
    "mse = mean_squared_error(polyN_model_on_all_vehicles.predict(vehicle_data[['horsepower']]), vehicle_data['mpg'])\n",
    "plt.text(155, 41, f\"MSE: {mse:.2f}, order: {model_degree}\")"
   ]
  },
  {
   "cell_type": "code",
   "execution_count": 56,
   "metadata": {},
   "outputs": [
    {
     "data": {
      "text/plain": [
       "(392, 84)"
      ]
     },
     "execution_count": 56,
     "metadata": {},
     "output_type": "execute_result"
    }
   ],
   "source": [
    "poly3 = PolynomialFeatures(degree=3)\n",
    "all_degree_3_combinations = poly3.fit_transform(vehicle_data[[\"cylinders\", \"displacement\", \"horsepower\", \n",
    "                                                              \"weight\", \"acceleration\", \"model_year\"]])\n",
    "all_degree_3_combinations.shape"
   ]
  },
  {
   "cell_type": "code",
   "execution_count": 57,
   "metadata": {},
   "outputs": [
    {
     "data": {
      "text/plain": [
       "['1',\n",
       " 'cylinders',\n",
       " 'displacement',\n",
       " 'horsepower',\n",
       " 'weight',\n",
       " 'acceleration',\n",
       " 'model_year',\n",
       " 'cylinders^2',\n",
       " 'cylinders displacement',\n",
       " 'cylinders horsepower',\n",
       " 'cylinders weight',\n",
       " 'cylinders acceleration',\n",
       " 'cylinders model_year',\n",
       " 'displacement^2',\n",
       " 'displacement horsepower',\n",
       " 'displacement weight',\n",
       " 'displacement acceleration',\n",
       " 'displacement model_year',\n",
       " 'horsepower^2',\n",
       " 'horsepower weight',\n",
       " 'horsepower acceleration',\n",
       " 'horsepower model_year',\n",
       " 'weight^2',\n",
       " 'weight acceleration',\n",
       " 'weight model_year',\n",
       " 'acceleration^2',\n",
       " 'acceleration model_year',\n",
       " 'model_year^2',\n",
       " 'cylinders^3',\n",
       " 'cylinders^2 displacement',\n",
       " 'cylinders^2 horsepower',\n",
       " 'cylinders^2 weight',\n",
       " 'cylinders^2 acceleration',\n",
       " 'cylinders^2 model_year',\n",
       " 'cylinders displacement^2',\n",
       " 'cylinders displacement horsepower',\n",
       " 'cylinders displacement weight',\n",
       " 'cylinders displacement acceleration',\n",
       " 'cylinders displacement model_year',\n",
       " 'cylinders horsepower^2',\n",
       " 'cylinders horsepower weight',\n",
       " 'cylinders horsepower acceleration',\n",
       " 'cylinders horsepower model_year',\n",
       " 'cylinders weight^2',\n",
       " 'cylinders weight acceleration',\n",
       " 'cylinders weight model_year',\n",
       " 'cylinders acceleration^2',\n",
       " 'cylinders acceleration model_year',\n",
       " 'cylinders model_year^2',\n",
       " 'displacement^3',\n",
       " 'displacement^2 horsepower',\n",
       " 'displacement^2 weight',\n",
       " 'displacement^2 acceleration',\n",
       " 'displacement^2 model_year',\n",
       " 'displacement horsepower^2',\n",
       " 'displacement horsepower weight',\n",
       " 'displacement horsepower acceleration',\n",
       " 'displacement horsepower model_year',\n",
       " 'displacement weight^2',\n",
       " 'displacement weight acceleration',\n",
       " 'displacement weight model_year',\n",
       " 'displacement acceleration^2',\n",
       " 'displacement acceleration model_year',\n",
       " 'displacement model_year^2',\n",
       " 'horsepower^3',\n",
       " 'horsepower^2 weight',\n",
       " 'horsepower^2 acceleration',\n",
       " 'horsepower^2 model_year',\n",
       " 'horsepower weight^2',\n",
       " 'horsepower weight acceleration',\n",
       " 'horsepower weight model_year',\n",
       " 'horsepower acceleration^2',\n",
       " 'horsepower acceleration model_year',\n",
       " 'horsepower model_year^2',\n",
       " 'weight^3',\n",
       " 'weight^2 acceleration',\n",
       " 'weight^2 model_year',\n",
       " 'weight acceleration^2',\n",
       " 'weight acceleration model_year',\n",
       " 'weight model_year^2',\n",
       " 'acceleration^3',\n",
       " 'acceleration^2 model_year',\n",
       " 'acceleration model_year^2',\n",
       " 'model_year^3']"
      ]
     },
     "execution_count": 57,
     "metadata": {},
     "output_type": "execute_result"
    }
   ],
   "source": [
    "poly3.get_feature_names([\"cylinders\", \"displacement\", \"horsepower\", \n",
    "                         \"weight\", \"acceleration\", \"model_year\"])"
   ]
  },
  {
   "cell_type": "code",
   "execution_count": 58,
   "metadata": {},
   "outputs": [
    {
     "data": {
      "text/plain": [
       "4.4274265724759125"
      ]
     },
     "execution_count": 58,
     "metadata": {},
     "output_type": "execute_result"
    }
   ],
   "source": [
    "model_84_f = LinearRegression(fit_intercept=False)\n",
    "model_84_f.fit(all_degree_3_combinations, vehicle_data[\"mpg\"])\n",
    "mean_squared_error(model_84_f.predict(all_degree_3_combinations), vehicle_data[\"mpg\"])"
   ]
  },
  {
   "cell_type": "code",
   "execution_count": 59,
   "metadata": {},
   "outputs": [
    {
     "data": {
      "text/plain": [
       "6.434552392656859"
      ]
     },
     "execution_count": 59,
     "metadata": {},
     "output_type": "execute_result"
    }
   ],
   "source": [
    "all_degree_3_combinations[:, 0:30]\n",
    "model_30_f = LinearRegression(fit_intercept=False)\n",
    "model_30_f.fit(all_degree_3_combinations[:, 0:30], vehicle_data[\"mpg\"])\n",
    "mean_squared_error(model_30_f.predict(all_degree_3_combinations[:, 0:30]), vehicle_data[\"mpg\"])"
   ]
  },
  {
   "cell_type": "code",
   "execution_count": 60,
   "metadata": {},
   "outputs": [
    {
     "data": {
      "text/plain": [
       "4.4274265724759125"
      ]
     },
     "execution_count": 60,
     "metadata": {},
     "output_type": "execute_result"
    }
   ],
   "source": [
    "def get_mse_for_n_features(n):\n",
    "    n_features = all_degree_3_combinations[:, 0:n]\n",
    "    model = LinearRegression(fit_intercept=False)\n",
    "    model.fit(n_features, vehicle_data[\"mpg\"])\n",
    "    return mean_squared_error(model.predict(n_features), vehicle_data[\"mpg\"])\n",
    "\n",
    "get_mse_for_n_features(84)"
   ]
  },
  {
   "cell_type": "code",
   "execution_count": 61,
   "metadata": {},
   "outputs": [
    {
     "data": {
      "text/plain": [
       "[<matplotlib.lines.Line2D at 0x7fdbed072208>]"
      ]
     },
     "execution_count": 61,
     "metadata": {},
     "output_type": "execute_result"
    },
    {
     "data": {
      "image/png": "[encoded data removed]",
      "text/plain": [
       "<Figure size 432x288 with 1 Axes>"
      ]
     },
     "metadata": {},
     "output_type": "display_data"
    }
   ],
   "source": [
    "mses = [get_mse_for_n_features(i) for i in range(1, 85)]\n",
    "plt.plot(mses)"
   ]
  },
  {
   "cell_type": "code",
   "execution_count": 66,
   "metadata": {},
   "outputs": [],
   "source": [
    "#There are 392 data points\n",
    "#Let's use 300 for training and 92 for validation\n",
    "#Note: There is a better way to do this! Won't cover in lecture today.\n",
    "#training_vehicle_data = vehicle_data.iloc[0:300, :]\n",
    "#validation_vehicle_data = vehicle_data.iloc[300:, :]\n",
    "\n",
    "#training_vehicle_data = vehicle_data.iloc[0:300, :]\n",
    "#validation_vehicle_data = vehicle_data.iloc[300:, :]\n",
    "training_vehicle_data, validation_vehicle_data = np.split(vehicle_data.sample(frac=1), [300]) \n",
    "\n",
    "training_vehicle_mpg = training_vehicle_data[\"mpg\"]\n",
    "validation_vehicle_mpg = validation_vehicle_data[\"mpg\"]\n",
    "training_vehicle_data = training_vehicle_data[[\"cylinders\", \"displacement\", \"horsepower\", \"weight\", \"acceleration\", \"model_year\"]]\n",
    "validation_vehicle_data = validation_vehicle_data[[\"cylinders\", \"displacement\", \"horsepower\", \"weight\", \"acceleration\", \"model_year\"]]"
   ]
  },
  {
   "cell_type": "code",
   "execution_count": 67,
   "metadata": {},
   "outputs": [
    {
     "data": {
      "text/plain": [
       "(300, 84)"
      ]
     },
     "execution_count": 67,
     "metadata": {},
     "output_type": "execute_result"
    }
   ],
   "source": [
    "poly3 = PolynomialFeatures(degree=3)\n",
    "all_degree_3_combinations = poly3.fit_transform(training_vehicle_data)\n",
    "all_degree_3_combinations.shape"
   ]
  },
  {
   "cell_type": "code",
   "execution_count": 68,
   "metadata": {},
   "outputs": [
    {
     "data": {
      "text/plain": [
       "Text(0,0.5,'MSE')"
      ]
     },
     "execution_count": 68,
     "metadata": {},
     "output_type": "execute_result"
    },
    {
     "data": {
      "image/png": "[encoded data removed]",
      "text/plain": [
       "<Figure size 432x288 with 1 Axes>"
      ]
     },
     "metadata": {},
     "output_type": "display_data"
    }
   ],
   "source": [
    "def get_training_and_validation_error(num_features):\n",
    "    poly3 = PolynomialFeatures(degree=3)\n",
    "    featurized_training_data = poly3.fit_transform(training_vehicle_data)[:, :num_features]\n",
    "    featurized_validation_data = poly3.fit_transform(validation_vehicle_data)[:, :num_features]\n",
    "    \n",
    "    \n",
    "    model = LinearRegression(fit_intercept=False)\n",
    "    model.fit(featurized_training_data, training_vehicle_mpg)    \n",
    "    \n",
    "    training_mse = mean_squared_error(model.predict(featurized_training_data), training_vehicle_mpg)\n",
    "    validation_mse = mean_squared_error(model.predict(featurized_validation_data), validation_vehicle_mpg)\n",
    "    return training_mse, validation_mse\n",
    "\n",
    "mses = []\n",
    "\n",
    "for num_features in range(1, 84):\n",
    "    mses.append(get_training_and_validation_error(num_features))\n",
    "\n",
    "mses = np.array(mses)\n",
    "plt.plot(mses[:, 0])\n",
    "plt.plot(mses[:, 1])\n",
    "plt.legend([\"training\", \"validation\"])\n",
    "plt.xlabel(\"number of features\")\n",
    "plt.ylabel(\"MSE\")"
   ]
  },
  {
   "cell_type": "code",
   "execution_count": 69,
   "metadata": {},
   "outputs": [
    {
     "data": {
      "text/plain": [
       "array([[61.42508122, 58.7465311 ],\n",
       "       [22.2157487 , 30.00110884],\n",
       "       [19.33835404, 27.64749889],\n",
       "       [18.82342206, 25.28022833],\n",
       "       [16.2170107 , 23.07157694],\n",
       "       [16.17550747, 23.32621993],\n",
       "       [10.53819519, 15.30112388],\n",
       "       [ 9.91437674, 14.31342596],\n",
       "       [ 7.84814625, 12.43817094],\n",
       "       [ 7.35404523, 11.62532965],\n",
       "       [ 7.18883177, 12.12102281],\n",
       "       [ 7.18590669, 12.09361358],\n",
       "       [ 6.85585473, 11.88568831],\n",
       "       [ 6.80011325, 11.91348675],\n",
       "       [ 6.76142353, 12.09943966],\n",
       "       [ 6.75957884, 12.08412198],\n",
       "       [ 6.60463071, 12.55980929],\n",
       "       [ 6.59400175, 12.66992212],\n",
       "       [ 6.51481582, 13.60359976],\n",
       "       [ 6.46411253, 13.38981793],\n",
       "       [ 6.45965444, 13.62010593],\n",
       "       [ 6.39662289, 12.36684365],\n",
       "       [ 6.39577481, 12.34338439],\n",
       "       [ 6.39537538, 12.30413012],\n",
       "       [ 6.39536033, 12.30469757],\n",
       "       [ 6.38367974, 12.35540585],\n",
       "       [ 6.33842141, 12.03839162],\n",
       "       [ 6.1348158 , 11.29742431],\n",
       "       [ 5.85521711, 10.58946682],\n",
       "       [ 5.78779079, 10.59932535],\n",
       "       [ 5.77854559, 10.50306745],\n",
       "       [ 5.77622113, 10.36142201],\n",
       "       [ 5.7425917 , 10.12777054],\n",
       "       [ 5.61002957, 10.46915589],\n",
       "       [ 5.56063783, 10.21616669],\n",
       "       [ 5.51114046, 10.41109589],\n",
       "       [ 5.50630494, 10.55855707],\n",
       "       [ 5.33733975, 10.50756214],\n",
       "       [ 5.28891827, 10.51553001],\n",
       "       [ 5.28016656, 10.611049  ],\n",
       "       [ 5.1745542 , 10.46318915],\n",
       "       [ 5.12873495, 10.84822062],\n",
       "       [ 5.09542844, 10.88617051],\n",
       "       [ 5.08164932, 10.7222645 ],\n",
       "       [ 5.07502477, 10.82916485],\n",
       "       [ 5.07500444, 10.82488349],\n",
       "       [ 5.05717386, 10.92355521],\n",
       "       [ 5.05611806, 11.01509596],\n",
       "       [ 5.05318582, 10.87236011],\n",
       "       [ 5.05303542, 10.86338847],\n",
       "       [ 5.05233615, 10.79479441],\n",
       "       [ 5.04075714, 10.86048047],\n",
       "       [ 5.03169284, 11.02318955],\n",
       "       [ 5.02557382, 10.94939379],\n",
       "       [ 4.97658852, 12.10276465],\n",
       "       [ 4.9221106 , 12.94488541],\n",
       "       [ 4.91104524, 13.18039649],\n",
       "       [ 4.89741019, 12.79819942],\n",
       "       [ 4.89735455, 12.82080762],\n",
       "       [ 4.87706195, 12.97824476],\n",
       "       [ 4.8711032 , 12.91770929],\n",
       "       [ 4.86901042, 12.98115061],\n",
       "       [ 4.86680558, 13.20126436],\n",
       "       [ 4.82948066, 13.23638236],\n",
       "       [ 4.76755081, 13.18405934],\n",
       "       [ 4.75273511, 12.88613344],\n",
       "       [ 4.74796324, 13.1005315 ],\n",
       "       [ 4.7280131 , 11.64273701],\n",
       "       [ 4.71549226, 11.43009145],\n",
       "       [ 4.69548253, 12.04354826],\n",
       "       [ 4.68553951, 11.936811  ],\n",
       "       [ 4.67951277, 11.67985124],\n",
       "       [ 4.33051694, 11.21814221],\n",
       "       [ 4.25706104, 12.43294539],\n",
       "       [ 4.22298803, 12.77303279],\n",
       "       [ 4.22231253, 12.67245414],\n",
       "       [ 4.21253022, 13.00648162],\n",
       "       [ 4.20354558, 13.52475388],\n",
       "       [ 4.20071153, 13.03597862],\n",
       "       [ 4.18159328, 12.90295042],\n",
       "       [ 4.17641692, 13.34557561],\n",
       "       [ 4.12477414, 14.91567925],\n",
       "       [ 4.00892879, 15.53671334]])"
      ]
     },
     "execution_count": 69,
     "metadata": {},
     "output_type": "execute_result"
    }
   ],
   "source": [
    "mses"
   ]
  }
 ],
 "metadata": {
  "kernelspec": {
   "display_name": "Python 3",
   "language": "python",
   "name": "python3"
  },
  "language_info": {
   "codemirror_mode": {
    "name": "ipython",
    "version": 3
   },
   "file_extension": ".py",
   "mimetype": "text/x-python",
   "name": "python",
   "nbconvert_exporter": "python",
   "pygments_lexer": "ipython3",
   "version": "3.6.4"
  }
 },
 "nbformat": 4,
 "nbformat_minor": 2
}

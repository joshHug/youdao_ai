{
 "cells": [
  {
   "cell_type": "code",
   "execution_count": 1,
   "metadata": {},
   "outputs": [],
   "source": [
    "import seaborn as sns\n",
    "import numpy as np\n",
    "import matplotlib.pyplot as plt\n",
    "import pandas as pd\n",
    "\n",
    "%matplotlib inline\n",
    "\n",
    "plt.rcParams['figure.figsize'] = (4, 4)\n",
    "plt.rcParams['figure.dpi'] = 150\n",
    "plt.rcParams['lines.linewidth'] = 3\n",
    "sns.set()"
   ]
  },
  {
   "cell_type": "code",
   "execution_count": 2,
   "metadata": {},
   "outputs": [],
   "source": [
    "tips = sns.load_dataset(\"tips\")"
   ]
  },
  {
   "cell_type": "code",
   "execution_count": 3,
   "metadata": {},
   "outputs": [
    {
     "data": {
      "text/html": [
       "<div>\n",
       "<style scoped>\n",
       "    .dataframe tbody tr th:only-of-type {\n",
       "        vertical-align: middle;\n",
       "    }\n",
       "\n",
       "    .dataframe tbody tr th {\n",
       "        vertical-align: top;\n",
       "    }\n",
       "\n",
       "    .dataframe thead th {\n",
       "        text-align: right;\n",
       "    }\n",
       "</style>\n",
       "<table border=\"1\" class=\"dataframe\">\n",
       "  <thead>\n",
       "    <tr style=\"text-align: right;\">\n",
       "      <th></th>\n",
       "      <th>total_bill</th>\n",
       "      <th>tip</th>\n",
       "      <th>sex</th>\n",
       "      <th>smoker</th>\n",
       "      <th>day</th>\n",
       "      <th>time</th>\n",
       "      <th>size</th>\n",
       "    </tr>\n",
       "  </thead>\n",
       "  <tbody>\n",
       "    <tr>\n",
       "      <td>0</td>\n",
       "      <td>16.99</td>\n",
       "      <td>1.01</td>\n",
       "      <td>Female</td>\n",
       "      <td>No</td>\n",
       "      <td>Sun</td>\n",
       "      <td>Dinner</td>\n",
       "      <td>2</td>\n",
       "    </tr>\n",
       "    <tr>\n",
       "      <td>1</td>\n",
       "      <td>10.34</td>\n",
       "      <td>1.66</td>\n",
       "      <td>Male</td>\n",
       "      <td>No</td>\n",
       "      <td>Sun</td>\n",
       "      <td>Dinner</td>\n",
       "      <td>3</td>\n",
       "    </tr>\n",
       "    <tr>\n",
       "      <td>2</td>\n",
       "      <td>21.01</td>\n",
       "      <td>3.50</td>\n",
       "      <td>Male</td>\n",
       "      <td>No</td>\n",
       "      <td>Sun</td>\n",
       "      <td>Dinner</td>\n",
       "      <td>3</td>\n",
       "    </tr>\n",
       "    <tr>\n",
       "      <td>3</td>\n",
       "      <td>23.68</td>\n",
       "      <td>3.31</td>\n",
       "      <td>Male</td>\n",
       "      <td>No</td>\n",
       "      <td>Sun</td>\n",
       "      <td>Dinner</td>\n",
       "      <td>2</td>\n",
       "    </tr>\n",
       "    <tr>\n",
       "      <td>4</td>\n",
       "      <td>24.59</td>\n",
       "      <td>3.61</td>\n",
       "      <td>Female</td>\n",
       "      <td>No</td>\n",
       "      <td>Sun</td>\n",
       "      <td>Dinner</td>\n",
       "      <td>4</td>\n",
       "    </tr>\n",
       "  </tbody>\n",
       "</table>\n",
       "</div>"
      ],
      "text/plain": [
       "   total_bill   tip     sex smoker  day    time  size\n",
       "0       16.99  1.01  Female     No  Sun  Dinner     2\n",
       "1       10.34  1.66    Male     No  Sun  Dinner     3\n",
       "2       21.01  3.50    Male     No  Sun  Dinner     3\n",
       "3       23.68  3.31    Male     No  Sun  Dinner     2\n",
       "4       24.59  3.61  Female     No  Sun  Dinner     4"
      ]
     },
     "execution_count": 3,
     "metadata": {},
     "output_type": "execute_result"
    }
   ],
   "source": [
    "tips.head(5)"
   ]
  },
  {
   "cell_type": "markdown",
   "metadata": {},
   "source": [
    "#### get_dummies review"
   ]
  },
  {
   "cell_type": "code",
   "execution_count": 4,
   "metadata": {},
   "outputs": [
    {
     "data": {
      "text/html": [
       "<div>\n",
       "<style scoped>\n",
       "    .dataframe tbody tr th:only-of-type {\n",
       "        vertical-align: middle;\n",
       "    }\n",
       "\n",
       "    .dataframe tbody tr th {\n",
       "        vertical-align: top;\n",
       "    }\n",
       "\n",
       "    .dataframe thead th {\n",
       "        text-align: right;\n",
       "    }\n",
       "</style>\n",
       "<table border=\"1\" class=\"dataframe\">\n",
       "  <thead>\n",
       "    <tr style=\"text-align: right;\">\n",
       "      <th></th>\n",
       "      <th>total_bill</th>\n",
       "      <th>size</th>\n",
       "      <th>day</th>\n",
       "      <th>Thur</th>\n",
       "      <th>Fri</th>\n",
       "      <th>Sat</th>\n",
       "      <th>Sun</th>\n",
       "    </tr>\n",
       "  </thead>\n",
       "  <tbody>\n",
       "    <tr>\n",
       "      <td>193</td>\n",
       "      <td>15.48</td>\n",
       "      <td>2</td>\n",
       "      <td>Thur</td>\n",
       "      <td>1</td>\n",
       "      <td>0</td>\n",
       "      <td>0</td>\n",
       "      <td>0</td>\n",
       "    </tr>\n",
       "    <tr>\n",
       "      <td>90</td>\n",
       "      <td>28.97</td>\n",
       "      <td>2</td>\n",
       "      <td>Fri</td>\n",
       "      <td>0</td>\n",
       "      <td>1</td>\n",
       "      <td>0</td>\n",
       "      <td>0</td>\n",
       "    </tr>\n",
       "    <tr>\n",
       "      <td>25</td>\n",
       "      <td>17.81</td>\n",
       "      <td>4</td>\n",
       "      <td>Sat</td>\n",
       "      <td>0</td>\n",
       "      <td>0</td>\n",
       "      <td>1</td>\n",
       "      <td>0</td>\n",
       "    </tr>\n",
       "    <tr>\n",
       "      <td>26</td>\n",
       "      <td>13.37</td>\n",
       "      <td>2</td>\n",
       "      <td>Sat</td>\n",
       "      <td>0</td>\n",
       "      <td>0</td>\n",
       "      <td>1</td>\n",
       "      <td>0</td>\n",
       "    </tr>\n",
       "    <tr>\n",
       "      <td>190</td>\n",
       "      <td>15.69</td>\n",
       "      <td>2</td>\n",
       "      <td>Sun</td>\n",
       "      <td>0</td>\n",
       "      <td>0</td>\n",
       "      <td>0</td>\n",
       "      <td>1</td>\n",
       "    </tr>\n",
       "  </tbody>\n",
       "</table>\n",
       "</div>"
      ],
      "text/plain": [
       "     total_bill  size   day  Thur  Fri  Sat  Sun\n",
       "193       15.48     2  Thur     1    0    0    0\n",
       "90        28.97     2   Fri     0    1    0    0\n",
       "25        17.81     4   Sat     0    0    1    0\n",
       "26        13.37     2   Sat     0    0    1    0\n",
       "190       15.69     2   Sun     0    0    0    1"
      ]
     },
     "execution_count": 4,
     "metadata": {},
     "output_type": "execute_result"
    }
   ],
   "source": [
    "three_features = ['total_bill', 'size', 'day']\n",
    "three_feature_data = pd.DataFrame(tips[three_features])\n",
    "dummies = pd.get_dummies(three_feature_data['day'])\n",
    "tips_w_dummies = pd.concat([three_feature_data, dummies], axis=1)\n",
    "\n",
    "\n",
    "tips_w_dummies.iloc[[193, 90, 25, 26, 190], :]"
   ]
  },
  {
   "cell_type": "markdown",
   "metadata": {},
   "source": [
    "#### Using Text Features"
   ]
  },
  {
   "cell_type": "markdown",
   "metadata": {},
   "source": [
    "#### Letter Count Vectorizer"
   ]
  },
  {
   "cell_type": "code",
   "execution_count": 5,
   "metadata": {},
   "outputs": [],
   "source": [
    "class LetterCountVectorizer():\n",
    "    def transform(self, texts):\n",
    "        all_text_phi = []\n",
    "        for text in texts:\n",
    "            text = text.lower()\n",
    "            this_text_phi = np.array([0] * 26)            \n",
    "            for i, L in enumerate('abcdefghijklmnopqrstuvwxyz'):\n",
    "                this_text_phi[i] = text.count(L)\n",
    "            all_text_phi.append(this_text_phi)\n",
    "            \n",
    "        return np.array(all_text_phi)"
   ]
  },
  {
   "cell_type": "code",
   "execution_count": 6,
   "metadata": {},
   "outputs": [
    {
     "data": {
      "text/plain": [
       "array([[3, 1, 1, 0, 0, 0, 0, 0, 0, 0, 0, 0, 0, 0, 0, 0, 0, 0, 0, 0, 0, 0,\n",
       "        0, 0, 0, 0],\n",
       "       [1, 0, 0, 1, 5, 0, 0, 2, 3, 0, 0, 1, 5, 3, 3, 1, 0, 1, 1, 2, 0, 0,\n",
       "        0, 0, 2, 0]])"
      ]
     },
     "execution_count": 6,
     "metadata": {},
     "output_type": "execute_result"
    }
   ],
   "source": [
    "lcv = LetterCountVectorizer()\n",
    "example_phi = lcv.transform([\"aaabc\",\n",
    "    \"To help his memory I mentioned my name.\"])\n",
    "example_phi"
   ]
  },
  {
   "cell_type": "markdown",
   "metadata": {},
   "source": [
    "#### Applying the LetterCountVectorizer to Real Data"
   ]
  },
  {
   "cell_type": "code",
   "execution_count": 7,
   "metadata": {},
   "outputs": [],
   "source": [
    "np.random.seed(23)"
   ]
  },
  {
   "cell_type": "code",
   "execution_count": 8,
   "metadata": {},
   "outputs": [],
   "source": [
    "f = open(\"mobydick.txt\", \"r\")\n",
    "mobydick = f.read()\n",
    "f.close()"
   ]
  },
  {
   "cell_type": "code",
   "execution_count": 9,
   "metadata": {},
   "outputs": [
    {
     "data": {
      "text/plain": [
       "'Call me Ishmael.  Some years ago--never mind how long\\nprecisely--having little or no money in my pur'"
      ]
     },
     "execution_count": 9,
     "metadata": {},
     "output_type": "execute_result"
    }
   ],
   "source": [
    "mobydick[0:100]"
   ]
  },
  {
   "cell_type": "code",
   "execution_count": 10,
   "metadata": {},
   "outputs": [],
   "source": [
    "mobydick_crude_lines = mobydick.split('.')"
   ]
  },
  {
   "cell_type": "code",
   "execution_count": 11,
   "metadata": {},
   "outputs": [
    {
     "data": {
      "text/plain": [
       "7250"
      ]
     },
     "execution_count": 11,
     "metadata": {},
     "output_type": "execute_result"
    }
   ],
   "source": [
    "len(mobydick_crude_lines)"
   ]
  },
  {
   "cell_type": "code",
   "execution_count": 12,
   "metadata": {
    "scrolled": true
   },
   "outputs": [
    {
     "data": {
      "text/plain": [
       "['Call me Ishmael',\n",
       " '  Some years ago--never mind how long\\nprecisely--having little or no money in my purse, and nothing\\nparticular to interest me on shore, I thought I would sail about a\\nlittle and see the watery part of the world',\n",
       " '  It is a way I have of\\ndriving off the spleen and regulating the circulation',\n",
       " \"  Whenever I\\nfind myself growing grim about the mouth; whenever it is a damp,\\ndrizzly November in my soul; whenever I find myself involuntarily\\npausing before coffin warehouses, and bringing up the rear of every\\nfuneral I meet; and especially whenever my hypos get such an upper\\nhand of me, that it requires a strong moral principle to prevent me\\nfrom deliberately stepping into the street, and methodically knocking\\npeople's hats off--then, I account it high time to get to sea as soon\\nas I can\",\n",
       " '  This is my substitute for pistol and ball']"
      ]
     },
     "execution_count": 12,
     "metadata": {},
     "output_type": "execute_result"
    }
   ],
   "source": [
    "mobydick_crude_lines[0:5]"
   ]
  },
  {
   "cell_type": "code",
   "execution_count": 13,
   "metadata": {},
   "outputs": [],
   "source": [
    "mobydick_train, mobydick_test = np.split(mobydick_crude_lines, [6000])"
   ]
  },
  {
   "cell_type": "markdown",
   "metadata": {},
   "source": [
    "To use our letter count vectorizer for classification, we'll need to create a dataset. Let's use \"Great Expectations\" as our second book. Lines from \"Moby Dick\" will be class 0, and lines from \"Great Expectations will be class 1. "
   ]
  },
  {
   "cell_type": "code",
   "execution_count": 14,
   "metadata": {},
   "outputs": [],
   "source": [
    "f = open(\"great_expectations.txt\", \"r\")\n",
    "ge = f.read()\n",
    "f.close()"
   ]
  },
  {
   "cell_type": "code",
   "execution_count": 15,
   "metadata": {},
   "outputs": [],
   "source": [
    "ge_crude_lines = ge.split('.')"
   ]
  },
  {
   "cell_type": "code",
   "execution_count": 16,
   "metadata": {},
   "outputs": [
    {
     "data": {
      "text/plain": [
       "6634"
      ]
     },
     "execution_count": 16,
     "metadata": {},
     "output_type": "execute_result"
    }
   ],
   "source": [
    "len(ge_crude_lines)"
   ]
  },
  {
   "cell_type": "code",
   "execution_count": 17,
   "metadata": {},
   "outputs": [],
   "source": [
    "ge_train, ge_test = np.split(ge_crude_lines, [5000])"
   ]
  },
  {
   "cell_type": "markdown",
   "metadata": {},
   "source": [
    "First we combine both books into one big array:"
   ]
  },
  {
   "cell_type": "code",
   "execution_count": 18,
   "metadata": {},
   "outputs": [],
   "source": [
    "both_books_train = np.concatenate([mobydick_train, ge_train])"
   ]
  },
  {
   "cell_type": "markdown",
   "metadata": {},
   "source": [
    "Then we create `y`, which has the class for each sentence."
   ]
  },
  {
   "cell_type": "code",
   "execution_count": 19,
   "metadata": {},
   "outputs": [],
   "source": [
    "y_train = np.concatenate([np.zeros(len(mobydick_train)), np.ones(len(ge_train))])"
   ]
  },
  {
   "cell_type": "markdown",
   "metadata": {},
   "source": [
    "For example, line #3756 is from Moby Dick (class 0)."
   ]
  },
  {
   "cell_type": "code",
   "execution_count": 20,
   "metadata": {},
   "outputs": [
    {
     "data": {
      "text/plain": [
       "'\\n\\n\\nA word concerning an incident in the last chapter'"
      ]
     },
     "execution_count": 20,
     "metadata": {},
     "output_type": "execute_result"
    }
   ],
   "source": [
    "both_books_train[3756]"
   ]
  },
  {
   "cell_type": "code",
   "execution_count": 21,
   "metadata": {
    "scrolled": true
   },
   "outputs": [
    {
     "data": {
      "text/plain": [
       "0.0"
      ]
     },
     "execution_count": 21,
     "metadata": {},
     "output_type": "execute_result"
    }
   ],
   "source": [
    "y_train[3756]"
   ]
  },
  {
   "cell_type": "markdown",
   "metadata": {},
   "source": [
    "#### Training and Evaluating Models"
   ]
  },
  {
   "cell_type": "markdown",
   "metadata": {},
   "source": [
    "To create a Logistic Regression model, we simply vectorize our books, then fit a model as usual."
   ]
  },
  {
   "cell_type": "code",
   "execution_count": 22,
   "metadata": {},
   "outputs": [],
   "source": [
    "phi_both_books_train = lcv.transform(both_books_train)"
   ]
  },
  {
   "cell_type": "code",
   "execution_count": 23,
   "metadata": {},
   "outputs": [
    {
     "data": {
      "text/plain": [
       "array([2, 0, 3, 2, 4, 1, 0, 2, 2, 0, 2, 2, 1, 1, 2, 1, 0, 3, 1, 2, 1, 0,\n",
       "       0, 0, 0, 0])"
      ]
     },
     "execution_count": 23,
     "metadata": {},
     "output_type": "execute_result"
    }
   ],
   "source": [
    "phi_both_books_train[10998]"
   ]
  },
  {
   "cell_type": "markdown",
   "metadata": {},
   "source": [
    "For example, line 3756 is turned into the letter count vector below:"
   ]
  },
  {
   "cell_type": "code",
   "execution_count": 24,
   "metadata": {},
   "outputs": [
    {
     "data": {
      "text/plain": [
       "array([4, 0, 4, 2, 4, 0, 1, 2, 4, 0, 0, 1, 0, 7, 2, 1, 0, 3, 1, 4, 0, 0,\n",
       "       1, 0, 0, 0])"
      ]
     },
     "execution_count": 24,
     "metadata": {},
     "output_type": "execute_result"
    }
   ],
   "source": [
    "phi_both_books_train[3756]"
   ]
  },
  {
   "cell_type": "code",
   "execution_count": 25,
   "metadata": {},
   "outputs": [
    {
     "data": {
      "text/plain": [
       "(11000, 26)"
      ]
     },
     "execution_count": 25,
     "metadata": {},
     "output_type": "execute_result"
    }
   ],
   "source": [
    "phi_both_books_train.shape"
   ]
  },
  {
   "cell_type": "code",
   "execution_count": 26,
   "metadata": {
    "scrolled": true
   },
   "outputs": [
    {
     "data": {
      "text/plain": [
       "LogisticRegression(C=1.0, class_weight=None, dual=False, fit_intercept=True,\n",
       "                   intercept_scaling=1, l1_ratio=None, max_iter=10000,\n",
       "                   multi_class='auto', n_jobs=None, penalty='l2',\n",
       "                   random_state=None, solver='lbfgs', tol=0.0001, verbose=0,\n",
       "                   warm_start=False)"
      ]
     },
     "execution_count": 26,
     "metadata": {},
     "output_type": "execute_result"
    }
   ],
   "source": [
    "from sklearn.linear_model import LogisticRegression\n",
    "\n",
    "lm = LogisticRegression(max_iter = 10000)\n",
    "lm.fit(phi_both_books_train, y_train)"
   ]
  },
  {
   "cell_type": "markdown",
   "metadata": {},
   "source": [
    "We can now use this model as usual:"
   ]
  },
  {
   "cell_type": "code",
   "execution_count": 27,
   "metadata": {},
   "outputs": [
    {
     "data": {
      "text/plain": [
       "array([0., 0., 1., ..., 1., 1., 0.])"
      ]
     },
     "execution_count": 27,
     "metadata": {},
     "output_type": "execute_result"
    }
   ],
   "source": [
    "lm_predictions_train = lm.predict(phi_both_books_train)\n",
    "lm_predictions_train"
   ]
  },
  {
   "cell_type": "markdown",
   "metadata": {},
   "source": [
    "For example, the model predicts that line 0 is from Moby Dick."
   ]
  },
  {
   "cell_type": "code",
   "execution_count": 28,
   "metadata": {},
   "outputs": [
    {
     "data": {
      "text/plain": [
       "'Call me Ishmael'"
      ]
     },
     "execution_count": 28,
     "metadata": {},
     "output_type": "execute_result"
    }
   ],
   "source": [
    "both_books_train[0]"
   ]
  },
  {
   "cell_type": "code",
   "execution_count": 29,
   "metadata": {
    "scrolled": false
   },
   "outputs": [
    {
     "data": {
      "text/plain": [
       "0.0"
      ]
     },
     "execution_count": 29,
     "metadata": {},
     "output_type": "execute_result"
    }
   ],
   "source": [
    "lm_predictions_train[0]"
   ]
  },
  {
   "cell_type": "code",
   "execution_count": 30,
   "metadata": {},
   "outputs": [
    {
     "data": {
      "text/plain": [
       "0.0"
      ]
     },
     "execution_count": 30,
     "metadata": {},
     "output_type": "execute_result"
    }
   ],
   "source": [
    "y_train[0]"
   ]
  },
  {
   "cell_type": "code",
   "execution_count": 31,
   "metadata": {},
   "outputs": [
    {
     "data": {
      "text/plain": [
       "0.0"
      ]
     },
     "execution_count": 31,
     "metadata": {},
     "output_type": "execute_result"
    }
   ],
   "source": [
    "lm_predictions_train[10999]"
   ]
  },
  {
   "cell_type": "code",
   "execution_count": 32,
   "metadata": {},
   "outputs": [
    {
     "data": {
      "text/plain": [
       "1.0"
      ]
     },
     "execution_count": 32,
     "metadata": {},
     "output_type": "execute_result"
    }
   ],
   "source": [
    "y_train[10999]"
   ]
  },
  {
   "cell_type": "markdown",
   "metadata": {},
   "source": [
    "It does this by computing the product of the vectorized sentence with the coefficients:"
   ]
  },
  {
   "cell_type": "code",
   "execution_count": 33,
   "metadata": {
    "scrolled": true
   },
   "outputs": [
    {
     "data": {
      "text/plain": [
       "array([4, 0, 4, 2, 4, 0, 1, 2, 4, 0, 0, 1, 0, 7, 2, 1, 0, 3, 1, 4, 0, 0,\n",
       "       1, 0, 0, 0])"
      ]
     },
     "execution_count": 33,
     "metadata": {},
     "output_type": "execute_result"
    }
   ],
   "source": [
    "lcv.transform([both_books_train[3756]])[0]"
   ]
  },
  {
   "cell_type": "code",
   "execution_count": 34,
   "metadata": {},
   "outputs": [
    {
     "data": {
      "text/plain": [
       "array([0.33221884])"
      ]
     },
     "execution_count": 34,
     "metadata": {},
     "output_type": "execute_result"
    }
   ],
   "source": [
    "lm.intercept_"
   ]
  },
  {
   "cell_type": "code",
   "execution_count": 35,
   "metadata": {},
   "outputs": [
    {
     "data": {
      "text/plain": [
       "array([-0.05174086])"
      ]
     },
     "execution_count": 35,
     "metadata": {},
     "output_type": "execute_result"
    }
   ],
   "source": [
    "np.sum(lcv.transform([both_books_train[3756]])[0] * lm.coef_[0]) + lm.intercept_"
   ]
  },
  {
   "cell_type": "code",
   "execution_count": 36,
   "metadata": {},
   "outputs": [],
   "source": [
    "def sigma(x):\n",
    "    return 1 / (1 + np.exp(-x))"
   ]
  },
  {
   "cell_type": "code",
   "execution_count": 37,
   "metadata": {},
   "outputs": [
    {
     "data": {
      "text/plain": [
       "0.4870676699842183"
      ]
     },
     "execution_count": 37,
     "metadata": {},
     "output_type": "execute_result"
    }
   ],
   "source": [
    "sigma(-0.05174086)"
   ]
  },
  {
   "cell_type": "markdown",
   "metadata": {},
   "source": [
    "The probability above is, of course, the same that we get from `predict_proba`."
   ]
  },
  {
   "cell_type": "code",
   "execution_count": 38,
   "metadata": {},
   "outputs": [
    {
     "data": {
      "text/plain": [
       "array([[0.51293233, 0.48706767]])"
      ]
     },
     "execution_count": 38,
     "metadata": {},
     "output_type": "execute_result"
    }
   ],
   "source": [
    "lm.predict_proba(lcv.transform([both_books_train[3756]]))"
   ]
  },
  {
   "cell_type": "markdown",
   "metadata": {},
   "source": [
    "Overall, the training accuracy is seemingly OK, but not great, at around 70%."
   ]
  },
  {
   "cell_type": "code",
   "execution_count": 39,
   "metadata": {
    "scrolled": false
   },
   "outputs": [
    {
     "data": {
      "text/plain": [
       "0.6993636363636364"
      ]
     },
     "execution_count": 39,
     "metadata": {},
     "output_type": "execute_result"
    }
   ],
   "source": [
    "from sklearn.metrics import accuracy_score\n",
    "accuracy_score(y_train, lm_predictions_train)"
   ]
  },
  {
   "cell_type": "markdown",
   "metadata": {},
   "source": [
    "We can also look at the confusion matrix:"
   ]
  },
  {
   "cell_type": "code",
   "execution_count": 40,
   "metadata": {},
   "outputs": [
    {
     "data": {
      "image/png": "[encoded data removed]",
      "text/plain": [
       "<Figure size 432x288 with 1 Axes>"
      ]
     },
     "metadata": {},
     "output_type": "display_data"
    }
   ],
   "source": [
    "from sklearn.metrics import confusion_matrix\n",
    "cm = confusion_matrix(y_train, lm_predictions_train)\n",
    "sns.heatmap(cm, annot=True, fmt = \"d\", cmap = \"Blues\", annot_kws={\"size\": 20}, cbar = False)\n",
    "plt.ylabel('True')\n",
    "plt.xlabel('Predicted')\n",
    "sns.set(font_scale = 2)"
   ]
  },
  {
   "cell_type": "markdown",
   "metadata": {},
   "source": [
    "Below, we compute the test accuracy and see it is about the same, at 70%."
   ]
  },
  {
   "cell_type": "code",
   "execution_count": 41,
   "metadata": {},
   "outputs": [
    {
     "data": {
      "text/plain": [
       "0.6952149791955617"
      ]
     },
     "execution_count": 41,
     "metadata": {},
     "output_type": "execute_result"
    }
   ],
   "source": [
    "both_books_test = np.concatenate([mobydick_test, ge_test])\n",
    "y_test = np.concatenate([np.zeros(len(mobydick_test)), np.ones(len(ge_test))])\n",
    "phi_both_books_test = lcv.transform(both_books_test)\n",
    "lm_predictions_test = lm.predict(phi_both_books_test)\n",
    "accuracy_score(y_test, lm_predictions_test)"
   ]
  },
  {
   "cell_type": "markdown",
   "metadata": {},
   "source": [
    "To get a visual picture of how such models, let's try fitting a decision tree with a really high min $\\Delta WG$."
   ]
  },
  {
   "cell_type": "code",
   "execution_count": 42,
   "metadata": {},
   "outputs": [
    {
     "data": {
      "text/plain": [
       "DecisionTreeClassifier(ccp_alpha=0.0, class_weight=None, criterion='gini',\n",
       "                       max_depth=None, max_features=None, max_leaf_nodes=None,\n",
       "                       min_impurity_decrease=0.003, min_impurity_split=None,\n",
       "                       min_samples_leaf=1, min_samples_split=2,\n",
       "                       min_weight_fraction_leaf=0.0, presort='deprecated',\n",
       "                       random_state=None, splitter='best')"
      ]
     },
     "execution_count": 42,
     "metadata": {},
     "output_type": "execute_result"
    }
   ],
   "source": [
    "from sklearn.tree import DecisionTreeClassifier\n",
    "dt = DecisionTreeClassifier(min_impurity_decrease = 0.003)\n",
    "dt.fit(phi_both_books_train, y_train)"
   ]
  },
  {
   "cell_type": "code",
   "execution_count": 43,
   "metadata": {},
   "outputs": [
    {
     "data": {
      "text/plain": [
       "0.637"
      ]
     },
     "execution_count": 43,
     "metadata": {},
     "output_type": "execute_result"
    }
   ],
   "source": [
    "accuracy_score(y_train, dt.predict(phi_both_books_train))"
   ]
  },
  {
   "cell_type": "code",
   "execution_count": 44,
   "metadata": {
    "scrolled": true
   },
   "outputs": [
    {
     "data": {
      "image/svg+xml": [
       "<?xml version=\"1.0\" encoding=\"UTF-8\" standalone=\"no\"?>\n",
       "<!DOCTYPE svg PUBLIC \"-//W3C//DTD SVG 1.1//EN\"\n",
       " \"http://www.w3.org/Graphics/SVG/1.1/DTD/svg11.dtd\">\n",
       "<!-- Generated by graphviz version 2.40.1 (20161225.0304)\n",
       " -->\n",
       "<!-- Title: Tree Pages: 1 -->\n",
       "<svg width=\"811pt\" height=\"671pt\"\n",
       " viewBox=\"0.00 0.00 810.50 671.00\" xmlns=\"http://www.w3.org/2000/svg\" xmlns:xlink=\"http://www.w3.org/1999/xlink\">\n",
       "<g id=\"graph0\" class=\"graph\" transform=\"scale(1 1) rotate(0) translate(4 667)\">\n",
       "<title>Tree</title>\n",
       "<polygon fill=\"#ffffff\" stroke=\"transparent\" points=\"-4,4 -4,-667 806.5,-667 806.5,4 -4,4\"/>\n",
       "<!-- 0 -->\n",
       "<g id=\"node1\" class=\"node\">\n",
       "<title>0</title>\n",
       "<path fill=\"#fbeade\" stroke=\"#000000\" d=\"M557.5,-663C557.5,-663 441.5,-663 441.5,-663 435.5,-663 429.5,-657 429.5,-651 429.5,-651 429.5,-592 429.5,-592 429.5,-586 435.5,-580 441.5,-580 441.5,-580 557.5,-580 557.5,-580 563.5,-580 569.5,-586 569.5,-592 569.5,-592 569.5,-651 569.5,-651 569.5,-657 563.5,-663 557.5,-663\"/>\n",
       "<text text-anchor=\"start\" x=\"480.5\" y=\"-647.8\" font-family=\"Helvetica,sans-Serif\" font-size=\"14.00\" fill=\"#000000\">l ≤ 3.5</text>\n",
       "<text text-anchor=\"start\" x=\"464\" y=\"-632.8\" font-family=\"Helvetica,sans-Serif\" font-size=\"14.00\" fill=\"#000000\">gini = 0.496</text>\n",
       "<text text-anchor=\"start\" x=\"447\" y=\"-617.8\" font-family=\"Helvetica,sans-Serif\" font-size=\"14.00\" fill=\"#000000\">samples = 11000</text>\n",
       "<text text-anchor=\"start\" x=\"437.5\" y=\"-602.8\" font-family=\"Helvetica,sans-Serif\" font-size=\"14.00\" fill=\"#000000\">value = [6000, 5000]</text>\n",
       "<text text-anchor=\"start\" x=\"444\" y=\"-587.8\" font-family=\"Helvetica,sans-Serif\" font-size=\"14.00\" fill=\"#000000\">class = Moby Dick</text>\n",
       "</g>\n",
       "<!-- 1 -->\n",
       "<g id=\"node2\" class=\"node\">\n",
       "<title>1</title>\n",
       "<path fill=\"#cee7f9\" stroke=\"#000000\" d=\"M488,-544C488,-544 333,-544 333,-544 327,-544 321,-538 321,-532 321,-532 321,-473 321,-473 321,-467 327,-461 333,-461 333,-461 488,-461 488,-461 494,-461 500,-467 500,-473 500,-473 500,-532 500,-532 500,-538 494,-544 488,-544\"/>\n",
       "<text text-anchor=\"start\" x=\"389\" y=\"-528.8\" font-family=\"Helvetica,sans-Serif\" font-size=\"14.00\" fill=\"#000000\">q ≤ 1.5</text>\n",
       "<text text-anchor=\"start\" x=\"378.5\" y=\"-513.8\" font-family=\"Helvetica,sans-Serif\" font-size=\"14.00\" fill=\"#000000\">gini = 0.49</text>\n",
       "<text text-anchor=\"start\" x=\"362\" y=\"-498.8\" font-family=\"Helvetica,sans-Serif\" font-size=\"14.00\" fill=\"#000000\">samples = 5598</text>\n",
       "<text text-anchor=\"start\" x=\"348.5\" y=\"-483.8\" font-family=\"Helvetica,sans-Serif\" font-size=\"14.00\" fill=\"#000000\">value = [2402, 3196]</text>\n",
       "<text text-anchor=\"start\" x=\"329\" y=\"-468.8\" font-family=\"Helvetica,sans-Serif\" font-size=\"14.00\" fill=\"#000000\">class = Great Expectations</text>\n",
       "</g>\n",
       "<!-- 0&#45;&gt;1 -->\n",
       "<g id=\"edge1\" class=\"edge\">\n",
       "<title>0&#45;&gt;1</title>\n",
       "<path fill=\"none\" stroke=\"#000000\" d=\"M468.3721,-579.8796C461.771,-571.0534 454.7371,-561.6485 447.9298,-552.5466\"/>\n",
       "<polygon fill=\"#000000\" stroke=\"#000000\" points=\"450.5528,-550.2099 441.7607,-544.2981 444.9472,-554.4024 450.5528,-550.2099\"/>\n",
       "<text text-anchor=\"middle\" x=\"438.1919\" y=\"-565.342\" font-family=\"Helvetica,sans-Serif\" font-size=\"14.00\" fill=\"#000000\">True</text>\n",
       "</g>\n",
       "<!-- 10 -->\n",
       "<g id=\"node11\" class=\"node\">\n",
       "<title>10</title>\n",
       "<path fill=\"#f2c09c\" stroke=\"#000000\" d=\"M646.5,-544C646.5,-544 530.5,-544 530.5,-544 524.5,-544 518.5,-538 518.5,-532 518.5,-532 518.5,-473 518.5,-473 518.5,-467 524.5,-461 530.5,-461 530.5,-461 646.5,-461 646.5,-461 652.5,-461 658.5,-467 658.5,-473 658.5,-473 658.5,-532 658.5,-532 658.5,-538 652.5,-544 646.5,-544\"/>\n",
       "<text text-anchor=\"start\" x=\"569.5\" y=\"-528.8\" font-family=\"Helvetica,sans-Serif\" font-size=\"14.00\" fill=\"#000000\">l ≤ 8.5</text>\n",
       "<text text-anchor=\"start\" x=\"553\" y=\"-513.8\" font-family=\"Helvetica,sans-Serif\" font-size=\"14.00\" fill=\"#000000\">gini = 0.445</text>\n",
       "<text text-anchor=\"start\" x=\"540\" y=\"-498.8\" font-family=\"Helvetica,sans-Serif\" font-size=\"14.00\" fill=\"#000000\">samples = 5402</text>\n",
       "<text text-anchor=\"start\" x=\"526.5\" y=\"-483.8\" font-family=\"Helvetica,sans-Serif\" font-size=\"14.00\" fill=\"#000000\">value = [3598, 1804]</text>\n",
       "<text text-anchor=\"start\" x=\"533\" y=\"-468.8\" font-family=\"Helvetica,sans-Serif\" font-size=\"14.00\" fill=\"#000000\">class = Moby Dick</text>\n",
       "</g>\n",
       "<!-- 0&#45;&gt;10 -->\n",
       "<g id=\"edge10\" class=\"edge\">\n",
       "<title>0&#45;&gt;10</title>\n",
       "<path fill=\"none\" stroke=\"#000000\" d=\"M530.6279,-579.8796C537.229,-571.0534 544.2629,-561.6485 551.0702,-552.5466\"/>\n",
       "<polygon fill=\"#000000\" stroke=\"#000000\" points=\"554.0528,-554.4024 557.2393,-544.2981 548.4472,-550.2099 554.0528,-554.4024\"/>\n",
       "<text text-anchor=\"middle\" x=\"560.8081\" y=\"-565.342\" font-family=\"Helvetica,sans-Serif\" font-size=\"14.00\" fill=\"#000000\">False</text>\n",
       "</g>\n",
       "<!-- 2 -->\n",
       "<g id=\"node3\" class=\"node\">\n",
       "<title>2</title>\n",
       "<path fill=\"#c9e4f8\" stroke=\"#000000\" d=\"M324,-425C324,-425 169,-425 169,-425 163,-425 157,-419 157,-413 157,-413 157,-354 157,-354 157,-348 163,-342 169,-342 169,-342 324,-342 324,-342 330,-342 336,-348 336,-354 336,-354 336,-413 336,-413 336,-419 330,-425 324,-425\"/>\n",
       "<text text-anchor=\"start\" x=\"227.5\" y=\"-409.8\" font-family=\"Helvetica,sans-Serif\" font-size=\"14.00\" fill=\"#000000\">j ≤ 0.5</text>\n",
       "<text text-anchor=\"start\" x=\"211\" y=\"-394.8\" font-family=\"Helvetica,sans-Serif\" font-size=\"14.00\" fill=\"#000000\">gini = 0.488</text>\n",
       "<text text-anchor=\"start\" x=\"198\" y=\"-379.8\" font-family=\"Helvetica,sans-Serif\" font-size=\"14.00\" fill=\"#000000\">samples = 5517</text>\n",
       "<text text-anchor=\"start\" x=\"184.5\" y=\"-364.8\" font-family=\"Helvetica,sans-Serif\" font-size=\"14.00\" fill=\"#000000\">value = [2324, 3193]</text>\n",
       "<text text-anchor=\"start\" x=\"165\" y=\"-349.8\" font-family=\"Helvetica,sans-Serif\" font-size=\"14.00\" fill=\"#000000\">class = Great Expectations</text>\n",
       "</g>\n",
       "<!-- 1&#45;&gt;2 -->\n",
       "<g id=\"edge2\" class=\"edge\">\n",
       "<title>1&#45;&gt;2</title>\n",
       "<path fill=\"none\" stroke=\"#000000\" d=\"M353.1408,-460.8796C339.9075,-451.2774 325.7303,-440.9903 312.1736,-431.1534\"/>\n",
       "<polygon fill=\"#000000\" stroke=\"#000000\" points=\"313.9762,-428.1371 303.8269,-425.0969 309.8651,-433.8027 313.9762,-428.1371\"/>\n",
       "</g>\n",
       "<!-- 9 -->\n",
       "<g id=\"node10\" class=\"node\">\n",
       "<title>9</title>\n",
       "<path fill=\"#e68641\" stroke=\"#000000\" d=\"M469,-417.5C469,-417.5 366,-417.5 366,-417.5 360,-417.5 354,-411.5 354,-405.5 354,-405.5 354,-361.5 354,-361.5 354,-355.5 360,-349.5 366,-349.5 366,-349.5 469,-349.5 469,-349.5 475,-349.5 481,-355.5 481,-361.5 481,-361.5 481,-405.5 481,-405.5 481,-411.5 475,-417.5 469,-417.5\"/>\n",
       "<text text-anchor=\"start\" x=\"382\" y=\"-402.3\" font-family=\"Helvetica,sans-Serif\" font-size=\"14.00\" fill=\"#000000\">gini = 0.071</text>\n",
       "<text text-anchor=\"start\" x=\"376.5\" y=\"-387.3\" font-family=\"Helvetica,sans-Serif\" font-size=\"14.00\" fill=\"#000000\">samples = 81</text>\n",
       "<text text-anchor=\"start\" x=\"374.5\" y=\"-372.3\" font-family=\"Helvetica,sans-Serif\" font-size=\"14.00\" fill=\"#000000\">value = [78, 3]</text>\n",
       "<text text-anchor=\"start\" x=\"362\" y=\"-357.3\" font-family=\"Helvetica,sans-Serif\" font-size=\"14.00\" fill=\"#000000\">class = Moby Dick</text>\n",
       "</g>\n",
       "<!-- 1&#45;&gt;9 -->\n",
       "<g id=\"edge9\" class=\"edge\">\n",
       "<title>1&#45;&gt;9</title>\n",
       "<path fill=\"none\" stroke=\"#000000\" d=\"M412.9483,-460.8796C413.5757,-450.2134 414.2528,-438.7021 414.8881,-427.9015\"/>\n",
       "<polygon fill=\"#000000\" stroke=\"#000000\" points=\"418.3881,-428.0032 415.4815,-417.8149 411.4002,-427.5921 418.3881,-428.0032\"/>\n",
       "</g>\n",
       "<!-- 3 -->\n",
       "<g id=\"node4\" class=\"node\">\n",
       "<title>3</title>\n",
       "<path fill=\"#d7ebfa\" stroke=\"#000000\" d=\"M226,-306C226,-306 71,-306 71,-306 65,-306 59,-300 59,-294 59,-294 59,-235 59,-235 59,-229 65,-223 71,-223 71,-223 226,-223 226,-223 232,-223 238,-229 238,-235 238,-235 238,-294 238,-294 238,-300 232,-306 226,-306\"/>\n",
       "<text text-anchor=\"start\" x=\"125\" y=\"-290.8\" font-family=\"Helvetica,sans-Serif\" font-size=\"14.00\" fill=\"#000000\">m ≤ 0.5</text>\n",
       "<text text-anchor=\"start\" x=\"113\" y=\"-275.8\" font-family=\"Helvetica,sans-Serif\" font-size=\"14.00\" fill=\"#000000\">gini = 0.494</text>\n",
       "<text text-anchor=\"start\" x=\"100\" y=\"-260.8\" font-family=\"Helvetica,sans-Serif\" font-size=\"14.00\" fill=\"#000000\">samples = 4863</text>\n",
       "<text text-anchor=\"start\" x=\"86.5\" y=\"-245.8\" font-family=\"Helvetica,sans-Serif\" font-size=\"14.00\" fill=\"#000000\">value = [2161, 2702]</text>\n",
       "<text text-anchor=\"start\" x=\"67\" y=\"-230.8\" font-family=\"Helvetica,sans-Serif\" font-size=\"14.00\" fill=\"#000000\">class = Great Expectations</text>\n",
       "</g>\n",
       "<!-- 2&#45;&gt;3 -->\n",
       "<g id=\"edge3\" class=\"edge\">\n",
       "<title>2&#45;&gt;3</title>\n",
       "<path fill=\"none\" stroke=\"#000000\" d=\"M212.2244,-341.8796C204.8816,-332.9633 197.0524,-323.4565 189.4854,-314.268\"/>\n",
       "<polygon fill=\"#000000\" stroke=\"#000000\" points=\"191.9808,-311.7924 182.9219,-306.2981 186.5773,-316.2424 191.9808,-311.7924\"/>\n",
       "</g>\n",
       "<!-- 8 -->\n",
       "<g id=\"node9\" class=\"node\">\n",
       "<title>8</title>\n",
       "<path fill=\"#7bbeee\" stroke=\"#000000\" d=\"M423,-298.5C423,-298.5 268,-298.5 268,-298.5 262,-298.5 256,-292.5 256,-286.5 256,-286.5 256,-242.5 256,-242.5 256,-236.5 262,-230.5 268,-230.5 268,-230.5 423,-230.5 423,-230.5 429,-230.5 435,-236.5 435,-242.5 435,-242.5 435,-286.5 435,-286.5 435,-292.5 429,-298.5 423,-298.5\"/>\n",
       "<text text-anchor=\"start\" x=\"310\" y=\"-283.3\" font-family=\"Helvetica,sans-Serif\" font-size=\"14.00\" fill=\"#000000\">gini = 0.374</text>\n",
       "<text text-anchor=\"start\" x=\"300.5\" y=\"-268.3\" font-family=\"Helvetica,sans-Serif\" font-size=\"14.00\" fill=\"#000000\">samples = 654</text>\n",
       "<text text-anchor=\"start\" x=\"291\" y=\"-253.3\" font-family=\"Helvetica,sans-Serif\" font-size=\"14.00\" fill=\"#000000\">value = [163, 491]</text>\n",
       "<text text-anchor=\"start\" x=\"264\" y=\"-238.3\" font-family=\"Helvetica,sans-Serif\" font-size=\"14.00\" fill=\"#000000\">class = Great Expectations</text>\n",
       "</g>\n",
       "<!-- 2&#45;&gt;8 -->\n",
       "<g id=\"edge8\" class=\"edge\">\n",
       "<title>2&#45;&gt;8</title>\n",
       "<path fill=\"none\" stroke=\"#000000\" d=\"M281.1254,-341.8796C290.6393,-330.4436 300.9614,-318.0363 310.4965,-306.575\"/>\n",
       "<polygon fill=\"#000000\" stroke=\"#000000\" points=\"313.2474,-308.7409 316.9523,-298.8149 307.8661,-304.264 313.2474,-308.7409\"/>\n",
       "</g>\n",
       "<!-- 4 -->\n",
       "<g id=\"node5\" class=\"node\">\n",
       "<title>4</title>\n",
       "<path fill=\"#fae8da\" stroke=\"#000000\" d=\"M115,-179.5C115,-179.5 12,-179.5 12,-179.5 6,-179.5 0,-173.5 0,-167.5 0,-167.5 0,-123.5 0,-123.5 0,-117.5 6,-111.5 12,-111.5 12,-111.5 115,-111.5 115,-111.5 121,-111.5 127,-117.5 127,-123.5 127,-123.5 127,-167.5 127,-167.5 127,-173.5 121,-179.5 115,-179.5\"/>\n",
       "<text text-anchor=\"start\" x=\"28\" y=\"-164.3\" font-family=\"Helvetica,sans-Serif\" font-size=\"14.00\" fill=\"#000000\">gini = 0.495</text>\n",
       "<text text-anchor=\"start\" x=\"15\" y=\"-149.3\" font-family=\"Helvetica,sans-Serif\" font-size=\"14.00\" fill=\"#000000\">samples = 1342</text>\n",
       "<text text-anchor=\"start\" x=\"9\" y=\"-134.3\" font-family=\"Helvetica,sans-Serif\" font-size=\"14.00\" fill=\"#000000\">value = [740, 602]</text>\n",
       "<text text-anchor=\"start\" x=\"8\" y=\"-119.3\" font-family=\"Helvetica,sans-Serif\" font-size=\"14.00\" fill=\"#000000\">class = Moby Dick</text>\n",
       "</g>\n",
       "<!-- 3&#45;&gt;4 -->\n",
       "<g id=\"edge4\" class=\"edge\">\n",
       "<title>3&#45;&gt;4</title>\n",
       "<path fill=\"none\" stroke=\"#000000\" d=\"M118.7711,-222.8796C110.7597,-211.6636 102.0808,-199.5131 94.0266,-188.2372\"/>\n",
       "<polygon fill=\"#000000\" stroke=\"#000000\" points=\"96.6712,-185.9179 88.0107,-179.8149 90.975,-189.9866 96.6712,-185.9179\"/>\n",
       "</g>\n",
       "<!-- 5 -->\n",
       "<g id=\"node6\" class=\"node\">\n",
       "<title>5</title>\n",
       "<path fill=\"#bfdff7\" stroke=\"#000000\" d=\"M312,-187C312,-187 157,-187 157,-187 151,-187 145,-181 145,-175 145,-175 145,-116 145,-116 145,-110 151,-104 157,-104 157,-104 312,-104 312,-104 318,-104 324,-110 324,-116 324,-116 324,-175 324,-175 324,-181 318,-187 312,-187\"/>\n",
       "<text text-anchor=\"start\" x=\"215\" y=\"-171.8\" font-family=\"Helvetica,sans-Serif\" font-size=\"14.00\" fill=\"#000000\">t ≤ 3.5</text>\n",
       "<text text-anchor=\"start\" x=\"199\" y=\"-156.8\" font-family=\"Helvetica,sans-Serif\" font-size=\"14.00\" fill=\"#000000\">gini = 0.481</text>\n",
       "<text text-anchor=\"start\" x=\"186\" y=\"-141.8\" font-family=\"Helvetica,sans-Serif\" font-size=\"14.00\" fill=\"#000000\">samples = 3521</text>\n",
       "<text text-anchor=\"start\" x=\"172.5\" y=\"-126.8\" font-family=\"Helvetica,sans-Serif\" font-size=\"14.00\" fill=\"#000000\">value = [1421, 2100]</text>\n",
       "<text text-anchor=\"start\" x=\"153\" y=\"-111.8\" font-family=\"Helvetica,sans-Serif\" font-size=\"14.00\" fill=\"#000000\">class = Great Expectations</text>\n",
       "</g>\n",
       "<!-- 3&#45;&gt;5 -->\n",
       "<g id=\"edge5\" class=\"edge\">\n",
       "<title>3&#45;&gt;5</title>\n",
       "<path fill=\"none\" stroke=\"#000000\" d=\"M178.5786,-222.8796C184.9572,-214.0534 191.754,-204.6485 198.3319,-195.5466\"/>\n",
       "<polygon fill=\"#000000\" stroke=\"#000000\" points=\"201.2723,-197.4532 204.293,-187.2981 195.5988,-193.353 201.2723,-197.4532\"/>\n",
       "</g>\n",
       "<!-- 6 -->\n",
       "<g id=\"node7\" class=\"node\">\n",
       "<title>6</title>\n",
       "<path fill=\"#8ac5f0\" stroke=\"#000000\" d=\"M214,-68C214,-68 59,-68 59,-68 53,-68 47,-62 47,-56 47,-56 47,-12 47,-12 47,-6 53,0 59,0 59,0 214,0 214,0 220,0 226,-6 226,-12 226,-12 226,-56 226,-56 226,-62 220,-68 214,-68\"/>\n",
       "<text text-anchor=\"start\" x=\"101\" y=\"-52.8\" font-family=\"Helvetica,sans-Serif\" font-size=\"14.00\" fill=\"#000000\">gini = 0.412</text>\n",
       "<text text-anchor=\"start\" x=\"88\" y=\"-37.8\" font-family=\"Helvetica,sans-Serif\" font-size=\"14.00\" fill=\"#000000\">samples = 1347</text>\n",
       "<text text-anchor=\"start\" x=\"82\" y=\"-22.8\" font-family=\"Helvetica,sans-Serif\" font-size=\"14.00\" fill=\"#000000\">value = [391, 956]</text>\n",
       "<text text-anchor=\"start\" x=\"55\" y=\"-7.8\" font-family=\"Helvetica,sans-Serif\" font-size=\"14.00\" fill=\"#000000\">class = Great Expectations</text>\n",
       "</g>\n",
       "<!-- 5&#45;&gt;6 -->\n",
       "<g id=\"edge6\" class=\"edge\">\n",
       "<title>5&#45;&gt;6</title>\n",
       "<path fill=\"none\" stroke=\"#000000\" d=\"M198.0084,-103.9815C189.9305,-94.7908 181.3666,-85.0472 173.2774,-75.8436\"/>\n",
       "<polygon fill=\"#000000\" stroke=\"#000000\" points=\"175.8458,-73.4642 166.6152,-68.2637 170.588,-78.0855 175.8458,-73.4642\"/>\n",
       "</g>\n",
       "<!-- 7 -->\n",
       "<g id=\"node8\" class=\"node\">\n",
       "<title>7</title>\n",
       "<path fill=\"#ebf5fc\" stroke=\"#000000\" d=\"M411,-68C411,-68 256,-68 256,-68 250,-68 244,-62 244,-56 244,-56 244,-12 244,-12 244,-6 250,0 256,0 256,0 411,0 411,0 417,0 423,-6 423,-12 423,-12 423,-56 423,-56 423,-62 417,-68 411,-68\"/>\n",
       "<text text-anchor=\"start\" x=\"298\" y=\"-52.8\" font-family=\"Helvetica,sans-Serif\" font-size=\"14.00\" fill=\"#000000\">gini = 0.499</text>\n",
       "<text text-anchor=\"start\" x=\"285\" y=\"-37.8\" font-family=\"Helvetica,sans-Serif\" font-size=\"14.00\" fill=\"#000000\">samples = 2174</text>\n",
       "<text text-anchor=\"start\" x=\"271.5\" y=\"-22.8\" font-family=\"Helvetica,sans-Serif\" font-size=\"14.00\" fill=\"#000000\">value = [1030, 1144]</text>\n",
       "<text text-anchor=\"start\" x=\"252\" y=\"-7.8\" font-family=\"Helvetica,sans-Serif\" font-size=\"14.00\" fill=\"#000000\">class = Great Expectations</text>\n",
       "</g>\n",
       "<!-- 5&#45;&gt;7 -->\n",
       "<g id=\"edge7\" class=\"edge\">\n",
       "<title>5&#45;&gt;7</title>\n",
       "<path fill=\"none\" stroke=\"#000000\" d=\"M271.3639,-103.9815C279.5243,-94.7908 288.1756,-85.0472 296.3474,-75.8436\"/>\n",
       "<polygon fill=\"#000000\" stroke=\"#000000\" points=\"299.0553,-78.0653 303.0775,-68.2637 293.8208,-73.4177 299.0553,-78.0653\"/>\n",
       "</g>\n",
       "<!-- 11 -->\n",
       "<g id=\"node12\" class=\"node\">\n",
       "<title>11</title>\n",
       "<path fill=\"#f6d3ba\" stroke=\"#000000\" d=\"M640.5,-417.5C640.5,-417.5 524.5,-417.5 524.5,-417.5 518.5,-417.5 512.5,-411.5 512.5,-405.5 512.5,-405.5 512.5,-361.5 512.5,-361.5 512.5,-355.5 518.5,-349.5 524.5,-349.5 524.5,-349.5 640.5,-349.5 640.5,-349.5 646.5,-349.5 652.5,-355.5 652.5,-361.5 652.5,-361.5 652.5,-405.5 652.5,-405.5 652.5,-411.5 646.5,-417.5 640.5,-417.5\"/>\n",
       "<text text-anchor=\"start\" x=\"547\" y=\"-402.3\" font-family=\"Helvetica,sans-Serif\" font-size=\"14.00\" fill=\"#000000\">gini = 0.478</text>\n",
       "<text text-anchor=\"start\" x=\"534\" y=\"-387.3\" font-family=\"Helvetica,sans-Serif\" font-size=\"14.00\" fill=\"#000000\">samples = 3670</text>\n",
       "<text text-anchor=\"start\" x=\"520.5\" y=\"-372.3\" font-family=\"Helvetica,sans-Serif\" font-size=\"14.00\" fill=\"#000000\">value = [2223, 1447]</text>\n",
       "<text text-anchor=\"start\" x=\"527\" y=\"-357.3\" font-family=\"Helvetica,sans-Serif\" font-size=\"14.00\" fill=\"#000000\">class = Moby Dick</text>\n",
       "</g>\n",
       "<!-- 10&#45;&gt;11 -->\n",
       "<g id=\"edge11\" class=\"edge\">\n",
       "<title>10&#45;&gt;11</title>\n",
       "<path fill=\"none\" stroke=\"#000000\" d=\"M586.4015,-460.8796C585.8637,-450.2134 585.2833,-438.7021 584.7387,-427.9015\"/>\n",
       "<polygon fill=\"#000000\" stroke=\"#000000\" points=\"588.2294,-427.626 584.2302,-417.8149 581.2383,-427.9785 588.2294,-427.626\"/>\n",
       "</g>\n",
       "<!-- 12 -->\n",
       "<g id=\"node13\" class=\"node\">\n",
       "<title>12</title>\n",
       "<path fill=\"#eca26c\" stroke=\"#000000\" d=\"M790.5,-417.5C790.5,-417.5 682.5,-417.5 682.5,-417.5 676.5,-417.5 670.5,-411.5 670.5,-405.5 670.5,-405.5 670.5,-361.5 670.5,-361.5 670.5,-355.5 676.5,-349.5 682.5,-349.5 682.5,-349.5 790.5,-349.5 790.5,-349.5 796.5,-349.5 802.5,-355.5 802.5,-361.5 802.5,-361.5 802.5,-405.5 802.5,-405.5 802.5,-411.5 796.5,-417.5 790.5,-417.5\"/>\n",
       "<text text-anchor=\"start\" x=\"701\" y=\"-402.3\" font-family=\"Helvetica,sans-Serif\" font-size=\"14.00\" fill=\"#000000\">gini = 0.327</text>\n",
       "<text text-anchor=\"start\" x=\"688\" y=\"-387.3\" font-family=\"Helvetica,sans-Serif\" font-size=\"14.00\" fill=\"#000000\">samples = 1732</text>\n",
       "<text text-anchor=\"start\" x=\"678.5\" y=\"-372.3\" font-family=\"Helvetica,sans-Serif\" font-size=\"14.00\" fill=\"#000000\">value = [1375, 357]</text>\n",
       "<text text-anchor=\"start\" x=\"681\" y=\"-357.3\" font-family=\"Helvetica,sans-Serif\" font-size=\"14.00\" fill=\"#000000\">class = Moby Dick</text>\n",
       "</g>\n",
       "<!-- 10&#45;&gt;12 -->\n",
       "<g id=\"edge12\" class=\"edge\">\n",
       "<title>10&#45;&gt;12</title>\n",
       "<path fill=\"none\" stroke=\"#000000\" d=\"M640.2632,-460.8796C655.0331,-449.0038 671.1059,-436.0804 685.8108,-424.2568\"/>\n",
       "<polygon fill=\"#000000\" stroke=\"#000000\" points=\"688.2225,-426.8088 693.8226,-417.8149 683.8361,-421.3535 688.2225,-426.8088\"/>\n",
       "</g>\n",
       "</g>\n",
       "</svg>\n"
      ],
      "text/plain": [
       "<graphviz.files.Source at 0x7fb0ddaefe10>"
      ]
     },
     "execution_count": 44,
     "metadata": {},
     "output_type": "execute_result"
    }
   ],
   "source": [
    "import sklearn.tree\n",
    "import graphviz \n",
    "dot_data = sklearn.tree.export_graphviz(dt, out_file=None, \n",
    "                      feature_names=\"abcdefghijklmnopqrstuvwxyz\",  \n",
    "                      class_names=[\"Moby Dick\", \"Great Expectations\"],  \n",
    "                      filled=True, rounded=True,  \n",
    "                      special_characters=True)  \n",
    "graph = graphviz.Source(dot_data)\n",
    "#graph.render(format=\"png\", filename=\"iris_tree\")\n",
    "graph"
   ]
  },
  {
   "cell_type": "markdown",
   "metadata": {},
   "source": [
    "#### Now in Chinese"
   ]
  },
  {
   "cell_type": "markdown",
   "metadata": {},
   "source": [
    "Suppose we try to do the same thing with Chinese language texts, e.g. 三國演義 "
   ]
  },
  {
   "cell_type": "code",
   "execution_count": 45,
   "metadata": {},
   "outputs": [],
   "source": [
    "f = open(\"三國演義.txt\", 'r')\n",
    "three_kingdoms = f.read()\n",
    "f.close()"
   ]
  },
  {
   "cell_type": "code",
   "execution_count": 46,
   "metadata": {},
   "outputs": [
    {
     "data": {
      "text/plain": [
       "['第一回：宴桃園豪傑三結義，斬黃巾英雄首立功',\n",
       " '',\n",
       " '\\u3000\\u3000詞曰：',\n",
       " '',\n",
       " '\\u3000\\u3000滾滾長江東逝水，浪花淘盡英雄。是非成敗轉頭空：青山依舊在，幾度夕陽紅。白']"
      ]
     },
     "execution_count": 46,
     "metadata": {},
     "output_type": "execute_result"
    }
   ],
   "source": [
    "three_kingdoms_lines = three_kingdoms.split('\\n')\n",
    "three_kingdoms_lines[0:5]"
   ]
  },
  {
   "cell_type": "markdown",
   "metadata": {},
   "source": [
    "In principle, we could do the exact same thing as before, and create a giant list of features. Every Chinese character has a corresponding unicode number, e.g."
   ]
  },
  {
   "cell_type": "code",
   "execution_count": 47,
   "metadata": {},
   "outputs": [
    {
     "name": "stdout",
     "output_type": "stream",
     "text": [
      "傴\n"
     ]
    }
   ],
   "source": [
    "print(chr(20660))"
   ]
  },
  {
   "cell_type": "code",
   "execution_count": 48,
   "metadata": {},
   "outputs": [
    {
     "name": "stdout",
     "output_type": "stream",
     "text": [
      "28414\n"
     ]
    }
   ],
   "source": [
    "print(ord('滾'))"
   ]
  },
  {
   "cell_type": "markdown",
   "metadata": {},
   "source": [
    "One way we can be a bit more efficient is to first \"fit\" our vectorizer. That is, we can identify all of the characters in our training set that are actually used and only count those letters."
   ]
  },
  {
   "cell_type": "code",
   "execution_count": 49,
   "metadata": {},
   "outputs": [],
   "source": [
    "class ChineseCharacterVectorizer():    \n",
    "    def __init__(self):\n",
    "        self.vocabulary_ = {}\n",
    "        \n",
    "    def fit(self, texts):\n",
    "        self.vocabulary_ = {}        \n",
    "        i = 0\n",
    "        for text in texts:\n",
    "            for c in text:\n",
    "                if c not in self.vocabulary_:\n",
    "                    self.vocabulary_[c] = i\n",
    "                    i += 1\n",
    "                \n",
    "    def transform(self, texts):\n",
    "        all_text_phi = []\n",
    "        for text in texts:\n",
    "            text = text.lower()\n",
    "            this_text_phi = np.array([0] * len(self.vocabulary_))\n",
    "            for c in text:\n",
    "                index = self.vocabulary_.get(c, None)\n",
    "                if index is not None:\n",
    "                    this_text_phi[index] += 1\n",
    "            all_text_phi.append(this_text_phi)\n",
    "            \n",
    "        return np.array(all_text_phi)"
   ]
  },
  {
   "cell_type": "code",
   "execution_count": 50,
   "metadata": {},
   "outputs": [
    {
     "data": {
      "text/plain": [
       "{'\\u3000': 21,\n",
       " '。': 32,\n",
       " '一': 1,\n",
       " '三': 9,\n",
       " '依': 42,\n",
       " '傑': 8,\n",
       " '功': 20,\n",
       " '回': 2,\n",
       " '園': 6,\n",
       " '在': 44,\n",
       " '夕': 47,\n",
       " '宴': 4,\n",
       " '山': 41,\n",
       " '巾': 15,\n",
       " '幾': 45,\n",
       " '度': 46,\n",
       " '成': 35,\n",
       " '敗': 36,\n",
       " '斬': 13,\n",
       " '是': 33,\n",
       " '東': 25,\n",
       " '桃': 5,\n",
       " '水': 27,\n",
       " '江': 24,\n",
       " '浪': 28,\n",
       " '淘': 30,\n",
       " '滾': 22,\n",
       " '白': 50,\n",
       " '盡': 31,\n",
       " '空': 39,\n",
       " '立': 19,\n",
       " '第': 0,\n",
       " '紅': 49,\n",
       " '結': 10,\n",
       " '義': 11,\n",
       " '舊': 43,\n",
       " '花': 29,\n",
       " '英': 16,\n",
       " '豪': 7,\n",
       " '轉': 37,\n",
       " '逝': 26,\n",
       " '長': 23,\n",
       " '陽': 48,\n",
       " '雄': 17,\n",
       " '青': 40,\n",
       " '非': 34,\n",
       " '頭': 38,\n",
       " '首': 18,\n",
       " '黃': 14,\n",
       " '，': 12,\n",
       " '：': 3}"
      ]
     },
     "execution_count": 50,
     "metadata": {},
     "output_type": "execute_result"
    }
   ],
   "source": [
    "ccv = ChineseCharacterVectorizer()\n",
    "ccv.fit(['第一回：宴桃園豪傑三結義，斬黃巾英雄首立功', \n",
    "         '\\u3000\\u3000滾滾長江東逝水，浪花淘盡英雄。是非成敗轉頭空：青山依舊在，幾度夕陽紅。白'])\n",
    "ccv.vocabulary_"
   ]
  },
  {
   "cell_type": "code",
   "execution_count": 51,
   "metadata": {},
   "outputs": [
    {
     "data": {
      "text/plain": [
       "array([[1, 1, 1, 1, 1, 1, 1, 1, 1, 1, 1, 1, 1, 1, 1, 1, 1, 1, 1, 1, 1, 0,\n",
       "        0, 0, 0, 0, 0, 0, 0, 0, 0, 0, 0, 0, 0, 0, 0, 0, 0, 0, 0, 0, 0, 0,\n",
       "        0, 0, 0, 0, 0, 0, 0],\n",
       "       [0, 0, 0, 1, 0, 0, 0, 0, 0, 0, 0, 0, 2, 0, 0, 0, 1, 1, 0, 0, 0, 2,\n",
       "        2, 1, 1, 1, 1, 1, 1, 1, 1, 1, 2, 1, 1, 1, 1, 1, 1, 1, 1, 1, 1, 1,\n",
       "        1, 1, 1, 1, 1, 1, 1],\n",
       "       [0, 0, 0, 0, 0, 0, 0, 0, 0, 0, 0, 0, 3, 0, 0, 0, 0, 0, 0, 0, 0, 0,\n",
       "        0, 0, 0, 0, 0, 0, 0, 0, 0, 0, 0, 1, 0, 0, 0, 0, 0, 0, 0, 0, 0, 0,\n",
       "        1, 0, 0, 0, 0, 0, 0]])"
      ]
     },
     "execution_count": 51,
     "metadata": {},
     "output_type": "execute_result"
    }
   ],
   "source": [
    "ccv.transform(['第一回：宴桃園豪傑三結義，斬黃巾英雄首立功', \n",
    "               '\\u3000\\u3000滾滾長江東逝水，浪花淘盡英雄。是非成敗轉頭空：青山依舊在，幾度夕陽紅。白',\n",
    "               '网易云课堂，是网易公司打造的在线实用技能学习平台，该平台于2012年12月底正式上线，'])"
   ]
  },
  {
   "cell_type": "markdown",
   "metadata": {},
   "source": [
    "#### Words"
   ]
  },
  {
   "cell_type": "code",
   "execution_count": 52,
   "metadata": {},
   "outputs": [],
   "source": [
    "np.random.seed(23)"
   ]
  },
  {
   "cell_type": "markdown",
   "metadata": {},
   "source": [
    "Intuitively, it feels like words might be a better way to predict sentences than letters. For example, the word \"whale\" is probably much more likely to appear in a line from Moby Dick than a line from Great Expectations."
   ]
  },
  {
   "cell_type": "markdown",
   "metadata": {},
   "source": [
    "We can do roughly the same thing as we did for Chinese characters, namely:\n",
    "1. Fit the vectorizer by assigning a number to every observed word.\n",
    "2. Count the number of each word.\n",
    "\n",
    "Luckily, this already exists in sklearn as `sklearn.feature_extraction.text.CountVectorizer`."
   ]
  },
  {
   "cell_type": "code",
   "execution_count": 53,
   "metadata": {},
   "outputs": [
    {
     "data": {
      "text/plain": [
       "CountVectorizer(analyzer='word', binary=False, decode_error='strict',\n",
       "                dtype=<class 'numpy.int64'>, encoding='utf-8', input='content',\n",
       "                lowercase=True, max_df=1.0, max_features=None, min_df=1,\n",
       "                ngram_range=(1, 1), preprocessor=None, stop_words=None,\n",
       "                strip_accents=None, token_pattern='(?u)\\\\b\\\\w\\\\w+\\\\b',\n",
       "                tokenizer=None, vocabulary=None)"
      ]
     },
     "execution_count": 53,
     "metadata": {},
     "output_type": "execute_result"
    }
   ],
   "source": [
    "from sklearn.feature_extraction.text import CountVectorizer\n",
    "\n",
    "wcv = CountVectorizer()\n",
    "wcv.fit(both_books_train)"
   ]
  },
  {
   "cell_type": "markdown",
   "metadata": {},
   "source": [
    "First we train the word count vectorizer, as shown above. Below, we can see the number corresponding to each word, e.g. \"call\" is assigned the number 2385. In other words $\\phi_{2385}$ will be count of the word \"call\".\n",
    "\n",
    "Note: If you're running this notebook yourself, you might end up with different numbers than I did on my computer."
   ]
  },
  {
   "cell_type": "code",
   "execution_count": 54,
   "metadata": {
    "scrolled": true
   },
   "outputs": [
    {
     "data": {
      "text/plain": [
       "{'call': 2385,\n",
       " 'me': 10143,\n",
       " 'ishmael': 8908,\n",
       " 'some': 15000,\n",
       " 'years': 18443,\n",
       " 'ago': 499,\n",
       " 'never': 10854,\n",
       " 'mind': 10346,\n",
       " 'how': 8014,\n",
       " 'long': 9723,\n",
       " 'precisely': 12357,\n",
       " 'having': 7618,\n",
       " 'little': 9644,\n",
       " 'or': 11235,\n",
       " 'no': 10896,\n",
       " 'money': 10486,\n",
       " 'in': 8335,\n",
       " 'my': 10707,\n",
       " 'purse': 12777,\n",
       " 'and': 721,\n",
       " 'nothing': 10963,\n",
       " 'particular': 11571,\n",
       " 'to': 16531,\n",
       " 'interest': 8732,\n",
       " 'on': 11180,\n",
       " 'shore': 14482,\n",
       " 'thought': 16373,\n",
       " 'would': 18342,\n",
       " 'sail': 13870,\n",
       " 'about': 198,\n",
       " 'see': 14185,\n",
       " 'the': 16292,\n",
       " 'watery': 17914,\n",
       " 'part': 11558,\n",
       " 'of': 11123,\n",
       " 'world': 18320,\n",
       " 'it': 8929,\n",
       " 'is': 8904,\n",
       " 'way': 17928,\n",
       " 'have': 7615,\n",
       " 'driving': 5111,\n",
       " 'off': 11124,\n",
       " 'spleen': 15201,\n",
       " 'regulating': 13205,\n",
       " 'circulation': 2890,\n",
       " 'whenever': 18052,\n",
       " 'find': 6316,\n",
       " 'myself': 10710,\n",
       " 'growing': 7352,\n",
       " 'grim': 7305,\n",
       " 'mouth': 10602,\n",
       " 'damp': 4124,\n",
       " 'drizzly': 5112,\n",
       " 'november': 10983,\n",
       " 'soul': 15042,\n",
       " 'involuntarily': 8860,\n",
       " 'pausing': 11653,\n",
       " 'before': 1531,\n",
       " 'coffin': 3119,\n",
       " 'warehouses': 17859,\n",
       " 'bringing': 2148,\n",
       " 'up': 17421,\n",
       " 'rear': 13038,\n",
       " 'every': 5751,\n",
       " 'funeral': 6822,\n",
       " 'meet': 10198,\n",
       " 'especially': 5687,\n",
       " 'hypos': 8126,\n",
       " 'get': 7007,\n",
       " 'such': 15741,\n",
       " 'an': 693,\n",
       " 'upper': 17435,\n",
       " 'hand': 7482,\n",
       " 'that': 16289,\n",
       " 'requires': 13402,\n",
       " 'strong': 15615,\n",
       " 'moral': 10531,\n",
       " 'principle': 12489,\n",
       " 'prevent': 12460,\n",
       " 'from': 6779,\n",
       " 'deliberately': 4331,\n",
       " 'stepping': 15439,\n",
       " 'into': 8792,\n",
       " 'street': 15574,\n",
       " 'methodically': 10280,\n",
       " 'knocking': 9223,\n",
       " 'people': 11753,\n",
       " 'hats': 7603,\n",
       " 'then': 16303,\n",
       " 'account': 258,\n",
       " 'high': 7804,\n",
       " 'time': 16489,\n",
       " 'sea': 14132,\n",
       " 'as': 1020,\n",
       " 'soon': 15017,\n",
       " 'can': 2408,\n",
       " 'this': 16358,\n",
       " 'substitute': 15708,\n",
       " 'for': 6565,\n",
       " 'pistol': 11997,\n",
       " 'ball': 1319,\n",
       " 'with': 18237,\n",
       " 'philosophical': 11891,\n",
       " 'flourish': 6476,\n",
       " 'cato': 2586,\n",
       " 'throws': 16419,\n",
       " 'himself': 7824,\n",
       " 'upon': 17434,\n",
       " 'his': 7841,\n",
       " 'sword': 16012,\n",
       " 'quietly': 12869,\n",
       " 'take': 16075,\n",
       " 'ship': 14443,\n",
       " 'there': 16311,\n",
       " 'surprising': 15902,\n",
       " 'if': 8164,\n",
       " 'they': 16323,\n",
       " 'but': 2318,\n",
       " 'knew': 9206,\n",
       " 'almost': 612,\n",
       " 'all': 577,\n",
       " 'men': 10221,\n",
       " 'their': 16297,\n",
       " 'degree': 4319,\n",
       " 'other': 11291,\n",
       " 'cherish': 2779,\n",
       " 'very': 17612,\n",
       " 'nearly': 10794,\n",
       " 'same': 13906,\n",
       " 'feelings': 6204,\n",
       " 'towards': 16647,\n",
       " 'ocean': 11105,\n",
       " 'now': 10984,\n",
       " 'your': 18475,\n",
       " 'insular': 8687,\n",
       " 'city': 2920,\n",
       " 'manhattoes': 9974,\n",
       " 'belted': 1608,\n",
       " 'round': 13748,\n",
       " 'by': 2341,\n",
       " 'wharves': 18034,\n",
       " 'indian': 8441,\n",
       " 'isles': 8914,\n",
       " 'coral': 3703,\n",
       " 'reefs': 13146,\n",
       " 'commerce': 3232,\n",
       " 'surrounds': 15911,\n",
       " 'her': 7751,\n",
       " 'surf': 15883,\n",
       " 'right': 13619,\n",
       " 'left': 9460,\n",
       " 'streets': 15575,\n",
       " 'you': 18470,\n",
       " 'waterward': 17913,\n",
       " 'its': 8936,\n",
       " 'extreme': 5990,\n",
       " 'downtown': 5023,\n",
       " 'battery': 1442,\n",
       " 'where': 18053,\n",
       " 'noble': 10901,\n",
       " 'mole': 10471,\n",
       " 'washed': 17886,\n",
       " 'waves': 17920,\n",
       " 'cooled': 3684,\n",
       " 'breezes': 2095,\n",
       " 'which': 18071,\n",
       " 'few': 6267,\n",
       " 'hours': 7997,\n",
       " 'previous': 12463,\n",
       " 'were': 18003,\n",
       " 'out': 11304,\n",
       " 'sight': 14578,\n",
       " 'land': 9304,\n",
       " 'look': 9733,\n",
       " 'at': 1117,\n",
       " 'crowds': 3967,\n",
       " 'water': 17907,\n",
       " 'gazers': 6950,\n",
       " 'circumambulate': 2892,\n",
       " 'dreamy': 5079,\n",
       " 'sabbath': 13839,\n",
       " 'afternoon': 472,\n",
       " 'go': 7127,\n",
       " 'corlears': 3719,\n",
       " 'hook': 7935,\n",
       " 'coenties': 3112,\n",
       " 'slip': 14784,\n",
       " 'thence': 16304,\n",
       " 'whitehall': 18106,\n",
       " 'northward': 10942,\n",
       " 'what': 18035,\n",
       " 'do': 4932,\n",
       " 'posted': 12269,\n",
       " 'like': 9570,\n",
       " 'silent': 14599,\n",
       " 'sentinels': 14258,\n",
       " 'around': 979,\n",
       " 'town': 16657,\n",
       " 'stand': 15343,\n",
       " 'thousands': 16380,\n",
       " 'mortal': 10550,\n",
       " 'fixed': 6374,\n",
       " 'reveries': 13557,\n",
       " 'leaning': 9427,\n",
       " 'against': 476,\n",
       " 'spiles': 15166,\n",
       " 'seated': 14152,\n",
       " 'pier': 11936,\n",
       " 'heads': 7644,\n",
       " 'looking': 9739,\n",
       " 'over': 11344,\n",
       " 'bulwarks': 2256,\n",
       " 'ships': 14449,\n",
       " 'china': 2813,\n",
       " 'aloft': 614,\n",
       " 'rigging': 13618,\n",
       " 'striving': 15609,\n",
       " 'still': 15468,\n",
       " 'better': 1680,\n",
       " 'seaward': 14155,\n",
       " 'peep': 11707,\n",
       " 'these': 16321,\n",
       " 'are': 941,\n",
       " 'landsmen': 9314,\n",
       " 'week': 17977,\n",
       " 'days': 4187,\n",
       " 'pent': 11752,\n",
       " 'lath': 9369,\n",
       " 'plaster': 12060,\n",
       " 'tied': 16464,\n",
       " 'counters': 3789,\n",
       " 'nailed': 10723,\n",
       " 'benches': 1611,\n",
       " 'clinched': 3019,\n",
       " 'desks': 4498,\n",
       " 'green': 7274,\n",
       " 'fields': 6279,\n",
       " 'gone': 7160,\n",
       " 'here': 7760,\n",
       " 'come': 3196,\n",
       " 'more': 10540,\n",
       " 'pacing': 11423,\n",
       " 'straight': 15539,\n",
       " 'seemingly': 14196,\n",
       " 'bound': 1989,\n",
       " 'dive': 4902,\n",
       " 'strange': 15552,\n",
       " 'will': 18169,\n",
       " 'content': 3583,\n",
       " 'them': 16299,\n",
       " 'extremest': 5993,\n",
       " 'limit': 9591,\n",
       " 'loitering': 9710,\n",
       " 'under': 17084,\n",
       " 'shady': 14338,\n",
       " 'lee': 9454,\n",
       " 'yonder': 18466,\n",
       " 'not': 10954,\n",
       " 'suffice': 15759,\n",
       " 'must': 10682,\n",
       " 'just': 9116,\n",
       " 'nigh': 10878,\n",
       " 'possibly': 12266,\n",
       " 'without': 18250,\n",
       " 'falling': 6060,\n",
       " 'miles': 10324,\n",
       " 'leagues': 9420,\n",
       " 'inlanders': 8600,\n",
       " 'lanes': 9316,\n",
       " 'alleys': 588,\n",
       " 'avenues': 1213,\n",
       " 'north': 10939,\n",
       " 'east': 5247,\n",
       " 'south': 15056,\n",
       " 'west': 18007,\n",
       " 'yet': 18455,\n",
       " 'unite': 17228,\n",
       " 'tell': 16191,\n",
       " 'does': 4948,\n",
       " 'magnetic': 9889,\n",
       " 'virtue': 17695,\n",
       " 'needles': 10815,\n",
       " 'compasses': 3285,\n",
       " 'those': 16370,\n",
       " 'attract': 1167,\n",
       " 'thither': 16361,\n",
       " 'once': 11181,\n",
       " 'say': 13988,\n",
       " 'country': 3797,\n",
       " 'lakes': 9287,\n",
       " 'any': 806,\n",
       " 'path': 11626,\n",
       " 'please': 12092,\n",
       " 'ten': 16214,\n",
       " 'one': 11184,\n",
       " 'carries': 2527,\n",
       " 'down': 5018,\n",
       " 'dale': 4110,\n",
       " 'leaves': 9444,\n",
       " 'pool': 12204,\n",
       " 'stream': 15570,\n",
       " 'magic': 9879,\n",
       " 'let': 9501,\n",
       " 'most': 10564,\n",
       " 'absent': 207,\n",
       " 'minded': 10347,\n",
       " 'be': 1454,\n",
       " 'plunged': 12131,\n",
       " 'deepest': 4283,\n",
       " 'man': 9953,\n",
       " 'legs': 9475,\n",
       " 'set': 14295,\n",
       " 'feet': 6207,\n",
       " 'going': 7153,\n",
       " 'he': 7632,\n",
       " 'infallibly': 8518,\n",
       " 'lead': 9409,\n",
       " 'region': 13196,\n",
       " 'should': 14494,\n",
       " 'ever': 5747,\n",
       " 'athirst': 1122,\n",
       " 'great': 7263,\n",
       " 'american': 663,\n",
       " 'desert': 4477,\n",
       " 'try': 16861,\n",
       " 'experiment': 5915,\n",
       " 'caravan': 2492,\n",
       " 'happen': 7518,\n",
       " 'supplied': 15861,\n",
       " 'metaphysical': 10273,\n",
       " 'professor': 12557,\n",
       " 'yes': 18453,\n",
       " 'knows': 9237,\n",
       " 'meditation': 10189,\n",
       " 'wedded': 17968,\n",
       " 'artist': 1015,\n",
       " 'desires': 4492,\n",
       " 'paint': 11453,\n",
       " 'dreamiest': 5074,\n",
       " 'shadiest': 14331,\n",
       " 'quietest': 12868,\n",
       " 'enchanting': 5471,\n",
       " 'bit': 1740,\n",
       " 'romantic': 13716,\n",
       " 'landscape': 9312,\n",
       " 'valley': 17507,\n",
       " 'saco': 13846,\n",
       " 'chief': 2796,\n",
       " 'element': 5360,\n",
       " 'employs': 5453,\n",
       " 'trees': 16767,\n",
       " 'each': 5216,\n",
       " 'hollow': 7900,\n",
       " 'trunk': 16852,\n",
       " 'hermit': 7772,\n",
       " 'crucifix': 3975,\n",
       " 'within': 18249,\n",
       " 'sleeps': 14753,\n",
       " 'meadow': 10144,\n",
       " 'sleep': 14745,\n",
       " 'cattle': 2590,\n",
       " 'cottage': 3763,\n",
       " 'goes': 7149,\n",
       " 'sleepy': 14754,\n",
       " 'smoke': 14862,\n",
       " 'deep': 4279,\n",
       " 'distant': 4863,\n",
       " 'woodlands': 18299,\n",
       " 'winds': 18194,\n",
       " 'mazy': 10142,\n",
       " 'reaching': 13010,\n",
       " 'overlapping': 11369,\n",
       " 'spurs': 15275,\n",
       " 'mountains': 10591,\n",
       " 'bathed': 1433,\n",
       " 'hill': 7815,\n",
       " 'side': 14568,\n",
       " 'blue': 1857,\n",
       " 'though': 16372,\n",
       " 'picture': 11926,\n",
       " 'lies': 9545,\n",
       " 'thus': 16438,\n",
       " 'tranced': 16700,\n",
       " 'pine': 11973,\n",
       " 'tree': 16766,\n",
       " 'shakes': 14347,\n",
       " 'sighs': 14577,\n",
       " 'shepherd': 14420,\n",
       " 'head': 7633,\n",
       " 'vain': 17500,\n",
       " 'unless': 17238,\n",
       " 'eye': 6001,\n",
       " 'him': 7821,\n",
       " 'visit': 17706,\n",
       " 'prairies': 12327,\n",
       " 'june': 9104,\n",
       " 'when': 18050,\n",
       " 'scores': 14061,\n",
       " 'wade': 17769,\n",
       " 'knee': 9201,\n",
       " 'among': 672,\n",
       " 'tiger': 16469,\n",
       " 'lilies': 9581,\n",
       " 'charm': 2723,\n",
       " 'wanting': 17844,\n",
       " 'drop': 5118,\n",
       " 'niagara': 10867,\n",
       " 'cataract': 2573,\n",
       " 'sand': 13916,\n",
       " 'travel': 16740,\n",
       " 'thousand': 16379,\n",
       " 'why': 18134,\n",
       " 'did': 4604,\n",
       " 'poor': 12206,\n",
       " 'poet': 12143,\n",
       " 'tennessee': 16228,\n",
       " 'suddenly': 15748,\n",
       " 'receiving': 13066,\n",
       " 'two': 16958,\n",
       " 'handfuls': 7490,\n",
       " 'silver': 14606,\n",
       " 'deliberate': 4329,\n",
       " 'whether': 18066,\n",
       " 'buy': 2338,\n",
       " 'coat': 3087,\n",
       " 'sadly': 13857,\n",
       " 'needed': 10811,\n",
       " 'invest': 8834,\n",
       " 'pedestrian': 11698,\n",
       " 'trip': 16808,\n",
       " 'rockaway': 13692,\n",
       " 'beach': 1455,\n",
       " 'robust': 13689,\n",
       " 'healthy': 7652,\n",
       " 'boy': 2023,\n",
       " 'crazy': 3877,\n",
       " 'first': 6348,\n",
       " 'voyage': 17754,\n",
       " 'passenger': 11592,\n",
       " 'yourself': 18478,\n",
       " 'feel': 6201,\n",
       " 'mystical': 10716,\n",
       " 'vibration': 17631,\n",
       " 'told': 16558,\n",
       " 'old': 11159,\n",
       " 'persians': 11827,\n",
       " 'hold': 7884,\n",
       " 'holy': 7905,\n",
       " 'greeks': 7273,\n",
       " 'give': 7049,\n",
       " 'separate': 14260,\n",
       " 'deity': 4322,\n",
       " 'own': 11407,\n",
       " 'brother': 2187,\n",
       " 'jove': 9065,\n",
       " 'surely': 15881,\n",
       " 'meaning': 10154,\n",
       " 'deeper': 4282,\n",
       " 'story': 15525,\n",
       " 'narcissus': 10745,\n",
       " 'who': 18122,\n",
       " 'because': 1495,\n",
       " 'could': 3770,\n",
       " 'grasp': 7229,\n",
       " 'tormenting': 16608,\n",
       " 'mild': 10318,\n",
       " 'image': 8200,\n",
       " 'saw': 13980,\n",
       " 'fountain': 6684,\n",
       " 'was': 17884,\n",
       " 'drowned': 5128,\n",
       " 'we': 17931,\n",
       " 'ourselves': 11303,\n",
       " 'rivers': 13667,\n",
       " 'oceans': 11107,\n",
       " 'ungraspable': 17190,\n",
       " 'phantom': 11874,\n",
       " 'life': 9548,\n",
       " 'key': 9155,\n",
       " 'am': 641,\n",
       " 'habit': 7416,\n",
       " 'begin': 1546,\n",
       " 'grow': 7350,\n",
       " 'hazy': 7631,\n",
       " 'eyes': 6009,\n",
       " 'conscious': 3492,\n",
       " 'lungs': 9828,\n",
       " 'mean': 10152,\n",
       " 'inferred': 8537,\n",
       " 'needs': 10820,\n",
       " 'rag': 12915,\n",
       " 'something': 15006,\n",
       " 'besides': 1649,\n",
       " 'passengers': 11593,\n",
       " 'sick': 14564,\n",
       " 'quarrelsome': 12829,\n",
       " 'don': 4978,\n",
       " 'nights': 10884,\n",
       " 'enjoy': 5558,\n",
       " 'themselves': 16302,\n",
       " 'much': 10624,\n",
       " 'general': 6961,\n",
       " 'thing': 16341,\n",
       " 'nor': 10936,\n",
       " 'salt': 13895,\n",
       " 'commodore': 3243,\n",
       " 'captain': 2481,\n",
       " 'cook': 3678,\n",
       " 'abandon': 152,\n",
       " 'glory': 7110,\n",
       " 'distinction': 4869,\n",
       " 'offices': 11137,\n",
       " 'abominate': 187,\n",
       " 'honourable': 7924,\n",
       " 'respectable': 13456,\n",
       " 'toils': 16555,\n",
       " 'trials': 16784,\n",
       " 'tribulations': 16791,\n",
       " 'kind': 9176,\n",
       " 'whatsoever': 18037,\n",
       " 'quite': 12878,\n",
       " 'care': 2500,\n",
       " 'taking': 16079,\n",
       " 'barques': 1397,\n",
       " 'brigs': 2134,\n",
       " 'schooners': 14045,\n",
       " 'confess': 3421,\n",
       " 'considerable': 3507,\n",
       " 'being': 1572,\n",
       " 'sort': 15036,\n",
       " 'officer': 11134,\n",
       " 'board': 1875,\n",
       " 'somehow': 15002,\n",
       " 'fancied': 6080,\n",
       " 'broiling': 2172,\n",
       " 'fowls': 6692,\n",
       " 'broiled': 2171,\n",
       " 'judiciously': 9087,\n",
       " 'buttered': 2326,\n",
       " 'judgmatically': 9082,\n",
       " 'salted': 13897,\n",
       " 'peppered': 11756,\n",
       " 'speak': 15099,\n",
       " 'respectfully': 13459,\n",
       " 'reverentially': 13555,\n",
       " 'fowl': 6691,\n",
       " 'than': 16283,\n",
       " 'idolatrous': 8162,\n",
       " 'dotings': 4998,\n",
       " 'egyptians': 5324,\n",
       " 'ibis': 8131,\n",
       " 'roasted': 13678,\n",
       " 'river': 13666,\n",
       " 'horse': 7972,\n",
       " 'mummies': 10652,\n",
       " 'creatures': 3891,\n",
       " 'huge': 8032,\n",
       " 'bake': 1304,\n",
       " 'houses': 8005,\n",
       " 'pyramids': 12802,\n",
       " 'simple': 14615,\n",
       " 'sailor': 13876,\n",
       " 'mast': 10085,\n",
       " 'plumb': 12121,\n",
       " 'forecastle': 6583,\n",
       " 'royal': 13769,\n",
       " 'true': 16844,\n",
       " 'rather': 12986,\n",
       " 'order': 11247,\n",
       " 'make': 9925,\n",
       " 'jump': 9098,\n",
       " 'spar': 15084,\n",
       " 'grasshopper': 7235,\n",
       " 'may': 10131,\n",
       " 'unpleasant': 17286,\n",
       " 'enough': 5578,\n",
       " 'touches': 16638,\n",
       " 'sense': 14243,\n",
       " 'honour': 7923,\n",
       " 'particularly': 11572,\n",
       " 'established': 5702,\n",
       " 'family': 6072,\n",
       " 'van': 17516,\n",
       " 'rensselaers': 13320,\n",
       " 'randolphs': 12955,\n",
       " 'hardicanutes': 7537,\n",
       " 'putting': 12796,\n",
       " 'tar': 16121,\n",
       " 'pot': 12279,\n",
       " 'been': 1524,\n",
       " 'lording': 9753,\n",
       " 'schoolmaster': 14041,\n",
       " 'making': 9931,\n",
       " 'tallest': 16093,\n",
       " 'boys': 2026,\n",
       " 'awe': 1234,\n",
       " 'transition': 16725,\n",
       " 'keen': 9135,\n",
       " 'assure': 1098,\n",
       " 'decoction': 4262,\n",
       " 'seneca': 14237,\n",
       " 'stoics': 15494,\n",
       " 'enable': 5462,\n",
       " 'grin': 7311,\n",
       " 'bear': 1471,\n",
       " 'even': 5738,\n",
       " 'wears': 17954,\n",
       " 'hunks': 8083,\n",
       " 'orders': 11250,\n",
       " 'broom': 2185,\n",
       " 'sweep': 15975,\n",
       " 'decks': 4251,\n",
       " 'indignity': 8459,\n",
       " 'amount': 675,\n",
       " 'weighed': 17985,\n",
       " 'scales': 13998,\n",
       " 'new': 10857,\n",
       " 'testament': 16266,\n",
       " 'think': 16343,\n",
       " 'archangel': 919,\n",
       " 'gabriel': 6854,\n",
       " 'thinks': 16347,\n",
       " 'anything': 810,\n",
       " 'less': 9497,\n",
       " 'promptly': 12601,\n",
       " 'obey': 11029,\n",
       " 'instance': 8667,\n",
       " 'ain': 530,\n",
       " 'slave': 14737,\n",
       " 'well': 17994,\n",
       " 'however': 8017,\n",
       " 'captains': 2482,\n",
       " 'thump': 16426,\n",
       " 'punch': 12740,\n",
       " 'satisfaction': 13951,\n",
       " 'knowing': 9233,\n",
       " 'everybody': 5752,\n",
       " 'else': 5385,\n",
       " 'served': 14289,\n",
       " 'either': 5333,\n",
       " 'physical': 11908,\n",
       " 'point': 12148,\n",
       " 'view': 17652,\n",
       " 'so': 14920,\n",
       " 'universal': 17230,\n",
       " 'passed': 11591,\n",
       " 'hands': 7499,\n",
       " 'rub': 13773,\n",
       " 'shoulder': 14495,\n",
       " 'blades': 1769,\n",
       " 'again': 475,\n",
       " 'always': 640,\n",
       " 'paying': 11662,\n",
       " 'trouble': 16832,\n",
       " 'whereas': 18054,\n",
       " 'pay': 11661,\n",
       " 'single': 14635,\n",
       " 'penny': 11750,\n",
       " 'heard': 7658,\n",
       " 'contrary': 3623,\n",
       " 'difference': 4614,\n",
       " 'between': 1683,\n",
       " 'paid': 11445,\n",
       " 'act': 307,\n",
       " 'perhaps': 11789,\n",
       " 'uncomfortable': 17048,\n",
       " 'infliction': 8554,\n",
       " 'orchard': 11243,\n",
       " 'thieves': 16334,\n",
       " 'entailed': 5589,\n",
       " 'us': 17456,\n",
       " 'compare': 3280,\n",
       " 'urbane': 17449,\n",
       " 'activity': 314,\n",
       " 'receives': 13065,\n",
       " 'really': 13029,\n",
       " 'marvellous': 10068,\n",
       " 'considering': 3513,\n",
       " 'earnestly': 5230,\n",
       " 'believe': 1583,\n",
       " 'root': 13727,\n",
       " 'earthly': 5236,\n",
       " 'ills': 8190,\n",
       " 'monied': 10490,\n",
       " 'enter': 5593,\n",
       " 'heaven': 7688,\n",
       " 'ah': 514,\n",
       " 'cheerfully': 2765,\n",
       " 'consign': 3514,\n",
       " 'perdition': 11771,\n",
       " 'finally': 6313,\n",
       " 'wholesome': 18125,\n",
       " 'exercise': 5853,\n",
       " 'pure': 12761,\n",
       " 'air': 532,\n",
       " 'fore': 6580,\n",
       " 'castle': 2563,\n",
       " 'deck': 4250,\n",
       " 'far': 6092,\n",
       " 'prevalent': 12459,\n",
       " 'astern': 1104,\n",
       " 'violate': 17687,\n",
       " 'pythagorean': 12806,\n",
       " 'maxim': 10130,\n",
       " 'quarter': 12832,\n",
       " 'gets': 7008,\n",
       " 'atmosphere': 1127,\n",
       " 'second': 14162,\n",
       " 'sailors': 13877,\n",
       " 'breathes': 2081,\n",
       " 'commonalty': 3246,\n",
       " 'leaders': 9413,\n",
       " 'many': 10009,\n",
       " 'things': 16342,\n",
       " 'suspect': 15925,\n",
       " 'wherefore': 18057,\n",
       " 'after': 471,\n",
       " 'repeatedly': 13335,\n",
       " 'smelt': 14845,\n",
       " 'merchant': 10240,\n",
       " 'whaling': 18031,\n",
       " 'invisible': 8848,\n",
       " 'police': 12165,\n",
       " 'fates': 6133,\n",
       " 'has': 7580,\n",
       " 'constant': 3534,\n",
       " 'surveillance': 15913,\n",
       " 'secretly': 14170,\n",
       " 'dogs': 4955,\n",
       " 'influences': 8557,\n",
       " 'unaccountable': 16989,\n",
       " 'answer': 771,\n",
       " 'doubtless': 5010,\n",
       " 'formed': 6640,\n",
       " 'grand': 7210,\n",
       " 'programme': 12576,\n",
       " 'providence': 12675,\n",
       " 'drawn': 5066,\n",
       " 'came': 2402,\n",
       " 'brief': 2121,\n",
       " 'interlude': 8748,\n",
       " 'solo': 14993,\n",
       " 'extensive': 5962,\n",
       " 'performances': 11782,\n",
       " 'bill': 1714,\n",
       " 'run': 13816,\n",
       " 'contested': 3590,\n",
       " 'election': 5355,\n",
       " 'presidency': 12431,\n",
       " 'united': 17229,\n",
       " 'states': 15381,\n",
       " 'bloody': 1840,\n",
       " 'battle': 1443,\n",
       " 'affghanistan': 435,\n",
       " 'cannot': 2441,\n",
       " 'exactly': 5774,\n",
       " 'stage': 15311,\n",
       " 'managers': 9960,\n",
       " 'put': 12794,\n",
       " 'shabby': 14326,\n",
       " 'others': 11292,\n",
       " 'magnificent': 9894,\n",
       " 'parts': 11583,\n",
       " 'tragedies': 16686,\n",
       " 'short': 14487,\n",
       " 'easy': 5251,\n",
       " 'genteel': 6974,\n",
       " 'comedies': 3197,\n",
       " 'jolly': 9049,\n",
       " 'farces': 6093,\n",
       " 'recall': 13059,\n",
       " 'circumstances': 2905,\n",
       " 'springs': 15263,\n",
       " 'motives': 10575,\n",
       " 'cunningly': 4025,\n",
       " 'presented': 12417,\n",
       " 'various': 17529,\n",
       " 'disguises': 4771,\n",
       " 'induced': 8485,\n",
       " 'performing': 11784,\n",
       " 'cajoling': 2369,\n",
       " 'delusion': 4359,\n",
       " 'choice': 2827,\n",
       " 'resulting': 13498,\n",
       " 'unbiased': 17019,\n",
       " 'freewill': 6725,\n",
       " 'discriminating': 4745,\n",
       " 'judgment': 9083,\n",
       " 'overwhelming': 11400,\n",
       " 'idea': 8142,\n",
       " 'whale': 18016,\n",
       " 'portentous': 12232,\n",
       " 'mysterious': 10712,\n",
       " 'monster': 10503,\n",
       " 'roused': 13756,\n",
       " 'curiosity': 4043,\n",
       " 'wild': 18160,\n",
       " 'seas': 14146,\n",
       " 'rolled': 13707,\n",
       " 'island': 8910,\n",
       " 'bulk': 2242,\n",
       " 'undeliverable': 17082,\n",
       " 'nameless': 10731,\n",
       " 'perils': 11794,\n",
       " 'attending': 1152,\n",
       " 'marvels': 10070,\n",
       " 'patagonian': 11616,\n",
       " 'sights': 14581,\n",
       " 'sounds': 15049,\n",
       " 'helped': 7735,\n",
       " 'sway': 15963,\n",
       " 'wish': 18224,\n",
       " 'inducements': 8486,\n",
       " 'tormented': 16607,\n",
       " 'everlasting': 5748,\n",
       " 'itch': 8932,\n",
       " 'remote': 13297,\n",
       " 'love': 9777,\n",
       " 'forbidden': 6571,\n",
       " 'barbarous': 1369,\n",
       " 'coasts': 3086,\n",
       " 'ignoring': 8179,\n",
       " 'good': 7163,\n",
       " 'quick': 12854,\n",
       " 'perceive': 11760,\n",
       " 'horror': 7970,\n",
       " 'social': 14936,\n",
       " 'since': 14623,\n",
       " 'friendly': 6751,\n",
       " 'terms': 16243,\n",
       " 'inmates': 8603,\n",
       " 'place': 12024,\n",
       " 'lodges': 9695,\n",
       " 'reason': 13042,\n",
       " 'welcome': 17991,\n",
       " 'flood': 6464,\n",
       " 'gates': 6933,\n",
       " 'wonder': 18276,\n",
       " 'swung': 16018,\n",
       " 'open': 11199,\n",
       " 'conceits': 3357,\n",
       " 'swayed': 15964,\n",
       " 'purpose': 12771,\n",
       " 'floated': 6456,\n",
       " 'inmost': 8604,\n",
       " 'endless': 5506,\n",
       " 'processions': 12528,\n",
       " 'mid': 10294,\n",
       " 'hooded': 7931,\n",
       " 'snow': 14908,\n",
       " 'chapter': 2702,\n",
       " 'carpet': 2522,\n",
       " 'bag': 1292,\n",
       " 'stuffed': 15648,\n",
       " 'shirt': 14454,\n",
       " 'tucked': 16868,\n",
       " 'arm': 968,\n",
       " 'started': 15364,\n",
       " 'cape': 2461,\n",
       " 'horn': 7958,\n",
       " 'pacific': 11421,\n",
       " 'quitting': 12882,\n",
       " 'manhatto': 9973,\n",
       " 'duly': 5168,\n",
       " 'arrived': 993,\n",
       " 'bedford': 1512,\n",
       " 'saturday': 13956,\n",
       " 'night': 10879,\n",
       " 'december': 4236,\n",
       " 'disappointed': 4694,\n",
       " 'learning': 9436,\n",
       " 'packet': 11427,\n",
       " 'nantucket': 10735,\n",
       " 'had': 7429,\n",
       " 'already': 626,\n",
       " 'sailed': 13871,\n",
       " 'offer': 11129,\n",
       " 'till': 16482,\n",
       " 'following': 6542,\n",
       " 'monday': 10485,\n",
       " 'young': 18471,\n",
       " 'candidates': 2425,\n",
       " 'pains': 11452,\n",
       " 'penalties': 11726,\n",
       " 'stop': 15510,\n",
       " 'embark': 5400,\n",
       " 'related': 13229,\n",
       " 'doing': 4956,\n",
       " 'made': 9870,\n",
       " 'craft': 3853,\n",
       " 'fine': 6319,\n",
       " 'boisterous': 1906,\n",
       " 'everything': 5753,\n",
       " 'connected': 3478,\n",
       " 'famous': 6075,\n",
       " 'amazingly': 648,\n",
       " 'pleased': 12093,\n",
       " 'late': 9362,\n",
       " 'gradually': 7203,\n",
       " 'monopolising': 10497,\n",
       " 'business': 2309,\n",
       " 'matter': 10118,\n",
       " 'behind': 1563,\n",
       " 'original': 11265,\n",
       " 'tyre': 16967,\n",
       " 'carthage': 2536,\n",
       " 'dead': 4193,\n",
       " 'stranded': 15550,\n",
       " 'aboriginal': 190,\n",
       " 'whalemen': 18023,\n",
       " 'red': 13128,\n",
       " 'sally': 13893,\n",
       " 'canoes': 2444,\n",
       " 'chase': 2734,\n",
       " 'leviathan': 9516,\n",
       " 'too': 16584,\n",
       " 'adventurous': 408,\n",
       " 'sloop': 14796,\n",
       " 'forth': 6653,\n",
       " 'partly': 11578,\n",
       " 'laden': 9274,\n",
       " 'imported': 8291,\n",
       " 'cobblestones': 3094,\n",
       " 'throw': 16416,\n",
       " 'whales': 18026,\n",
       " 'discover': 4732,\n",
       " 'risk': 13660,\n",
       " 'harpoon': 7559,\n",
       " 'bowsprit': 2018,\n",
       " 'day': 4184,\n",
       " 'another': 770,\n",
       " 'ere': 5660,\n",
       " 'destined': 4522,\n",
       " 'port': 12228,\n",
       " 'became': 1494,\n",
       " 'concernment': 3374,\n",
       " 'eat': 5252,\n",
       " 'meanwhile': 10163,\n",
       " 'dubious': 5152,\n",
       " 'nay': 10788,\n",
       " 'dark': 4151,\n",
       " 'dismal': 4791,\n",
       " 'bitingly': 1745,\n",
       " 'cold': 3140,\n",
       " 'cheerless': 2770,\n",
       " 'anxious': 805,\n",
       " 'grapnels': 7225,\n",
       " 'sounded': 15045,\n",
       " 'pocket': 12137,\n",
       " 'only': 11187,\n",
       " 'brought': 2191,\n",
       " 'pieces': 11933,\n",
       " 'wherever': 18063,\n",
       " 'said': 13869,\n",
       " 'stood': 15505,\n",
       " 'middle': 10296,\n",
       " 'dreary': 5081,\n",
       " 'shouldering': 14497,\n",
       " 'comparing': 3282,\n",
       " 'gloom': 7103,\n",
       " 'darkness': 4158,\n",
       " 'wisdom': 18218,\n",
       " 'conclude': 3382,\n",
       " 'lodge': 9692,\n",
       " 'dear': 4206,\n",
       " 'sure': 15880,\n",
       " 'inquire': 8620,\n",
       " 'price': 12467,\n",
       " 'halting': 7462,\n",
       " 'steps': 15440,\n",
       " 'paced': 11419,\n",
       " 'sign': 14582,\n",
       " 'crossed': 3954,\n",
       " 'harpoons': 7565,\n",
       " 'looked': 9734,\n",
       " 'expensive': 5910,\n",
       " 'further': 6844,\n",
       " 'bright': 2127,\n",
       " 'windows': 18191,\n",
       " 'fish': 6349,\n",
       " 'inn': 8605,\n",
       " 'fervent': 6245,\n",
       " 'rays': 13003,\n",
       " 'seemed': 14194,\n",
       " 'melted': 10210,\n",
       " 'packed': 11426,\n",
       " 'ice': 8132,\n",
       " 'house': 7998,\n",
       " 'everywhere': 5756,\n",
       " 'congealed': 3457,\n",
       " 'frost': 6786,\n",
       " 'lay': 9397,\n",
       " 'inches': 8360,\n",
       " 'thick': 16324,\n",
       " 'hard': 7532,\n",
       " 'asphaltic': 1054,\n",
       " 'pavement': 11656,\n",
       " 'weary': 17955,\n",
       " 'struck': 15621,\n",
       " 'foot': 6554,\n",
       " ...}"
      ]
     },
     "execution_count": 54,
     "metadata": {},
     "output_type": "execute_result"
    }
   ],
   "source": [
    "wcv.vocabulary_"
   ]
  },
  {
   "cell_type": "markdown",
   "metadata": {},
   "source": [
    "Note that there are many words here that probably aren't very useful. For example, the number of times that \"the\" appears in a sentence is probably not useful for classification. Useless words like these are called \"stop words\", and we can avoid counting them by setting `stop_words = \"english\"`, as shown below: "
   ]
  },
  {
   "cell_type": "code",
   "execution_count": 55,
   "metadata": {
    "scrolled": true
   },
   "outputs": [
    {
     "data": {
      "text/plain": [
       "{'ishmael': 8777,\n",
       " 'years': 18149,\n",
       " 'ago': 492,\n",
       " 'mind': 10200,\n",
       " 'long': 9584,\n",
       " 'precisely': 12165,\n",
       " 'having': 7509,\n",
       " 'little': 9505,\n",
       " 'money': 10339,\n",
       " 'purse': 12585,\n",
       " 'particular': 11382,\n",
       " 'shore': 14278,\n",
       " 'thought': 16129,\n",
       " 'sail': 13675,\n",
       " 'watery': 17649,\n",
       " 'world': 18027,\n",
       " 'way': 17663,\n",
       " 'driving': 5043,\n",
       " 'spleen': 14984,\n",
       " 'regulating': 13010,\n",
       " 'circulation': 2832,\n",
       " 'growing': 7246,\n",
       " 'grim': 7199,\n",
       " 'mouth': 10451,\n",
       " 'damp': 4062,\n",
       " 'drizzly': 5044,\n",
       " 'november': 10814,\n",
       " 'soul': 14825,\n",
       " 'involuntarily': 8730,\n",
       " 'pausing': 11464,\n",
       " 'coffin': 3060,\n",
       " 'warehouses': 17595,\n",
       " 'bringing': 2096,\n",
       " 'rear': 12843,\n",
       " 'funeral': 6720,\n",
       " 'meet': 10054,\n",
       " 'especially': 5609,\n",
       " 'hypos': 8001,\n",
       " 'upper': 17174,\n",
       " 'hand': 7375,\n",
       " 'requires': 13207,\n",
       " 'strong': 15397,\n",
       " 'moral': 10384,\n",
       " 'principle': 12297,\n",
       " 'prevent': 12268,\n",
       " 'deliberately': 4268,\n",
       " 'stepping': 15222,\n",
       " 'street': 15356,\n",
       " 'methodically': 10136,\n",
       " 'knocking': 9088,\n",
       " 'people': 11564,\n",
       " 'hats': 7495,\n",
       " 'account': 256,\n",
       " 'high': 7685,\n",
       " 'time': 16241,\n",
       " 'sea': 13936,\n",
       " 'soon': 14800,\n",
       " 'substitute': 15490,\n",
       " 'pistol': 11806,\n",
       " 'ball': 1286,\n",
       " 'philosophical': 11700,\n",
       " 'flourish': 6383,\n",
       " 'cato': 2528,\n",
       " 'throws': 16172,\n",
       " 'sword': 15793,\n",
       " 'quietly': 12676,\n",
       " 'ship': 14239,\n",
       " 'surprising': 15683,\n",
       " 'knew': 9071,\n",
       " 'men': 10077,\n",
       " 'degree': 4256,\n",
       " 'cherish': 2721,\n",
       " 'nearly': 10636,\n",
       " 'feelings': 6119,\n",
       " 'ocean': 10934,\n",
       " 'insular': 8559,\n",
       " 'city': 2862,\n",
       " 'manhattoes': 9834,\n",
       " 'belted': 1563,\n",
       " 'round': 13553,\n",
       " 'wharves': 17766,\n",
       " 'indian': 8313,\n",
       " 'isles': 8783,\n",
       " 'coral': 3643,\n",
       " 'reefs': 12951,\n",
       " 'commerce': 3173,\n",
       " 'surrounds': 15692,\n",
       " 'surf': 15664,\n",
       " 'right': 13424,\n",
       " 'left': 9322,\n",
       " 'streets': 15357,\n",
       " 'waterward': 17648,\n",
       " 'extreme': 5905,\n",
       " 'downtown': 4955,\n",
       " 'battery': 1409,\n",
       " 'noble': 10737,\n",
       " 'mole': 10324,\n",
       " 'washed': 17621,\n",
       " 'waves': 17655,\n",
       " 'cooled': 3624,\n",
       " 'breezes': 2043,\n",
       " 'hours': 7875,\n",
       " 'previous': 12271,\n",
       " 'sight': 14371,\n",
       " 'land': 9169,\n",
       " 'look': 9594,\n",
       " 'crowds': 3906,\n",
       " 'water': 17642,\n",
       " 'gazers': 6847,\n",
       " 'circumambulate': 2834,\n",
       " 'dreamy': 5011,\n",
       " 'sabbath': 13644,\n",
       " 'afternoon': 468,\n",
       " 'corlears': 3659,\n",
       " 'hook': 7813,\n",
       " 'coenties': 3053,\n",
       " 'slip': 14573,\n",
       " 'whitehall': 17824,\n",
       " 'northward': 10775,\n",
       " 'posted': 12077,\n",
       " 'like': 9431,\n",
       " 'silent': 14392,\n",
       " 'sentinels': 14057,\n",
       " 'town': 16404,\n",
       " 'stand': 15126,\n",
       " 'thousands': 16136,\n",
       " 'mortal': 10401,\n",
       " 'fixed': 6281,\n",
       " 'reveries': 13362,\n",
       " 'leaning': 9290,\n",
       " 'spiles': 14949,\n",
       " 'seated': 13956,\n",
       " 'pier': 11745,\n",
       " 'heads': 7534,\n",
       " 'looking': 9600,\n",
       " 'bulwarks': 2204,\n",
       " 'ships': 14245,\n",
       " 'china': 2755,\n",
       " 'aloft': 605,\n",
       " 'rigging': 13423,\n",
       " 'striving': 15391,\n",
       " 'better': 1633,\n",
       " 'seaward': 13959,\n",
       " 'peep': 11518,\n",
       " 'landsmen': 9179,\n",
       " 'week': 17711,\n",
       " 'days': 4125,\n",
       " 'pent': 11563,\n",
       " 'lath': 9233,\n",
       " 'plaster': 11869,\n",
       " 'tied': 16216,\n",
       " 'counters': 3728,\n",
       " 'nailed': 10567,\n",
       " 'benches': 1566,\n",
       " 'clinched': 2961,\n",
       " 'desks': 4434,\n",
       " 'green': 7168,\n",
       " 'fields': 6193,\n",
       " 'gone': 7054,\n",
       " 'come': 3137,\n",
       " 'pacing': 11235,\n",
       " 'straight': 15321,\n",
       " 'seemingly': 13996,\n",
       " 'bound': 1937,\n",
       " 'dive': 4837,\n",
       " 'strange': 15334,\n",
       " 'content': 3523,\n",
       " 'extremest': 5908,\n",
       " 'limit': 9452,\n",
       " 'loitering': 9571,\n",
       " 'shady': 14135,\n",
       " 'lee': 9316,\n",
       " 'yonder': 18171,\n",
       " 'suffice': 15540,\n",
       " 'just': 8982,\n",
       " 'nigh': 10716,\n",
       " 'possibly': 12074,\n",
       " 'falling': 5975,\n",
       " 'miles': 10179,\n",
       " 'leagues': 9283,\n",
       " 'inlanders': 8472,\n",
       " 'lanes': 9181,\n",
       " 'alleys': 580,\n",
       " 'avenues': 1181,\n",
       " 'north': 10772,\n",
       " 'east': 5176,\n",
       " 'south': 14839,\n",
       " 'west': 17739,\n",
       " 'unite': 16970,\n",
       " 'tell': 15970,\n",
       " 'does': 4882,\n",
       " 'magnetic': 9749,\n",
       " 'virtue': 17431,\n",
       " 'needles': 10657,\n",
       " 'compasses': 3226,\n",
       " 'attract': 1135,\n",
       " 'thither': 16119,\n",
       " 'say': 13792,\n",
       " 'country': 3736,\n",
       " 'lakes': 9152,\n",
       " 'path': 11437,\n",
       " 'carries': 2469,\n",
       " 'dale': 4048,\n",
       " 'leaves': 9306,\n",
       " 'pool': 12012,\n",
       " 'stream': 15352,\n",
       " 'magic': 9739,\n",
       " 'let': 9362,\n",
       " 'absent': 205,\n",
       " 'minded': 10201,\n",
       " 'plunged': 11939,\n",
       " 'deepest': 4220,\n",
       " 'man': 9813,\n",
       " 'legs': 9337,\n",
       " 'set': 14093,\n",
       " 'feet': 6122,\n",
       " 'going': 7047,\n",
       " 'infallibly': 8390,\n",
       " 'lead': 9272,\n",
       " 'region': 13001,\n",
       " 'athirst': 1090,\n",
       " 'great': 7157,\n",
       " 'american': 647,\n",
       " 'desert': 4413,\n",
       " 'try': 16608,\n",
       " 'experiment': 5830,\n",
       " 'caravan': 2434,\n",
       " 'happen': 7411,\n",
       " 'supplied': 15642,\n",
       " 'metaphysical': 10129,\n",
       " 'professor': 12365,\n",
       " 'yes': 18159,\n",
       " 'knows': 9102,\n",
       " 'meditation': 10045,\n",
       " 'wedded': 17702,\n",
       " 'artist': 985,\n",
       " 'desires': 4428,\n",
       " 'paint': 11265,\n",
       " 'dreamiest': 5006,\n",
       " 'shadiest': 14128,\n",
       " 'quietest': 12675,\n",
       " 'enchanting': 5394,\n",
       " 'bit': 1690,\n",
       " 'romantic': 13521,\n",
       " 'landscape': 9177,\n",
       " 'valley': 17245,\n",
       " 'saco': 13651,\n",
       " 'chief': 2738,\n",
       " 'element': 5287,\n",
       " 'employs': 5377,\n",
       " 'trees': 16514,\n",
       " 'hollow': 7778,\n",
       " 'trunk': 16599,\n",
       " 'hermit': 7655,\n",
       " 'crucifix': 3914,\n",
       " 'sleeps': 14542,\n",
       " 'meadow': 10001,\n",
       " 'sleep': 14534,\n",
       " 'cattle': 2532,\n",
       " 'cottage': 3703,\n",
       " 'goes': 7043,\n",
       " 'sleepy': 14543,\n",
       " 'smoke': 14651,\n",
       " 'deep': 4216,\n",
       " 'distant': 4798,\n",
       " 'woodlands': 18006,\n",
       " 'winds': 17904,\n",
       " 'mazy': 10000,\n",
       " 'reaching': 12815,\n",
       " 'overlapping': 11182,\n",
       " 'spurs': 15058,\n",
       " 'mountains': 10440,\n",
       " 'bathed': 1400,\n",
       " 'hill': 7696,\n",
       " 'blue': 1807,\n",
       " 'picture': 11735,\n",
       " 'lies': 9406,\n",
       " 'tranced': 16447,\n",
       " 'pine': 11782,\n",
       " 'tree': 16513,\n",
       " 'shakes': 14144,\n",
       " 'sighs': 14370,\n",
       " 'shepherd': 14216,\n",
       " 'head': 7523,\n",
       " 'vain': 17238,\n",
       " 'unless': 16980,\n",
       " 'eye': 5916,\n",
       " 'visit': 17442,\n",
       " 'prairies': 12135,\n",
       " 'june': 8970,\n",
       " 'scores': 13865,\n",
       " 'wade': 17505,\n",
       " 'knee': 9066,\n",
       " 'tiger': 16221,\n",
       " 'lilies': 9442,\n",
       " 'charm': 2665,\n",
       " 'wanting': 17580,\n",
       " 'drop': 5050,\n",
       " 'niagara': 10705,\n",
       " 'cataract': 2515,\n",
       " 'sand': 13720,\n",
       " 'travel': 16487,\n",
       " 'thousand': 16135,\n",
       " 'did': 4539,\n",
       " 'poor': 12014,\n",
       " 'poet': 11951,\n",
       " 'tennessee': 16006,\n",
       " 'suddenly': 15529,\n",
       " 'receiving': 12871,\n",
       " 'handfuls': 7383,\n",
       " 'silver': 14399,\n",
       " 'deliberate': 4266,\n",
       " 'buy': 2285,\n",
       " 'coat': 3028,\n",
       " 'sadly': 13662,\n",
       " 'needed': 10653,\n",
       " 'invest': 8704,\n",
       " 'pedestrian': 11509,\n",
       " 'trip': 16555,\n",
       " 'rockaway': 13497,\n",
       " 'beach': 1421,\n",
       " 'robust': 13494,\n",
       " 'healthy': 7542,\n",
       " 'boy': 1971,\n",
       " 'crazy': 3816,\n",
       " 'voyage': 17490,\n",
       " 'passenger': 11403,\n",
       " 'feel': 6116,\n",
       " 'mystical': 10560,\n",
       " 'vibration': 17367,\n",
       " 'told': 16308,\n",
       " 'old': 10985,\n",
       " 'persians': 11636,\n",
       " 'hold': 7762,\n",
       " 'holy': 7783,\n",
       " 'greeks': 7167,\n",
       " 'separate': 14059,\n",
       " 'deity': 4259,\n",
       " 'brother': 2135,\n",
       " 'jove': 8931,\n",
       " 'surely': 15662,\n",
       " 'meaning': 10011,\n",
       " 'deeper': 4219,\n",
       " 'story': 15307,\n",
       " 'narcissus': 10587,\n",
       " 'grasp': 7123,\n",
       " 'tormenting': 16356,\n",
       " 'mild': 10173,\n",
       " 'image': 8074,\n",
       " 'saw': 13784,\n",
       " 'fountain': 6586,\n",
       " 'drowned': 5060,\n",
       " 'rivers': 13472,\n",
       " 'oceans': 10936,\n",
       " 'ungraspable': 16932,\n",
       " 'phantom': 11683,\n",
       " 'life': 9409,\n",
       " 'key': 9020,\n",
       " 'habit': 7310,\n",
       " 'begin': 1504,\n",
       " 'grow': 7244,\n",
       " 'hazy': 7522,\n",
       " 'eyes': 5924,\n",
       " 'conscious': 3432,\n",
       " 'lungs': 9689,\n",
       " 'mean': 10009,\n",
       " 'inferred': 8409,\n",
       " 'needs': 10662,\n",
       " 'rag': 12722,\n",
       " 'passengers': 11404,\n",
       " 'sick': 14358,\n",
       " 'quarrelsome': 12636,\n",
       " 'don': 4912,\n",
       " 'nights': 10722,\n",
       " 'enjoy': 5481,\n",
       " 'general': 6858,\n",
       " 'thing': 16101,\n",
       " 'salt': 13700,\n",
       " 'commodore': 3184,\n",
       " 'captain': 2423,\n",
       " 'cook': 3618,\n",
       " 'abandon': 152,\n",
       " 'glory': 7005,\n",
       " 'distinction': 4804,\n",
       " 'offices': 10964,\n",
       " 'abominate': 187,\n",
       " 'honourable': 7802,\n",
       " 'respectable': 13261,\n",
       " 'toils': 16305,\n",
       " 'trials': 16531,\n",
       " 'tribulations': 16538,\n",
       " 'kind': 9041,\n",
       " 'whatsoever': 17767,\n",
       " 'quite': 12685,\n",
       " 'care': 2442,\n",
       " 'taking': 15858,\n",
       " 'barques': 1364,\n",
       " 'brigs': 2082,\n",
       " 'schooners': 13849,\n",
       " 'confess': 3361,\n",
       " 'considerable': 3447,\n",
       " 'sort': 14819,\n",
       " 'officer': 10961,\n",
       " 'board': 1825,\n",
       " 'fancied': 5995,\n",
       " 'broiling': 2120,\n",
       " 'fowls': 6593,\n",
       " 'broiled': 2119,\n",
       " 'judiciously': 8953,\n",
       " 'buttered': 2273,\n",
       " 'judgmatically': 8948,\n",
       " 'salted': 13702,\n",
       " 'peppered': 11567,\n",
       " 'speak': 14882,\n",
       " 'respectfully': 13264,\n",
       " 'reverentially': 13360,\n",
       " 'fowl': 6592,\n",
       " 'idolatrous': 8037,\n",
       " 'dotings': 4931,\n",
       " 'egyptians': 5253,\n",
       " 'ibis': 8006,\n",
       " 'roasted': 13483,\n",
       " 'river': 13471,\n",
       " 'horse': 7850,\n",
       " 'mummies': 10499,\n",
       " 'creatures': 3830,\n",
       " 'huge': 7908,\n",
       " 'bake': 1271,\n",
       " 'houses': 7883,\n",
       " 'pyramids': 12609,\n",
       " 'simple': 14408,\n",
       " 'sailor': 13681,\n",
       " 'mast': 9944,\n",
       " 'plumb': 11929,\n",
       " 'forecastle': 6489,\n",
       " 'royal': 13574,\n",
       " 'true': 16591,\n",
       " 'order': 11068,\n",
       " 'make': 9785,\n",
       " 'jump': 8964,\n",
       " 'spar': 14867,\n",
       " 'grasshopper': 7129,\n",
       " 'unpleasant': 17028,\n",
       " 'touches': 16386,\n",
       " 'sense': 14042,\n",
       " 'honour': 7801,\n",
       " 'particularly': 11383,\n",
       " 'established': 5624,\n",
       " 'family': 5987,\n",
       " 'van': 17254,\n",
       " 'rensselaers': 13125,\n",
       " 'randolphs': 12762,\n",
       " 'hardicanutes': 7430,\n",
       " 'putting': 12603,\n",
       " 'tar': 15900,\n",
       " 'pot': 12087,\n",
       " 'lording': 9614,\n",
       " 'schoolmaster': 13845,\n",
       " 'making': 9791,\n",
       " 'tallest': 15872,\n",
       " 'boys': 1974,\n",
       " 'awe': 1202,\n",
       " 'transition': 16472,\n",
       " 'keen': 9001,\n",
       " 'assure': 1067,\n",
       " 'decoction': 4199,\n",
       " 'seneca': 14036,\n",
       " 'stoics': 15276,\n",
       " 'enable': 5385,\n",
       " 'grin': 7205,\n",
       " 'bear': 1437,\n",
       " 'wears': 17688,\n",
       " 'hunks': 7958,\n",
       " 'orders': 11071,\n",
       " 'broom': 2133,\n",
       " 'sweep': 15756,\n",
       " 'decks': 4188,\n",
       " 'indignity': 8331,\n",
       " 'weighed': 17719,\n",
       " 'scales': 13802,\n",
       " 'new': 10696,\n",
       " 'testament': 16044,\n",
       " 'think': 16103,\n",
       " 'archangel': 891,\n",
       " 'gabriel': 6751,\n",
       " 'thinks': 16107,\n",
       " 'promptly': 12409,\n",
       " 'obey': 10858,\n",
       " 'instance': 8539,\n",
       " 'ain': 523,\n",
       " 'slave': 14526,\n",
       " 'captains': 2424,\n",
       " 'thump': 16179,\n",
       " 'punch': 12548,\n",
       " 'satisfaction': 13755,\n",
       " 'knowing': 9098,\n",
       " 'everybody': 5670,\n",
       " 'served': 14087,\n",
       " 'physical': 11717,\n",
       " 'point': 11956,\n",
       " 'view': 17388,\n",
       " 'universal': 16972,\n",
       " 'passed': 11402,\n",
       " 'hands': 7392,\n",
       " 'rub': 13578,\n",
       " 'shoulder': 14290,\n",
       " 'blades': 1719,\n",
       " 'paying': 11473,\n",
       " 'trouble': 16579,\n",
       " 'pay': 11472,\n",
       " 'single': 14426,\n",
       " 'penny': 11561,\n",
       " 'heard': 7548,\n",
       " 'contrary': 3563,\n",
       " 'difference': 4549,\n",
       " 'paid': 11257,\n",
       " 'act': 304,\n",
       " 'uncomfortable': 16791,\n",
       " 'infliction': 8426,\n",
       " 'orchard': 11064,\n",
       " 'thieves': 16095,\n",
       " 'entailed': 5511,\n",
       " 'compare': 3221,\n",
       " 'urbane': 17188,\n",
       " 'activity': 311,\n",
       " 'receives': 12870,\n",
       " 'really': 12834,\n",
       " 'marvellous': 9927,\n",
       " 'considering': 3453,\n",
       " 'earnestly': 5159,\n",
       " 'believe': 1539,\n",
       " 'root': 13532,\n",
       " 'earthly': 5165,\n",
       " 'ills': 8064,\n",
       " 'monied': 10343,\n",
       " 'enter': 5515,\n",
       " 'heaven': 7578,\n",
       " 'ah': 507,\n",
       " 'cheerfully': 2707,\n",
       " 'consign': 3454,\n",
       " 'perdition': 11581,\n",
       " 'finally': 6224,\n",
       " 'wholesome': 17839,\n",
       " 'exercise': 5768,\n",
       " 'pure': 12569,\n",
       " 'air': 525,\n",
       " 'fore': 6486,\n",
       " 'castle': 2505,\n",
       " 'deck': 4187,\n",
       " 'far': 6007,\n",
       " 'prevalent': 12267,\n",
       " 'astern': 1073,\n",
       " 'violate': 17423,\n",
       " 'pythagorean': 12613,\n",
       " 'maxim': 9989,\n",
       " 'quarter': 12639,\n",
       " 'gets': 6904,\n",
       " 'atmosphere': 1095,\n",
       " 'second': 13966,\n",
       " 'sailors': 13682,\n",
       " 'breathes': 2029,\n",
       " 'commonalty': 3187,\n",
       " 'leaders': 9276,\n",
       " 'things': 16102,\n",
       " 'suspect': 15706,\n",
       " 'wherefore': 17781,\n",
       " 'repeatedly': 13140,\n",
       " 'smelt': 14634,\n",
       " 'merchant': 10096,\n",
       " 'whaling': 17763,\n",
       " 'invisible': 8718,\n",
       " 'police': 11973,\n",
       " 'fates': 6048,\n",
       " 'constant': 3474,\n",
       " 'surveillance': 15694,\n",
       " 'secretly': 13974,\n",
       " 'dogs': 4889,\n",
       " 'influences': 8429,\n",
       " 'unaccountable': 16732,\n",
       " 'answer': 749,\n",
       " 'doubtless': 4943,\n",
       " 'formed': 6546,\n",
       " 'grand': 7104,\n",
       " 'programme': 12384,\n",
       " 'providence': 12483,\n",
       " 'drawn': 4998,\n",
       " 'came': 2347,\n",
       " 'brief': 2069,\n",
       " 'interlude': 8619,\n",
       " 'solo': 14781,\n",
       " 'extensive': 5877,\n",
       " 'performances': 11592,\n",
       " 'run': 13621,\n",
       " 'contested': 3530,\n",
       " 'election': 5282,\n",
       " 'presidency': 12239,\n",
       " 'united': 16971,\n",
       " 'states': 15164,\n",
       " 'bloody': 1790,\n",
       " 'battle': 1410,\n",
       " 'affghanistan': 432,\n",
       " 'exactly': 5690,\n",
       " 'stage': 15094,\n",
       " 'managers': 9820,\n",
       " 'shabby': 14123,\n",
       " 'magnificent': 9754,\n",
       " 'parts': 11394,\n",
       " 'tragedies': 16433,\n",
       " 'short': 14283,\n",
       " 'easy': 5180,\n",
       " 'genteel': 6871,\n",
       " 'comedies': 3138,\n",
       " 'jolly': 8915,\n",
       " 'farces': 6008,\n",
       " 'recall': 12864,\n",
       " 'circumstances': 2847,\n",
       " 'springs': 15046,\n",
       " 'motives': 10424,\n",
       " 'cunningly': 3963,\n",
       " 'presented': 12225,\n",
       " 'various': 17267,\n",
       " 'disguises': 4706,\n",
       " 'induced': 8357,\n",
       " 'performing': 11594,\n",
       " 'cajoling': 2315,\n",
       " 'delusion': 4296,\n",
       " 'choice': 2769,\n",
       " 'resulting': 13303,\n",
       " 'unbiased': 16762,\n",
       " 'freewill': 6626,\n",
       " 'discriminating': 4680,\n",
       " 'judgment': 8949,\n",
       " 'overwhelming': 11213,\n",
       " 'idea': 8017,\n",
       " 'whale': 17748,\n",
       " 'portentous': 12040,\n",
       " 'mysterious': 10556,\n",
       " 'monster': 10356,\n",
       " 'roused': 13561,\n",
       " 'curiosity': 3981,\n",
       " 'wild': 17871,\n",
       " 'seas': 13950,\n",
       " 'rolled': 13512,\n",
       " 'island': 8779,\n",
       " 'bulk': 2190,\n",
       " 'undeliverable': 16825,\n",
       " 'nameless': 10574,\n",
       " 'perils': 11603,\n",
       " 'attending': 1120,\n",
       " 'marvels': 9929,\n",
       " 'patagonian': 11427,\n",
       " 'sights': 14374,\n",
       " 'sounds': 14832,\n",
       " 'helped': 7625,\n",
       " 'sway': 15744,\n",
       " 'wish': 17934,\n",
       " 'inducements': 8358,\n",
       " 'tormented': 16355,\n",
       " 'everlasting': 5667,\n",
       " 'itch': 8800,\n",
       " 'remote': 13102,\n",
       " 'love': 9638,\n",
       " 'forbidden': 6477,\n",
       " 'barbarous': 1336,\n",
       " 'coasts': 3027,\n",
       " 'ignoring': 8053,\n",
       " 'good': 7057,\n",
       " 'quick': 12661,\n",
       " 'perceive': 11570,\n",
       " 'horror': 7848,\n",
       " 'social': 14724,\n",
       " 'friendly': 6652,\n",
       " 'terms': 16021,\n",
       " 'inmates': 8475,\n",
       " 'place': 11833,\n",
       " 'lodges': 9556,\n",
       " 'reason': 12847,\n",
       " 'welcome': 17725,\n",
       " 'flood': 6371,\n",
       " 'gates': 6830,\n",
       " 'wonder': 17983,\n",
       " 'swung': 15799,\n",
       " 'open': 11021,\n",
       " 'conceits': 3297,\n",
       " 'swayed': 15745,\n",
       " 'purpose': 12579,\n",
       " 'floated': 6363,\n",
       " 'inmost': 8476,\n",
       " 'endless': 5429,\n",
       " 'processions': 12336,\n",
       " 'mid': 10150,\n",
       " 'hooded': 7809,\n",
       " 'snow': 14697,\n",
       " 'chapter': 2644,\n",
       " 'carpet': 2464,\n",
       " 'bag': 1259,\n",
       " 'stuffed': 15430,\n",
       " 'shirt': 14250,\n",
       " 'tucked': 16615,\n",
       " 'arm': 939,\n",
       " 'started': 15147,\n",
       " 'cape': 2403,\n",
       " 'horn': 7836,\n",
       " 'pacific': 11233,\n",
       " 'quitting': 12689,\n",
       " 'manhatto': 9833,\n",
       " 'duly': 5099,\n",
       " 'arrived': 963,\n",
       " 'bedford': 1473,\n",
       " 'saturday': 13760,\n",
       " 'night': 10717,\n",
       " 'december': 4173,\n",
       " 'disappointed': 4629,\n",
       " 'learning': 9299,\n",
       " 'packet': 11239,\n",
       " 'nantucket': 10577,\n",
       " 'sailed': 13676,\n",
       " 'offer': 10956,\n",
       " 'till': 16234,\n",
       " 'following': 6449,\n",
       " 'monday': 10338,\n",
       " 'young': 18175,\n",
       " 'candidates': 2369,\n",
       " 'pains': 11264,\n",
       " 'penalties': 11537,\n",
       " 'stop': 15292,\n",
       " 'embark': 5324,\n",
       " 'related': 13034,\n",
       " 'doing': 4890,\n",
       " 'craft': 3792,\n",
       " 'fine': 6229,\n",
       " 'boisterous': 1856,\n",
       " 'connected': 3418,\n",
       " 'famous': 5990,\n",
       " 'amazingly': 632,\n",
       " 'pleased': 11901,\n",
       " 'late': 9226,\n",
       " 'gradually': 7097,\n",
       " 'monopolising': 10350,\n",
       " 'business': 2257,\n",
       " 'matter': 9977,\n",
       " 'original': 11086,\n",
       " 'tyre': 16711,\n",
       " 'carthage': 2478,\n",
       " 'dead': 4130,\n",
       " 'stranded': 15332,\n",
       " 'aboriginal': 190,\n",
       " 'whalemen': 17755,\n",
       " 'red': 12933,\n",
       " 'sally': 13698,\n",
       " 'canoes': 2387,\n",
       " 'chase': 2676,\n",
       " 'leviathan': 9377,\n",
       " 'adventurous': 405,\n",
       " 'sloop': 14585,\n",
       " 'forth': 6557,\n",
       " 'partly': 11389,\n",
       " 'laden': 9139,\n",
       " 'imported': 8165,\n",
       " 'cobblestones': 3035,\n",
       " 'throw': 16169,\n",
       " 'whales': 17758,\n",
       " 'discover': 4667,\n",
       " 'risk': 13465,\n",
       " 'harpoon': 7452,\n",
       " 'bowsprit': 1966,\n",
       " 'day': 4122,\n",
       " 'ere': 5582,\n",
       " 'destined': 4458,\n",
       " 'port': 12036,\n",
       " 'concernment': 3314,\n",
       " 'eat': 5181,\n",
       " 'dubious': 5084,\n",
       " 'nay': 10630,\n",
       " 'dark': 4089,\n",
       " 'dismal': 4726,\n",
       " 'bitingly': 1695,\n",
       " 'cold': 3081,\n",
       " 'cheerless': 2712,\n",
       " 'anxious': 783,\n",
       " 'grapnels': 7119,\n",
       " 'sounded': 14828,\n",
       " 'pocket': 11945,\n",
       " 'brought': 2139,\n",
       " 'pieces': 11742,\n",
       " 'said': 13674,\n",
       " 'stood': 15287,\n",
       " 'middle': 10152,\n",
       " 'dreary': 5013,\n",
       " 'shouldering': 14292,\n",
       " 'comparing': 3223,\n",
       " 'gloom': 6998,\n",
       " 'darkness': 4096,\n",
       " 'wisdom': 17928,\n",
       " 'conclude': 3322,\n",
       " 'lodge': 9553,\n",
       " 'dear': 4143,\n",
       " 'sure': 15661,\n",
       " 'inquire': 8492,\n",
       " 'price': 12275,\n",
       " 'halting': 7355,\n",
       " 'steps': 15223,\n",
       " 'paced': 11231,\n",
       " 'sign': 14375,\n",
       " 'crossed': 3893,\n",
       " 'harpoons': 7458,\n",
       " 'looked': 9595,\n",
       " 'expensive': 5825,\n",
       " 'bright': 2075,\n",
       " 'windows': 17901,\n",
       " 'fish': 6257,\n",
       " 'inn': 8477,\n",
       " 'fervent': 6160,\n",
       " 'rays': 12809,\n",
       " 'melted': 10066,\n",
       " 'packed': 11238,\n",
       " 'ice': 8007,\n",
       " 'house': 7876,\n",
       " 'congealed': 3397,\n",
       " 'frost': 6685,\n",
       " 'lay': 9260,\n",
       " 'inches': 8233,\n",
       " 'hard': 7425,\n",
       " 'asphaltic': 1023,\n",
       " 'pavement': 11467,\n",
       " 'weary': 17689,\n",
       " 'struck': 15403,\n",
       " 'foot': 6461,\n",
       " 'flinty': 6355,\n",
       " 'projections': 12393,\n",
       " 'remorseless': 13100,\n",
       " 'service': 14089,\n",
       " 'soles': 14765,\n",
       " 'boots': 1902,\n",
       " 'miserable': 10240,\n",
       " 'plight': 11916,\n",
       " 'moment': 10330,\n",
       " 'watch': 17633,\n",
       " 'broad': 2114,\n",
       " 'glare': 6961,\n",
       " 'hear': 7547,\n",
       " 'tinkling': 16260,\n",
       " 'glasses': 6966,\n",
       " 'away': 1201,\n",
       " 'door': 4921,\n",
       " 'patched': 11429,\n",
       " 'stopping': 15295,\n",
       " 'went': 17734,\n",
       " 'instinct': 8547,\n",
       " 'followed': 6447,\n",
       " 'took': 16335,\n",
       " 'cheapest': 2690,\n",
       " 'cheeriest': 2709,\n",
       " 'inns': 8485,\n",
       " 'blocks': 1780,\n",
       " 'blackness': 1711,\n",
       " 'candle': 2371,\n",
       " 'moving': 10462,\n",
       " 'tomb': 16317,\n",
       " 'hour': 7873,\n",
       " 'proved': 12477,\n",
       " 'deserted': 4414,\n",
       " 'presently': 12229,\n",
       " 'smoky': 14656,\n",
       " 'light': 9419,\n",
       " 'proceeding': 12331,\n",
       " 'low': 9646,\n",
       " 'wide': 17852,\n",
       " 'building': 2183,\n",
       " 'invitingly': 8724,\n",
       " 'careless': 2449,\n",
       " 'meant': 10017,\n",
       " 'uses': 17202,\n",
       " 'public': 12515,\n",
       " 'entering': 5517,\n",
       " 'stumble': 15434,\n",
       " 'ash': 1003,\n",
       " 'box': 1967,\n",
       " 'porch': 12029,\n",
       " 'ha': 7305,\n",
       " 'flying': 6414,\n",
       " 'particles': 11381,\n",
       " 'choked': 2771,\n",
       " 'ashes': 1006,\n",
       " 'destroyed': 4462,\n",
       " 'gomorrah': 7053,\n",
       " 'trap': 16482,\n",
       " 'picked': 11728,\n",
       " 'hearing': 7550,\n",
       " 'loud': 9628,\n",
       " 'voice': 17467,\n",
       " 'pushed': 12598,\n",
       " 'opened': 11022,\n",
       " 'interior': 8614,\n",
       " 'black': 1704,\n",
       " 'parliament': 11358,\n",
       " 'sitting': 14453,\n",
       " 'tophet': 16343,\n",
       " 'faces': 5938,\n",
       " 'turned': 16656,\n",
       " 'rows': 13573,\n",
       " 'peer': 11521,\n",
       " 'angel': 706,\n",
       " 'doom': 4919,\n",
       " 'beating': 1454,\n",
       " 'book': 1885,\n",
       " 'pulpit': 12535,\n",
       " 'negro': 10668,\n",
       " 'church': 2807,\n",
       " 'preacher': 12148,\n",
       " 'text': 16057,\n",
       " 'weeping': 17716,\n",
       " 'wailing': 17521,\n",
       " 'teeth': 15966,\n",
       " 'gnashing': 7017,\n",
       " 'muttered': 10546,\n",
       " 'backing': 1240,\n",
       " 'wretched': 18080,\n",
       " 'entertainment': 5526,\n",
       " 'dim': 4583,\n",
       " 'docks': 4871,\n",
       " 'forlorn': 6536,\n",
       " 'creaking': 3819,\n",
       " 'swinging': 15786,\n",
       " 'white': 17823,\n",
       " 'painting': 11269,\n",
       " 'faintly': 5962,\n",
       " 'representing': 13176,\n",
       " 'tall': 15870,\n",
       " 'jet': 8864,\n",
       " 'misty': 10279,\n",
       " 'spray': 15040,\n",
       " 'words': 18017,\n",
       " 'underneath': 16834,\n",
       " 'spouter': 15026,\n",
       " 'peter': 11674,\n",
       " 'ominous': 10995,\n",
       " 'connexion': 3422,\n",
       " 'common': 3186,\n",
       " 'suppose': 15648,\n",
       " 'emigrant': 5354,\n",
       " 'quiet': 12673,\n",
       " 'dilapidated': 4574,\n",
       " 'wooden': 18004,\n",
       " 'carted': 2476,\n",
       " 'ruins': 13601,\n",
       " 'burnt': 2245,\n",
       " 'district': 4820,\n",
       " 'poverty': 12117,\n",
       " 'stricken': 15368,\n",
       " 'creak': 3818,\n",
       " 'spot': 15019,\n",
       " 'cheap': 2689,\n",
       " 'lodgings': 9558,\n",
       " 'best': 1610,\n",
       " 'pea': 11475,\n",
       " 'coffee': 3057,\n",
       " 'queer': 12649,\n",
       " 'gable': 6749,\n",
       " 'ended': 5425,\n",
       " 'palsied': 11294,\n",
       " 'sharp': 14172,\n",
       " 'bleak': 1749,\n",
       " 'corner': 3662,\n",
       " 'tempestuous': 15983,\n",
       " 'wind': 17894,\n",
       " 'euroclydon': 5647,\n",
       " 'kept': 9016,\n",
       " 'worse': 18036,\n",
       " 'howling': 7896,\n",
       " 'paul': 11455,\n",
       " 'tossed': 16374,\n",
       " 'mighty': 10167,\n",
       " 'pleasant': 11897,\n",
       " 'zephyr': 18189,\n",
       " 'doors': 4922,\n",
       " 'hob': 7748,\n",
       " 'toasting': 16289,\n",
       " 'bed': 1464,\n",
       " 'judging': 8947,\n",
       " 'called': 2332,\n",
       " 'says': 13795,\n",
       " 'writer': 18091,\n",
       " 'works': 18026,\n",
       " 'possess': 12064,\n",
       " 'copy': 3641,\n",
       " 'extant': 5872,\n",
       " 'maketh': 9790,\n",
       " 'thou': 16128,\n",
       " 'lookest': 9599,\n",
       " 'glass': 6965,\n",
       " 'window': 17900,\n",
       " 'outside': 11149,\n",
       " 'observest': 10896,\n",
       " 'sashless': 13745,\n",
       " 'sides': 14365,\n",
       " 'wight': 17865,\n",
       " 'death': 4146,\n",
       " 'glazier': 6970,\n",
       " 'passage': 11399,\n",
       " ...}"
      ]
     },
     "execution_count": 55,
     "metadata": {},
     "output_type": "execute_result"
    }
   ],
   "source": [
    "wcv = CountVectorizer(stop_words=\"english\")\n",
    "wcv.fit(both_books_train)\n",
    "wcv.vocabulary_"
   ]
  },
  {
   "cell_type": "markdown",
   "metadata": {},
   "source": [
    "From below, we can see that there 18,199 unique words that occur in our books. Thus, every line of each book is turned into a vector with 18,199 features (wow!)."
   ]
  },
  {
   "cell_type": "code",
   "execution_count": 56,
   "metadata": {
    "scrolled": true
   },
   "outputs": [
    {
     "data": {
      "text/plain": [
       "18199"
      ]
     },
     "execution_count": 56,
     "metadata": {},
     "output_type": "execute_result"
    }
   ],
   "source": [
    "len(wcv.vocabulary_)"
   ]
  },
  {
   "cell_type": "markdown",
   "metadata": {},
   "source": [
    "Now that we have a vectorizer, we can use it to transform each line of our books into 18,199 features:"
   ]
  },
  {
   "cell_type": "code",
   "execution_count": 57,
   "metadata": {},
   "outputs": [],
   "source": [
    "phi_both_books_train = wcv.transform(both_books_train)"
   ]
  },
  {
   "cell_type": "markdown",
   "metadata": {},
   "source": [
    "For example, we can see that line 70 in English is \"Whaling voyage by one ishmael\"."
   ]
  },
  {
   "cell_type": "code",
   "execution_count": 58,
   "metadata": {},
   "outputs": [
    {
     "data": {
      "text/plain": [
       "'\\n\"WHALING VOYAGE BY ONE ISHMAEL'"
      ]
     },
     "execution_count": 58,
     "metadata": {},
     "output_type": "execute_result"
    }
   ],
   "source": [
    "both_books_train[70]"
   ]
  },
  {
   "cell_type": "markdown",
   "metadata": {},
   "source": [
    "Let's try to look at the features that represent this sentence:"
   ]
  },
  {
   "cell_type": "code",
   "execution_count": 59,
   "metadata": {},
   "outputs": [
    {
     "data": {
      "text/plain": [
       "<1x18199 sparse matrix of type '<class 'numpy.int64'>'\n",
       "\twith 3 stored elements in Compressed Sparse Row format>"
      ]
     },
     "execution_count": 59,
     "metadata": {},
     "output_type": "execute_result"
    }
   ],
   "source": [
    "phi_both_books_train[70]"
   ]
  },
  {
   "cell_type": "markdown",
   "metadata": {},
   "source": [
    "Because almost all of the entries are zero in any given $\\phi$, you'll see they are stored ina  special format called a \"sparse matrix.\" We note that it says there are \"3 stored elements\". What it means by this is that only 3 of the features are non-zero.\n",
    "\n",
    "We won't talk about the details of sparse matrices in our class, but the basic idea is that rather than many thousands of zeros and only 3 ones, the data is stored in a special format. To see which 3 entries are not zero, we can use the `nonzero` function:"
   ]
  },
  {
   "cell_type": "code",
   "execution_count": 60,
   "metadata": {},
   "outputs": [
    {
     "data": {
      "text/plain": [
       "(array([0, 0, 0], dtype=int32), array([ 8777, 17490, 17763], dtype=int32))"
      ]
     },
     "execution_count": 60,
     "metadata": {},
     "output_type": "execute_result"
    }
   ],
   "source": [
    "phi_both_books_train[70].nonzero()"
   ]
  },
  {
   "cell_type": "markdown",
   "metadata": {},
   "source": [
    "This says that this sentence contains 3 non-stop words, namely words 8777, 17490, and 17763. To see which words, these are, we can use our vocabulary:"
   ]
  },
  {
   "cell_type": "code",
   "execution_count": 61,
   "metadata": {},
   "outputs": [
    {
     "name": "stdout",
     "output_type": "stream",
     "text": [
      "ishmael: 8777\n",
      "voyage: 17490\n",
      "whaling: 17763\n"
     ]
    }
   ],
   "source": [
    "for word, number in wcv.vocabulary_.items():\n",
    "    if number in {8777, 17490, 17763}:\n",
    "        print(f\"{word}: {number}\")"
   ]
  },
  {
   "cell_type": "markdown",
   "metadata": {},
   "source": [
    "From this, we see ishmael is \"8777\", whaling is word 17763, and voyage is word 17490. Apparently, this word count vectorizer considers \"by\" and \"one\" to be stop words."
   ]
  },
  {
   "cell_type": "markdown",
   "metadata": {},
   "source": [
    "When we represent text as word counts, this is known as a **bag of words** model."
   ]
  },
  {
   "cell_type": "markdown",
   "metadata": {},
   "source": [
    "Luckily, our logistic regression implementation (and all other sklearn classifiers) is able to handle a bag of words represented by sparse matrices. That is, we can train our LogisticRegression model just like normal."
   ]
  },
  {
   "cell_type": "code",
   "execution_count": 62,
   "metadata": {},
   "outputs": [
    {
     "data": {
      "text/plain": [
       "(1, 26)"
      ]
     },
     "execution_count": 62,
     "metadata": {},
     "output_type": "execute_result"
    }
   ],
   "source": [
    "lm.coef_.shape"
   ]
  },
  {
   "cell_type": "code",
   "execution_count": 63,
   "metadata": {},
   "outputs": [
    {
     "data": {
      "text/plain": [
       "LogisticRegression(C=1.0, class_weight=None, dual=False, fit_intercept=True,\n",
       "                   intercept_scaling=1, l1_ratio=None, max_iter=100,\n",
       "                   multi_class='auto', n_jobs=None, penalty='l2',\n",
       "                   random_state=None, solver='lbfgs', tol=0.0001, verbose=0,\n",
       "                   warm_start=False)"
      ]
     },
     "execution_count": 63,
     "metadata": {},
     "output_type": "execute_result"
    }
   ],
   "source": [
    "lm = LogisticRegression()\n",
    "lm.fit(phi_both_books_train, y_train)"
   ]
  },
  {
   "cell_type": "markdown",
   "metadata": {},
   "source": [
    "To use this classifer on new inputs, we need to first transform the inputs using the word count vectorizer. For example, consider the three sentences below:\n",
    "1. \"The whale on the moon had his Weibo account suspended\",\n",
    "2. \"The widow and the orphan slept at the Blacksmith's shop\",\n",
    "3. \"To use this classifer, we need to first transform our sentences using the word count vectorizer\"\n",
    "\n",
    "Our model will tell us the likelihood that each of these three sentences would appear in Great Expectations vs. Moby Dick.\n",
    "\n",
    "According to the code below, these sentence are:\n",
    "1. 98% likely to occur in Moby Dick (rather than Great Expectations)\n",
    "2. 84% likely to occur in Great Expectations (rather than Moby Dick)\n",
    "3. 68% likely to occur in Moby Dick (rather than Great Expectations)"
   ]
  },
  {
   "cell_type": "code",
   "execution_count": 64,
   "metadata": {},
   "outputs": [
    {
     "data": {
      "text/plain": [
       "array([[0.98126485, 0.01873515],\n",
       "       [0.16333259, 0.83666741],\n",
       "       [0.67762886, 0.32237114]])"
      ]
     },
     "execution_count": 64,
     "metadata": {},
     "output_type": "execute_result"
    }
   ],
   "source": [
    "phi_example = wcv.transform([\"The whale on the moon had his Weibo account suspended\",\n",
    "                \"The widow and the orphan slept at the Blacksmith's shop\",\n",
    "                \"To use this classifer, we need to first transform our sentences using the word count vectorizer\",\n",
    "             ])\n",
    "lm.predict_proba(phi_example)"
   ]
  },
  {
   "cell_type": "markdown",
   "metadata": {},
   "source": [
    "We can compute our overall training and test accuracy:"
   ]
  },
  {
   "cell_type": "code",
   "execution_count": 65,
   "metadata": {},
   "outputs": [
    {
     "data": {
      "text/plain": [
       "0.9755454545454545"
      ]
     },
     "execution_count": 65,
     "metadata": {},
     "output_type": "execute_result"
    }
   ],
   "source": [
    "lm_predictions_train = lm.predict(phi_both_books_train)\n",
    "accuracy_score(y_train, lm_predictions_train)"
   ]
  },
  {
   "cell_type": "code",
   "execution_count": 66,
   "metadata": {},
   "outputs": [
    {
     "data": {
      "text/plain": [
       "0.8661581137309292"
      ]
     },
     "execution_count": 66,
     "metadata": {},
     "output_type": "execute_result"
    }
   ],
   "source": [
    "phi_both_books_test = wcv.transform(both_books_test)\n",
    "lm_predictions_test = lm.predict(phi_both_books_test)\n",
    "accuracy_score(y_test, lm_predictions_test)"
   ]
  },
  {
   "cell_type": "markdown",
   "metadata": {},
   "source": [
    "We see that we get 95% and 86% accuracy on the training and test set respectively, which is much better than the 69% we got by doing letter counts."
   ]
  },
  {
   "cell_type": "markdown",
   "metadata": {},
   "source": [
    "To see which features are most important, we can look at the coefficients of our logistic regression model:"
   ]
  },
  {
   "cell_type": "code",
   "execution_count": 67,
   "metadata": {},
   "outputs": [
    {
     "data": {
      "text/plain": [
       "array([[-8.36002633e-01,  2.42777617e-02,  8.24104925e-04, ...,\n",
       "        -2.57382651e-02, -5.97829620e-02, -3.05046118e-02]])"
      ]
     },
     "execution_count": 67,
     "metadata": {},
     "output_type": "execute_result"
    }
   ],
   "source": [
    "lm.coef_"
   ]
  },
  {
   "cell_type": "markdown",
   "metadata": {},
   "source": [
    "Using argsort, we can get the 5 most important features."
   ]
  },
  {
   "cell_type": "code",
   "execution_count": 68,
   "metadata": {
    "scrolled": true
   },
   "outputs": [
    {
     "data": {
      "text/plain": [
       "array([ 8819, 15413, 17748,  8892, 12648])"
      ]
     },
     "execution_count": 68,
     "metadata": {},
     "output_type": "execute_result"
    }
   ],
   "source": [
    "np.argsort(abs(lm.coef_))[0][-5:]"
   ]
  },
  {
   "cell_type": "markdown",
   "metadata": {},
   "source": [
    "These coefficients have the values shown below:"
   ]
  },
  {
   "cell_type": "code",
   "execution_count": 69,
   "metadata": {
    "scrolled": false
   },
   "outputs": [
    {
     "data": {
      "text/plain": [
       "array([ 3.11750807, -3.15503924, -3.48784038,  3.64688072, -3.82231036])"
      ]
     },
     "execution_count": 69,
     "metadata": {},
     "output_type": "execute_result"
    }
   ],
   "source": [
    "lm.coef_[0, [8819, 15413, 17748,  8892, 12648]]"
   ]
  },
  {
   "cell_type": "code",
   "execution_count": 70,
   "metadata": {},
   "outputs": [
    {
     "data": {
      "text/plain": [
       "array([ 3.12, -3.16, -3.49,  3.65, -3.82])"
      ]
     },
     "execution_count": 70,
     "metadata": {},
     "output_type": "execute_result"
    }
   ],
   "source": [
    "np.array([3.12, -3.16, -3.49, 3.65, -3.82])"
   ]
  },
  {
   "cell_type": "markdown",
   "metadata": {},
   "source": [
    "And correspond to the words shown below:"
   ]
  },
  {
   "cell_type": "code",
   "execution_count": 71,
   "metadata": {
    "scrolled": true
   },
   "outputs": [
    {
     "name": "stdout",
     "output_type": "stream",
     "text": [
      "jaggers: 8819\n",
      "stubb: 15413\n",
      "whale: 17748\n",
      "joe: 8892\n",
      "queequeg: 12648\n"
     ]
    }
   ],
   "source": [
    "for number in [8819, 15413, 17748,  8892, 12648]:\n",
    "    for word, n2 in wcv.vocabulary_.items():\n",
    "        if number == n2:\n",
    "            print(f\"{word}: {number}\")    "
   ]
  },
  {
   "cell_type": "code",
   "execution_count": 72,
   "metadata": {},
   "outputs": [
    {
     "data": {
      "text/plain": [
       "array([-0.14744307])"
      ]
     },
     "execution_count": 72,
     "metadata": {},
     "output_type": "execute_result"
    }
   ],
   "source": [
    "lm.intercept_"
   ]
  },
  {
   "cell_type": "code",
   "execution_count": 73,
   "metadata": {},
   "outputs": [
    {
     "data": {
      "text/plain": [
       "array([[0.62662743, 0.37337257]])"
      ]
     },
     "execution_count": 73,
     "metadata": {},
     "output_type": "execute_result"
    }
   ],
   "source": [
    "lm.predict_proba(wcv.transform([\"jaggers is a whale\"]))"
   ]
  },
  {
   "cell_type": "markdown",
   "metadata": {},
   "source": [
    "#### Decision Tree Example"
   ]
  },
  {
   "cell_type": "markdown",
   "metadata": {},
   "source": [
    "We can of course build a decision tree as well using our word counts."
   ]
  },
  {
   "cell_type": "code",
   "execution_count": 74,
   "metadata": {},
   "outputs": [
    {
     "data": {
      "text/plain": [
       "DecisionTreeClassifier(ccp_alpha=0.0, class_weight=None, criterion='gini',\n",
       "                       max_depth=None, max_features=None, max_leaf_nodes=None,\n",
       "                       min_impurity_decrease=0.02, min_impurity_split=None,\n",
       "                       min_samples_leaf=1, min_samples_split=2,\n",
       "                       min_weight_fraction_leaf=0.0, presort='deprecated',\n",
       "                       random_state=None, splitter='best')"
      ]
     },
     "execution_count": 74,
     "metadata": {},
     "output_type": "execute_result"
    }
   ],
   "source": [
    "from sklearn.tree import DecisionTreeClassifier\n",
    "dt = DecisionTreeClassifier(min_impurity_decrease = 0.02)\n",
    "dt.fit(phi_both_books_train, y_train)"
   ]
  },
  {
   "cell_type": "code",
   "execution_count": 75,
   "metadata": {},
   "outputs": [
    {
     "data": {
      "text/plain": [
       "{'ishmael': 8777,\n",
       " 'years': 18149,\n",
       " 'ago': 492,\n",
       " 'mind': 10200,\n",
       " 'long': 9584,\n",
       " 'precisely': 12165,\n",
       " 'having': 7509,\n",
       " 'little': 9505,\n",
       " 'money': 10339,\n",
       " 'purse': 12585,\n",
       " 'particular': 11382,\n",
       " 'shore': 14278,\n",
       " 'thought': 16129,\n",
       " 'sail': 13675,\n",
       " 'watery': 17649,\n",
       " 'world': 18027,\n",
       " 'way': 17663,\n",
       " 'driving': 5043,\n",
       " 'spleen': 14984,\n",
       " 'regulating': 13010,\n",
       " 'circulation': 2832,\n",
       " 'growing': 7246,\n",
       " 'grim': 7199,\n",
       " 'mouth': 10451,\n",
       " 'damp': 4062,\n",
       " 'drizzly': 5044,\n",
       " 'november': 10814,\n",
       " 'soul': 14825,\n",
       " 'involuntarily': 8730,\n",
       " 'pausing': 11464,\n",
       " 'coffin': 3060,\n",
       " 'warehouses': 17595,\n",
       " 'bringing': 2096,\n",
       " 'rear': 12843,\n",
       " 'funeral': 6720,\n",
       " 'meet': 10054,\n",
       " 'especially': 5609,\n",
       " 'hypos': 8001,\n",
       " 'upper': 17174,\n",
       " 'hand': 7375,\n",
       " 'requires': 13207,\n",
       " 'strong': 15397,\n",
       " 'moral': 10384,\n",
       " 'principle': 12297,\n",
       " 'prevent': 12268,\n",
       " 'deliberately': 4268,\n",
       " 'stepping': 15222,\n",
       " 'street': 15356,\n",
       " 'methodically': 10136,\n",
       " 'knocking': 9088,\n",
       " 'people': 11564,\n",
       " 'hats': 7495,\n",
       " 'account': 256,\n",
       " 'high': 7685,\n",
       " 'time': 16241,\n",
       " 'sea': 13936,\n",
       " 'soon': 14800,\n",
       " 'substitute': 15490,\n",
       " 'pistol': 11806,\n",
       " 'ball': 1286,\n",
       " 'philosophical': 11700,\n",
       " 'flourish': 6383,\n",
       " 'cato': 2528,\n",
       " 'throws': 16172,\n",
       " 'sword': 15793,\n",
       " 'quietly': 12676,\n",
       " 'ship': 14239,\n",
       " 'surprising': 15683,\n",
       " 'knew': 9071,\n",
       " 'men': 10077,\n",
       " 'degree': 4256,\n",
       " 'cherish': 2721,\n",
       " 'nearly': 10636,\n",
       " 'feelings': 6119,\n",
       " 'ocean': 10934,\n",
       " 'insular': 8559,\n",
       " 'city': 2862,\n",
       " 'manhattoes': 9834,\n",
       " 'belted': 1563,\n",
       " 'round': 13553,\n",
       " 'wharves': 17766,\n",
       " 'indian': 8313,\n",
       " 'isles': 8783,\n",
       " 'coral': 3643,\n",
       " 'reefs': 12951,\n",
       " 'commerce': 3173,\n",
       " 'surrounds': 15692,\n",
       " 'surf': 15664,\n",
       " 'right': 13424,\n",
       " 'left': 9322,\n",
       " 'streets': 15357,\n",
       " 'waterward': 17648,\n",
       " 'extreme': 5905,\n",
       " 'downtown': 4955,\n",
       " 'battery': 1409,\n",
       " 'noble': 10737,\n",
       " 'mole': 10324,\n",
       " 'washed': 17621,\n",
       " 'waves': 17655,\n",
       " 'cooled': 3624,\n",
       " 'breezes': 2043,\n",
       " 'hours': 7875,\n",
       " 'previous': 12271,\n",
       " 'sight': 14371,\n",
       " 'land': 9169,\n",
       " 'look': 9594,\n",
       " 'crowds': 3906,\n",
       " 'water': 17642,\n",
       " 'gazers': 6847,\n",
       " 'circumambulate': 2834,\n",
       " 'dreamy': 5011,\n",
       " 'sabbath': 13644,\n",
       " 'afternoon': 468,\n",
       " 'corlears': 3659,\n",
       " 'hook': 7813,\n",
       " 'coenties': 3053,\n",
       " 'slip': 14573,\n",
       " 'whitehall': 17824,\n",
       " 'northward': 10775,\n",
       " 'posted': 12077,\n",
       " 'like': 9431,\n",
       " 'silent': 14392,\n",
       " 'sentinels': 14057,\n",
       " 'town': 16404,\n",
       " 'stand': 15126,\n",
       " 'thousands': 16136,\n",
       " 'mortal': 10401,\n",
       " 'fixed': 6281,\n",
       " 'reveries': 13362,\n",
       " 'leaning': 9290,\n",
       " 'spiles': 14949,\n",
       " 'seated': 13956,\n",
       " 'pier': 11745,\n",
       " 'heads': 7534,\n",
       " 'looking': 9600,\n",
       " 'bulwarks': 2204,\n",
       " 'ships': 14245,\n",
       " 'china': 2755,\n",
       " 'aloft': 605,\n",
       " 'rigging': 13423,\n",
       " 'striving': 15391,\n",
       " 'better': 1633,\n",
       " 'seaward': 13959,\n",
       " 'peep': 11518,\n",
       " 'landsmen': 9179,\n",
       " 'week': 17711,\n",
       " 'days': 4125,\n",
       " 'pent': 11563,\n",
       " 'lath': 9233,\n",
       " 'plaster': 11869,\n",
       " 'tied': 16216,\n",
       " 'counters': 3728,\n",
       " 'nailed': 10567,\n",
       " 'benches': 1566,\n",
       " 'clinched': 2961,\n",
       " 'desks': 4434,\n",
       " 'green': 7168,\n",
       " 'fields': 6193,\n",
       " 'gone': 7054,\n",
       " 'come': 3137,\n",
       " 'pacing': 11235,\n",
       " 'straight': 15321,\n",
       " 'seemingly': 13996,\n",
       " 'bound': 1937,\n",
       " 'dive': 4837,\n",
       " 'strange': 15334,\n",
       " 'content': 3523,\n",
       " 'extremest': 5908,\n",
       " 'limit': 9452,\n",
       " 'loitering': 9571,\n",
       " 'shady': 14135,\n",
       " 'lee': 9316,\n",
       " 'yonder': 18171,\n",
       " 'suffice': 15540,\n",
       " 'just': 8982,\n",
       " 'nigh': 10716,\n",
       " 'possibly': 12074,\n",
       " 'falling': 5975,\n",
       " 'miles': 10179,\n",
       " 'leagues': 9283,\n",
       " 'inlanders': 8472,\n",
       " 'lanes': 9181,\n",
       " 'alleys': 580,\n",
       " 'avenues': 1181,\n",
       " 'north': 10772,\n",
       " 'east': 5176,\n",
       " 'south': 14839,\n",
       " 'west': 17739,\n",
       " 'unite': 16970,\n",
       " 'tell': 15970,\n",
       " 'does': 4882,\n",
       " 'magnetic': 9749,\n",
       " 'virtue': 17431,\n",
       " 'needles': 10657,\n",
       " 'compasses': 3226,\n",
       " 'attract': 1135,\n",
       " 'thither': 16119,\n",
       " 'say': 13792,\n",
       " 'country': 3736,\n",
       " 'lakes': 9152,\n",
       " 'path': 11437,\n",
       " 'carries': 2469,\n",
       " 'dale': 4048,\n",
       " 'leaves': 9306,\n",
       " 'pool': 12012,\n",
       " 'stream': 15352,\n",
       " 'magic': 9739,\n",
       " 'let': 9362,\n",
       " 'absent': 205,\n",
       " 'minded': 10201,\n",
       " 'plunged': 11939,\n",
       " 'deepest': 4220,\n",
       " 'man': 9813,\n",
       " 'legs': 9337,\n",
       " 'set': 14093,\n",
       " 'feet': 6122,\n",
       " 'going': 7047,\n",
       " 'infallibly': 8390,\n",
       " 'lead': 9272,\n",
       " 'region': 13001,\n",
       " 'athirst': 1090,\n",
       " 'great': 7157,\n",
       " 'american': 647,\n",
       " 'desert': 4413,\n",
       " 'try': 16608,\n",
       " 'experiment': 5830,\n",
       " 'caravan': 2434,\n",
       " 'happen': 7411,\n",
       " 'supplied': 15642,\n",
       " 'metaphysical': 10129,\n",
       " 'professor': 12365,\n",
       " 'yes': 18159,\n",
       " 'knows': 9102,\n",
       " 'meditation': 10045,\n",
       " 'wedded': 17702,\n",
       " 'artist': 985,\n",
       " 'desires': 4428,\n",
       " 'paint': 11265,\n",
       " 'dreamiest': 5006,\n",
       " 'shadiest': 14128,\n",
       " 'quietest': 12675,\n",
       " 'enchanting': 5394,\n",
       " 'bit': 1690,\n",
       " 'romantic': 13521,\n",
       " 'landscape': 9177,\n",
       " 'valley': 17245,\n",
       " 'saco': 13651,\n",
       " 'chief': 2738,\n",
       " 'element': 5287,\n",
       " 'employs': 5377,\n",
       " 'trees': 16514,\n",
       " 'hollow': 7778,\n",
       " 'trunk': 16599,\n",
       " 'hermit': 7655,\n",
       " 'crucifix': 3914,\n",
       " 'sleeps': 14542,\n",
       " 'meadow': 10001,\n",
       " 'sleep': 14534,\n",
       " 'cattle': 2532,\n",
       " 'cottage': 3703,\n",
       " 'goes': 7043,\n",
       " 'sleepy': 14543,\n",
       " 'smoke': 14651,\n",
       " 'deep': 4216,\n",
       " 'distant': 4798,\n",
       " 'woodlands': 18006,\n",
       " 'winds': 17904,\n",
       " 'mazy': 10000,\n",
       " 'reaching': 12815,\n",
       " 'overlapping': 11182,\n",
       " 'spurs': 15058,\n",
       " 'mountains': 10440,\n",
       " 'bathed': 1400,\n",
       " 'hill': 7696,\n",
       " 'blue': 1807,\n",
       " 'picture': 11735,\n",
       " 'lies': 9406,\n",
       " 'tranced': 16447,\n",
       " 'pine': 11782,\n",
       " 'tree': 16513,\n",
       " 'shakes': 14144,\n",
       " 'sighs': 14370,\n",
       " 'shepherd': 14216,\n",
       " 'head': 7523,\n",
       " 'vain': 17238,\n",
       " 'unless': 16980,\n",
       " 'eye': 5916,\n",
       " 'visit': 17442,\n",
       " 'prairies': 12135,\n",
       " 'june': 8970,\n",
       " 'scores': 13865,\n",
       " 'wade': 17505,\n",
       " 'knee': 9066,\n",
       " 'tiger': 16221,\n",
       " 'lilies': 9442,\n",
       " 'charm': 2665,\n",
       " 'wanting': 17580,\n",
       " 'drop': 5050,\n",
       " 'niagara': 10705,\n",
       " 'cataract': 2515,\n",
       " 'sand': 13720,\n",
       " 'travel': 16487,\n",
       " 'thousand': 16135,\n",
       " 'did': 4539,\n",
       " 'poor': 12014,\n",
       " 'poet': 11951,\n",
       " 'tennessee': 16006,\n",
       " 'suddenly': 15529,\n",
       " 'receiving': 12871,\n",
       " 'handfuls': 7383,\n",
       " 'silver': 14399,\n",
       " 'deliberate': 4266,\n",
       " 'buy': 2285,\n",
       " 'coat': 3028,\n",
       " 'sadly': 13662,\n",
       " 'needed': 10653,\n",
       " 'invest': 8704,\n",
       " 'pedestrian': 11509,\n",
       " 'trip': 16555,\n",
       " 'rockaway': 13497,\n",
       " 'beach': 1421,\n",
       " 'robust': 13494,\n",
       " 'healthy': 7542,\n",
       " 'boy': 1971,\n",
       " 'crazy': 3816,\n",
       " 'voyage': 17490,\n",
       " 'passenger': 11403,\n",
       " 'feel': 6116,\n",
       " 'mystical': 10560,\n",
       " 'vibration': 17367,\n",
       " 'told': 16308,\n",
       " 'old': 10985,\n",
       " 'persians': 11636,\n",
       " 'hold': 7762,\n",
       " 'holy': 7783,\n",
       " 'greeks': 7167,\n",
       " 'separate': 14059,\n",
       " 'deity': 4259,\n",
       " 'brother': 2135,\n",
       " 'jove': 8931,\n",
       " 'surely': 15662,\n",
       " 'meaning': 10011,\n",
       " 'deeper': 4219,\n",
       " 'story': 15307,\n",
       " 'narcissus': 10587,\n",
       " 'grasp': 7123,\n",
       " 'tormenting': 16356,\n",
       " 'mild': 10173,\n",
       " 'image': 8074,\n",
       " 'saw': 13784,\n",
       " 'fountain': 6586,\n",
       " 'drowned': 5060,\n",
       " 'rivers': 13472,\n",
       " 'oceans': 10936,\n",
       " 'ungraspable': 16932,\n",
       " 'phantom': 11683,\n",
       " 'life': 9409,\n",
       " 'key': 9020,\n",
       " 'habit': 7310,\n",
       " 'begin': 1504,\n",
       " 'grow': 7244,\n",
       " 'hazy': 7522,\n",
       " 'eyes': 5924,\n",
       " 'conscious': 3432,\n",
       " 'lungs': 9689,\n",
       " 'mean': 10009,\n",
       " 'inferred': 8409,\n",
       " 'needs': 10662,\n",
       " 'rag': 12722,\n",
       " 'passengers': 11404,\n",
       " 'sick': 14358,\n",
       " 'quarrelsome': 12636,\n",
       " 'don': 4912,\n",
       " 'nights': 10722,\n",
       " 'enjoy': 5481,\n",
       " 'general': 6858,\n",
       " 'thing': 16101,\n",
       " 'salt': 13700,\n",
       " 'commodore': 3184,\n",
       " 'captain': 2423,\n",
       " 'cook': 3618,\n",
       " 'abandon': 152,\n",
       " 'glory': 7005,\n",
       " 'distinction': 4804,\n",
       " 'offices': 10964,\n",
       " 'abominate': 187,\n",
       " 'honourable': 7802,\n",
       " 'respectable': 13261,\n",
       " 'toils': 16305,\n",
       " 'trials': 16531,\n",
       " 'tribulations': 16538,\n",
       " 'kind': 9041,\n",
       " 'whatsoever': 17767,\n",
       " 'quite': 12685,\n",
       " 'care': 2442,\n",
       " 'taking': 15858,\n",
       " 'barques': 1364,\n",
       " 'brigs': 2082,\n",
       " 'schooners': 13849,\n",
       " 'confess': 3361,\n",
       " 'considerable': 3447,\n",
       " 'sort': 14819,\n",
       " 'officer': 10961,\n",
       " 'board': 1825,\n",
       " 'fancied': 5995,\n",
       " 'broiling': 2120,\n",
       " 'fowls': 6593,\n",
       " 'broiled': 2119,\n",
       " 'judiciously': 8953,\n",
       " 'buttered': 2273,\n",
       " 'judgmatically': 8948,\n",
       " 'salted': 13702,\n",
       " 'peppered': 11567,\n",
       " 'speak': 14882,\n",
       " 'respectfully': 13264,\n",
       " 'reverentially': 13360,\n",
       " 'fowl': 6592,\n",
       " 'idolatrous': 8037,\n",
       " 'dotings': 4931,\n",
       " 'egyptians': 5253,\n",
       " 'ibis': 8006,\n",
       " 'roasted': 13483,\n",
       " 'river': 13471,\n",
       " 'horse': 7850,\n",
       " 'mummies': 10499,\n",
       " 'creatures': 3830,\n",
       " 'huge': 7908,\n",
       " 'bake': 1271,\n",
       " 'houses': 7883,\n",
       " 'pyramids': 12609,\n",
       " 'simple': 14408,\n",
       " 'sailor': 13681,\n",
       " 'mast': 9944,\n",
       " 'plumb': 11929,\n",
       " 'forecastle': 6489,\n",
       " 'royal': 13574,\n",
       " 'true': 16591,\n",
       " 'order': 11068,\n",
       " 'make': 9785,\n",
       " 'jump': 8964,\n",
       " 'spar': 14867,\n",
       " 'grasshopper': 7129,\n",
       " 'unpleasant': 17028,\n",
       " 'touches': 16386,\n",
       " 'sense': 14042,\n",
       " 'honour': 7801,\n",
       " 'particularly': 11383,\n",
       " 'established': 5624,\n",
       " 'family': 5987,\n",
       " 'van': 17254,\n",
       " 'rensselaers': 13125,\n",
       " 'randolphs': 12762,\n",
       " 'hardicanutes': 7430,\n",
       " 'putting': 12603,\n",
       " 'tar': 15900,\n",
       " 'pot': 12087,\n",
       " 'lording': 9614,\n",
       " 'schoolmaster': 13845,\n",
       " 'making': 9791,\n",
       " 'tallest': 15872,\n",
       " 'boys': 1974,\n",
       " 'awe': 1202,\n",
       " 'transition': 16472,\n",
       " 'keen': 9001,\n",
       " 'assure': 1067,\n",
       " 'decoction': 4199,\n",
       " 'seneca': 14036,\n",
       " 'stoics': 15276,\n",
       " 'enable': 5385,\n",
       " 'grin': 7205,\n",
       " 'bear': 1437,\n",
       " 'wears': 17688,\n",
       " 'hunks': 7958,\n",
       " 'orders': 11071,\n",
       " 'broom': 2133,\n",
       " 'sweep': 15756,\n",
       " 'decks': 4188,\n",
       " 'indignity': 8331,\n",
       " 'weighed': 17719,\n",
       " 'scales': 13802,\n",
       " 'new': 10696,\n",
       " 'testament': 16044,\n",
       " 'think': 16103,\n",
       " 'archangel': 891,\n",
       " 'gabriel': 6751,\n",
       " 'thinks': 16107,\n",
       " 'promptly': 12409,\n",
       " 'obey': 10858,\n",
       " 'instance': 8539,\n",
       " 'ain': 523,\n",
       " 'slave': 14526,\n",
       " 'captains': 2424,\n",
       " 'thump': 16179,\n",
       " 'punch': 12548,\n",
       " 'satisfaction': 13755,\n",
       " 'knowing': 9098,\n",
       " 'everybody': 5670,\n",
       " 'served': 14087,\n",
       " 'physical': 11717,\n",
       " 'point': 11956,\n",
       " 'view': 17388,\n",
       " 'universal': 16972,\n",
       " 'passed': 11402,\n",
       " 'hands': 7392,\n",
       " 'rub': 13578,\n",
       " 'shoulder': 14290,\n",
       " 'blades': 1719,\n",
       " 'paying': 11473,\n",
       " 'trouble': 16579,\n",
       " 'pay': 11472,\n",
       " 'single': 14426,\n",
       " 'penny': 11561,\n",
       " 'heard': 7548,\n",
       " 'contrary': 3563,\n",
       " 'difference': 4549,\n",
       " 'paid': 11257,\n",
       " 'act': 304,\n",
       " 'uncomfortable': 16791,\n",
       " 'infliction': 8426,\n",
       " 'orchard': 11064,\n",
       " 'thieves': 16095,\n",
       " 'entailed': 5511,\n",
       " 'compare': 3221,\n",
       " 'urbane': 17188,\n",
       " 'activity': 311,\n",
       " 'receives': 12870,\n",
       " 'really': 12834,\n",
       " 'marvellous': 9927,\n",
       " 'considering': 3453,\n",
       " 'earnestly': 5159,\n",
       " 'believe': 1539,\n",
       " 'root': 13532,\n",
       " 'earthly': 5165,\n",
       " 'ills': 8064,\n",
       " 'monied': 10343,\n",
       " 'enter': 5515,\n",
       " 'heaven': 7578,\n",
       " 'ah': 507,\n",
       " 'cheerfully': 2707,\n",
       " 'consign': 3454,\n",
       " 'perdition': 11581,\n",
       " 'finally': 6224,\n",
       " 'wholesome': 17839,\n",
       " 'exercise': 5768,\n",
       " 'pure': 12569,\n",
       " 'air': 525,\n",
       " 'fore': 6486,\n",
       " 'castle': 2505,\n",
       " 'deck': 4187,\n",
       " 'far': 6007,\n",
       " 'prevalent': 12267,\n",
       " 'astern': 1073,\n",
       " 'violate': 17423,\n",
       " 'pythagorean': 12613,\n",
       " 'maxim': 9989,\n",
       " 'quarter': 12639,\n",
       " 'gets': 6904,\n",
       " 'atmosphere': 1095,\n",
       " 'second': 13966,\n",
       " 'sailors': 13682,\n",
       " 'breathes': 2029,\n",
       " 'commonalty': 3187,\n",
       " 'leaders': 9276,\n",
       " 'things': 16102,\n",
       " 'suspect': 15706,\n",
       " 'wherefore': 17781,\n",
       " 'repeatedly': 13140,\n",
       " 'smelt': 14634,\n",
       " 'merchant': 10096,\n",
       " 'whaling': 17763,\n",
       " 'invisible': 8718,\n",
       " 'police': 11973,\n",
       " 'fates': 6048,\n",
       " 'constant': 3474,\n",
       " 'surveillance': 15694,\n",
       " 'secretly': 13974,\n",
       " 'dogs': 4889,\n",
       " 'influences': 8429,\n",
       " 'unaccountable': 16732,\n",
       " 'answer': 749,\n",
       " 'doubtless': 4943,\n",
       " 'formed': 6546,\n",
       " 'grand': 7104,\n",
       " 'programme': 12384,\n",
       " 'providence': 12483,\n",
       " 'drawn': 4998,\n",
       " 'came': 2347,\n",
       " 'brief': 2069,\n",
       " 'interlude': 8619,\n",
       " 'solo': 14781,\n",
       " 'extensive': 5877,\n",
       " 'performances': 11592,\n",
       " 'run': 13621,\n",
       " 'contested': 3530,\n",
       " 'election': 5282,\n",
       " 'presidency': 12239,\n",
       " 'united': 16971,\n",
       " 'states': 15164,\n",
       " 'bloody': 1790,\n",
       " 'battle': 1410,\n",
       " 'affghanistan': 432,\n",
       " 'exactly': 5690,\n",
       " 'stage': 15094,\n",
       " 'managers': 9820,\n",
       " 'shabby': 14123,\n",
       " 'magnificent': 9754,\n",
       " 'parts': 11394,\n",
       " 'tragedies': 16433,\n",
       " 'short': 14283,\n",
       " 'easy': 5180,\n",
       " 'genteel': 6871,\n",
       " 'comedies': 3138,\n",
       " 'jolly': 8915,\n",
       " 'farces': 6008,\n",
       " 'recall': 12864,\n",
       " 'circumstances': 2847,\n",
       " 'springs': 15046,\n",
       " 'motives': 10424,\n",
       " 'cunningly': 3963,\n",
       " 'presented': 12225,\n",
       " 'various': 17267,\n",
       " 'disguises': 4706,\n",
       " 'induced': 8357,\n",
       " 'performing': 11594,\n",
       " 'cajoling': 2315,\n",
       " 'delusion': 4296,\n",
       " 'choice': 2769,\n",
       " 'resulting': 13303,\n",
       " 'unbiased': 16762,\n",
       " 'freewill': 6626,\n",
       " 'discriminating': 4680,\n",
       " 'judgment': 8949,\n",
       " 'overwhelming': 11213,\n",
       " 'idea': 8017,\n",
       " 'whale': 17748,\n",
       " 'portentous': 12040,\n",
       " 'mysterious': 10556,\n",
       " 'monster': 10356,\n",
       " 'roused': 13561,\n",
       " 'curiosity': 3981,\n",
       " 'wild': 17871,\n",
       " 'seas': 13950,\n",
       " 'rolled': 13512,\n",
       " 'island': 8779,\n",
       " 'bulk': 2190,\n",
       " 'undeliverable': 16825,\n",
       " 'nameless': 10574,\n",
       " 'perils': 11603,\n",
       " 'attending': 1120,\n",
       " 'marvels': 9929,\n",
       " 'patagonian': 11427,\n",
       " 'sights': 14374,\n",
       " 'sounds': 14832,\n",
       " 'helped': 7625,\n",
       " 'sway': 15744,\n",
       " 'wish': 17934,\n",
       " 'inducements': 8358,\n",
       " 'tormented': 16355,\n",
       " 'everlasting': 5667,\n",
       " 'itch': 8800,\n",
       " 'remote': 13102,\n",
       " 'love': 9638,\n",
       " 'forbidden': 6477,\n",
       " 'barbarous': 1336,\n",
       " 'coasts': 3027,\n",
       " 'ignoring': 8053,\n",
       " 'good': 7057,\n",
       " 'quick': 12661,\n",
       " 'perceive': 11570,\n",
       " 'horror': 7848,\n",
       " 'social': 14724,\n",
       " 'friendly': 6652,\n",
       " 'terms': 16021,\n",
       " 'inmates': 8475,\n",
       " 'place': 11833,\n",
       " 'lodges': 9556,\n",
       " 'reason': 12847,\n",
       " 'welcome': 17725,\n",
       " 'flood': 6371,\n",
       " 'gates': 6830,\n",
       " 'wonder': 17983,\n",
       " 'swung': 15799,\n",
       " 'open': 11021,\n",
       " 'conceits': 3297,\n",
       " 'swayed': 15745,\n",
       " 'purpose': 12579,\n",
       " 'floated': 6363,\n",
       " 'inmost': 8476,\n",
       " 'endless': 5429,\n",
       " 'processions': 12336,\n",
       " 'mid': 10150,\n",
       " 'hooded': 7809,\n",
       " 'snow': 14697,\n",
       " 'chapter': 2644,\n",
       " 'carpet': 2464,\n",
       " 'bag': 1259,\n",
       " 'stuffed': 15430,\n",
       " 'shirt': 14250,\n",
       " 'tucked': 16615,\n",
       " 'arm': 939,\n",
       " 'started': 15147,\n",
       " 'cape': 2403,\n",
       " 'horn': 7836,\n",
       " 'pacific': 11233,\n",
       " 'quitting': 12689,\n",
       " 'manhatto': 9833,\n",
       " 'duly': 5099,\n",
       " 'arrived': 963,\n",
       " 'bedford': 1473,\n",
       " 'saturday': 13760,\n",
       " 'night': 10717,\n",
       " 'december': 4173,\n",
       " 'disappointed': 4629,\n",
       " 'learning': 9299,\n",
       " 'packet': 11239,\n",
       " 'nantucket': 10577,\n",
       " 'sailed': 13676,\n",
       " 'offer': 10956,\n",
       " 'till': 16234,\n",
       " 'following': 6449,\n",
       " 'monday': 10338,\n",
       " 'young': 18175,\n",
       " 'candidates': 2369,\n",
       " 'pains': 11264,\n",
       " 'penalties': 11537,\n",
       " 'stop': 15292,\n",
       " 'embark': 5324,\n",
       " 'related': 13034,\n",
       " 'doing': 4890,\n",
       " 'craft': 3792,\n",
       " 'fine': 6229,\n",
       " 'boisterous': 1856,\n",
       " 'connected': 3418,\n",
       " 'famous': 5990,\n",
       " 'amazingly': 632,\n",
       " 'pleased': 11901,\n",
       " 'late': 9226,\n",
       " 'gradually': 7097,\n",
       " 'monopolising': 10350,\n",
       " 'business': 2257,\n",
       " 'matter': 9977,\n",
       " 'original': 11086,\n",
       " 'tyre': 16711,\n",
       " 'carthage': 2478,\n",
       " 'dead': 4130,\n",
       " 'stranded': 15332,\n",
       " 'aboriginal': 190,\n",
       " 'whalemen': 17755,\n",
       " 'red': 12933,\n",
       " 'sally': 13698,\n",
       " 'canoes': 2387,\n",
       " 'chase': 2676,\n",
       " 'leviathan': 9377,\n",
       " 'adventurous': 405,\n",
       " 'sloop': 14585,\n",
       " 'forth': 6557,\n",
       " 'partly': 11389,\n",
       " 'laden': 9139,\n",
       " 'imported': 8165,\n",
       " 'cobblestones': 3035,\n",
       " 'throw': 16169,\n",
       " 'whales': 17758,\n",
       " 'discover': 4667,\n",
       " 'risk': 13465,\n",
       " 'harpoon': 7452,\n",
       " 'bowsprit': 1966,\n",
       " 'day': 4122,\n",
       " 'ere': 5582,\n",
       " 'destined': 4458,\n",
       " 'port': 12036,\n",
       " 'concernment': 3314,\n",
       " 'eat': 5181,\n",
       " 'dubious': 5084,\n",
       " 'nay': 10630,\n",
       " 'dark': 4089,\n",
       " 'dismal': 4726,\n",
       " 'bitingly': 1695,\n",
       " 'cold': 3081,\n",
       " 'cheerless': 2712,\n",
       " 'anxious': 783,\n",
       " 'grapnels': 7119,\n",
       " 'sounded': 14828,\n",
       " 'pocket': 11945,\n",
       " 'brought': 2139,\n",
       " 'pieces': 11742,\n",
       " 'said': 13674,\n",
       " 'stood': 15287,\n",
       " 'middle': 10152,\n",
       " 'dreary': 5013,\n",
       " 'shouldering': 14292,\n",
       " 'comparing': 3223,\n",
       " 'gloom': 6998,\n",
       " 'darkness': 4096,\n",
       " 'wisdom': 17928,\n",
       " 'conclude': 3322,\n",
       " 'lodge': 9553,\n",
       " 'dear': 4143,\n",
       " 'sure': 15661,\n",
       " 'inquire': 8492,\n",
       " 'price': 12275,\n",
       " 'halting': 7355,\n",
       " 'steps': 15223,\n",
       " 'paced': 11231,\n",
       " 'sign': 14375,\n",
       " 'crossed': 3893,\n",
       " 'harpoons': 7458,\n",
       " 'looked': 9595,\n",
       " 'expensive': 5825,\n",
       " 'bright': 2075,\n",
       " 'windows': 17901,\n",
       " 'fish': 6257,\n",
       " 'inn': 8477,\n",
       " 'fervent': 6160,\n",
       " 'rays': 12809,\n",
       " 'melted': 10066,\n",
       " 'packed': 11238,\n",
       " 'ice': 8007,\n",
       " 'house': 7876,\n",
       " 'congealed': 3397,\n",
       " 'frost': 6685,\n",
       " 'lay': 9260,\n",
       " 'inches': 8233,\n",
       " 'hard': 7425,\n",
       " 'asphaltic': 1023,\n",
       " 'pavement': 11467,\n",
       " 'weary': 17689,\n",
       " 'struck': 15403,\n",
       " 'foot': 6461,\n",
       " 'flinty': 6355,\n",
       " 'projections': 12393,\n",
       " 'remorseless': 13100,\n",
       " 'service': 14089,\n",
       " 'soles': 14765,\n",
       " 'boots': 1902,\n",
       " 'miserable': 10240,\n",
       " 'plight': 11916,\n",
       " 'moment': 10330,\n",
       " 'watch': 17633,\n",
       " 'broad': 2114,\n",
       " 'glare': 6961,\n",
       " 'hear': 7547,\n",
       " 'tinkling': 16260,\n",
       " 'glasses': 6966,\n",
       " 'away': 1201,\n",
       " 'door': 4921,\n",
       " 'patched': 11429,\n",
       " 'stopping': 15295,\n",
       " 'went': 17734,\n",
       " 'instinct': 8547,\n",
       " 'followed': 6447,\n",
       " 'took': 16335,\n",
       " 'cheapest': 2690,\n",
       " 'cheeriest': 2709,\n",
       " 'inns': 8485,\n",
       " 'blocks': 1780,\n",
       " 'blackness': 1711,\n",
       " 'candle': 2371,\n",
       " 'moving': 10462,\n",
       " 'tomb': 16317,\n",
       " 'hour': 7873,\n",
       " 'proved': 12477,\n",
       " 'deserted': 4414,\n",
       " 'presently': 12229,\n",
       " 'smoky': 14656,\n",
       " 'light': 9419,\n",
       " 'proceeding': 12331,\n",
       " 'low': 9646,\n",
       " 'wide': 17852,\n",
       " 'building': 2183,\n",
       " 'invitingly': 8724,\n",
       " 'careless': 2449,\n",
       " 'meant': 10017,\n",
       " 'uses': 17202,\n",
       " 'public': 12515,\n",
       " 'entering': 5517,\n",
       " 'stumble': 15434,\n",
       " 'ash': 1003,\n",
       " 'box': 1967,\n",
       " 'porch': 12029,\n",
       " 'ha': 7305,\n",
       " 'flying': 6414,\n",
       " 'particles': 11381,\n",
       " 'choked': 2771,\n",
       " 'ashes': 1006,\n",
       " 'destroyed': 4462,\n",
       " 'gomorrah': 7053,\n",
       " 'trap': 16482,\n",
       " 'picked': 11728,\n",
       " 'hearing': 7550,\n",
       " 'loud': 9628,\n",
       " 'voice': 17467,\n",
       " 'pushed': 12598,\n",
       " 'opened': 11022,\n",
       " 'interior': 8614,\n",
       " 'black': 1704,\n",
       " 'parliament': 11358,\n",
       " 'sitting': 14453,\n",
       " 'tophet': 16343,\n",
       " 'faces': 5938,\n",
       " 'turned': 16656,\n",
       " 'rows': 13573,\n",
       " 'peer': 11521,\n",
       " 'angel': 706,\n",
       " 'doom': 4919,\n",
       " 'beating': 1454,\n",
       " 'book': 1885,\n",
       " 'pulpit': 12535,\n",
       " 'negro': 10668,\n",
       " 'church': 2807,\n",
       " 'preacher': 12148,\n",
       " 'text': 16057,\n",
       " 'weeping': 17716,\n",
       " 'wailing': 17521,\n",
       " 'teeth': 15966,\n",
       " 'gnashing': 7017,\n",
       " 'muttered': 10546,\n",
       " 'backing': 1240,\n",
       " 'wretched': 18080,\n",
       " 'entertainment': 5526,\n",
       " 'dim': 4583,\n",
       " 'docks': 4871,\n",
       " 'forlorn': 6536,\n",
       " 'creaking': 3819,\n",
       " 'swinging': 15786,\n",
       " 'white': 17823,\n",
       " 'painting': 11269,\n",
       " 'faintly': 5962,\n",
       " 'representing': 13176,\n",
       " 'tall': 15870,\n",
       " 'jet': 8864,\n",
       " 'misty': 10279,\n",
       " 'spray': 15040,\n",
       " 'words': 18017,\n",
       " 'underneath': 16834,\n",
       " 'spouter': 15026,\n",
       " 'peter': 11674,\n",
       " 'ominous': 10995,\n",
       " 'connexion': 3422,\n",
       " 'common': 3186,\n",
       " 'suppose': 15648,\n",
       " 'emigrant': 5354,\n",
       " 'quiet': 12673,\n",
       " 'dilapidated': 4574,\n",
       " 'wooden': 18004,\n",
       " 'carted': 2476,\n",
       " 'ruins': 13601,\n",
       " 'burnt': 2245,\n",
       " 'district': 4820,\n",
       " 'poverty': 12117,\n",
       " 'stricken': 15368,\n",
       " 'creak': 3818,\n",
       " 'spot': 15019,\n",
       " 'cheap': 2689,\n",
       " 'lodgings': 9558,\n",
       " 'best': 1610,\n",
       " 'pea': 11475,\n",
       " 'coffee': 3057,\n",
       " 'queer': 12649,\n",
       " 'gable': 6749,\n",
       " 'ended': 5425,\n",
       " 'palsied': 11294,\n",
       " 'sharp': 14172,\n",
       " 'bleak': 1749,\n",
       " 'corner': 3662,\n",
       " 'tempestuous': 15983,\n",
       " 'wind': 17894,\n",
       " 'euroclydon': 5647,\n",
       " 'kept': 9016,\n",
       " 'worse': 18036,\n",
       " 'howling': 7896,\n",
       " 'paul': 11455,\n",
       " 'tossed': 16374,\n",
       " 'mighty': 10167,\n",
       " 'pleasant': 11897,\n",
       " 'zephyr': 18189,\n",
       " 'doors': 4922,\n",
       " 'hob': 7748,\n",
       " 'toasting': 16289,\n",
       " 'bed': 1464,\n",
       " 'judging': 8947,\n",
       " 'called': 2332,\n",
       " 'says': 13795,\n",
       " 'writer': 18091,\n",
       " 'works': 18026,\n",
       " 'possess': 12064,\n",
       " 'copy': 3641,\n",
       " 'extant': 5872,\n",
       " 'maketh': 9790,\n",
       " 'thou': 16128,\n",
       " 'lookest': 9599,\n",
       " 'glass': 6965,\n",
       " 'window': 17900,\n",
       " 'outside': 11149,\n",
       " 'observest': 10896,\n",
       " 'sashless': 13745,\n",
       " 'sides': 14365,\n",
       " 'wight': 17865,\n",
       " 'death': 4146,\n",
       " 'glazier': 6970,\n",
       " 'passage': 11399,\n",
       " ...}"
      ]
     },
     "execution_count": 75,
     "metadata": {},
     "output_type": "execute_result"
    }
   ],
   "source": [
    "wcv.vocabulary_"
   ]
  },
  {
   "cell_type": "code",
   "execution_count": 76,
   "metadata": {},
   "outputs": [
    {
     "data": {
      "image/svg+xml": [
       "<?xml version=\"1.0\" encoding=\"UTF-8\" standalone=\"no\"?>\n",
       "<!DOCTYPE svg PUBLIC \"-//W3C//DTD SVG 1.1//EN\"\n",
       " \"http://www.w3.org/Graphics/SVG/1.1/DTD/svg11.dtd\">\n",
       "<!-- Generated by graphviz version 2.40.1 (20161225.0304)\n",
       " -->\n",
       "<!-- Title: Tree Pages: 1 -->\n",
       "<svg width=\"472pt\" height=\"433pt\"\n",
       " viewBox=\"0.00 0.00 471.50 433.00\" xmlns=\"http://www.w3.org/2000/svg\" xmlns:xlink=\"http://www.w3.org/1999/xlink\">\n",
       "<g id=\"graph0\" class=\"graph\" transform=\"scale(1 1) rotate(0) translate(4 429)\">\n",
       "<title>Tree</title>\n",
       "<polygon fill=\"#ffffff\" stroke=\"transparent\" points=\"-4,4 -4,-429 467.5,-429 467.5,4 -4,4\"/>\n",
       "<!-- 0 -->\n",
       "<g id=\"node1\" class=\"node\">\n",
       "<title>0</title>\n",
       "<path fill=\"#fbeade\" stroke=\"#000000\" d=\"M382,-425C382,-425 266,-425 266,-425 260,-425 254,-419 254,-413 254,-413 254,-354 254,-354 254,-348 260,-342 266,-342 266,-342 382,-342 382,-342 388,-342 394,-348 394,-354 394,-354 394,-413 394,-413 394,-419 388,-425 382,-425\"/>\n",
       "<text text-anchor=\"start\" x=\"289\" y=\"-409.8\" font-family=\"Helvetica,sans-Serif\" font-size=\"14.00\" fill=\"#000000\">whale ≤ 0.5</text>\n",
       "<text text-anchor=\"start\" x=\"288.5\" y=\"-394.8\" font-family=\"Helvetica,sans-Serif\" font-size=\"14.00\" fill=\"#000000\">gini = 0.496</text>\n",
       "<text text-anchor=\"start\" x=\"271.5\" y=\"-379.8\" font-family=\"Helvetica,sans-Serif\" font-size=\"14.00\" fill=\"#000000\">samples = 11000</text>\n",
       "<text text-anchor=\"start\" x=\"262\" y=\"-364.8\" font-family=\"Helvetica,sans-Serif\" font-size=\"14.00\" fill=\"#000000\">value = [6000, 5000]</text>\n",
       "<text text-anchor=\"start\" x=\"268.5\" y=\"-349.8\" font-family=\"Helvetica,sans-Serif\" font-size=\"14.00\" fill=\"#000000\">class = Moby Dick</text>\n",
       "</g>\n",
       "<!-- 1 -->\n",
       "<g id=\"node2\" class=\"node\">\n",
       "<title>1</title>\n",
       "<path fill=\"#fefcfa\" stroke=\"#000000\" d=\"M306,-306C306,-306 190,-306 190,-306 184,-306 178,-300 178,-294 178,-294 178,-235 178,-235 178,-229 184,-223 190,-223 190,-223 306,-223 306,-223 312,-223 318,-229 318,-235 318,-235 318,-294 318,-294 318,-300 312,-306 306,-306\"/>\n",
       "<text text-anchor=\"start\" x=\"221.5\" y=\"-290.8\" font-family=\"Helvetica,sans-Serif\" font-size=\"14.00\" fill=\"#000000\">joe ≤ 0.5</text>\n",
       "<text text-anchor=\"start\" x=\"220\" y=\"-275.8\" font-family=\"Helvetica,sans-Serif\" font-size=\"14.00\" fill=\"#000000\">gini = 0.5</text>\n",
       "<text text-anchor=\"start\" x=\"195.5\" y=\"-260.8\" font-family=\"Helvetica,sans-Serif\" font-size=\"14.00\" fill=\"#000000\">samples = 10122</text>\n",
       "<text text-anchor=\"start\" x=\"186\" y=\"-245.8\" font-family=\"Helvetica,sans-Serif\" font-size=\"14.00\" fill=\"#000000\">value = [5122, 5000]</text>\n",
       "<text text-anchor=\"start\" x=\"192.5\" y=\"-230.8\" font-family=\"Helvetica,sans-Serif\" font-size=\"14.00\" fill=\"#000000\">class = Moby Dick</text>\n",
       "</g>\n",
       "<!-- 0&#45;&gt;1 -->\n",
       "<g id=\"edge1\" class=\"edge\">\n",
       "<title>0&#45;&gt;1</title>\n",
       "<path fill=\"none\" stroke=\"#000000\" d=\"M297.4189,-341.8796C291.8395,-333.1434 285.8981,-323.8404 280.1405,-314.8253\"/>\n",
       "<polygon fill=\"#000000\" stroke=\"#000000\" points=\"283.0269,-312.8421 274.6946,-306.2981 277.1274,-316.6098 283.0269,-312.8421\"/>\n",
       "<text text-anchor=\"middle\" x=\"269.3111\" y=\"-327.0116\" font-family=\"Helvetica,sans-Serif\" font-size=\"14.00\" fill=\"#000000\">True</text>\n",
       "</g>\n",
       "<!-- 6 -->\n",
       "<g id=\"node7\" class=\"node\">\n",
       "<title>6</title>\n",
       "<path fill=\"#e58139\" stroke=\"#000000\" d=\"M451.5,-298.5C451.5,-298.5 348.5,-298.5 348.5,-298.5 342.5,-298.5 336.5,-292.5 336.5,-286.5 336.5,-286.5 336.5,-242.5 336.5,-242.5 336.5,-236.5 342.5,-230.5 348.5,-230.5 348.5,-230.5 451.5,-230.5 451.5,-230.5 457.5,-230.5 463.5,-236.5 463.5,-242.5 463.5,-242.5 463.5,-286.5 463.5,-286.5 463.5,-292.5 457.5,-298.5 451.5,-298.5\"/>\n",
       "<text text-anchor=\"start\" x=\"372\" y=\"-283.3\" font-family=\"Helvetica,sans-Serif\" font-size=\"14.00\" fill=\"#000000\">gini = 0.0</text>\n",
       "<text text-anchor=\"start\" x=\"355\" y=\"-268.3\" font-family=\"Helvetica,sans-Serif\" font-size=\"14.00\" fill=\"#000000\">samples = 878</text>\n",
       "<text text-anchor=\"start\" x=\"353\" y=\"-253.3\" font-family=\"Helvetica,sans-Serif\" font-size=\"14.00\" fill=\"#000000\">value = [878, 0]</text>\n",
       "<text text-anchor=\"start\" x=\"344.5\" y=\"-238.3\" font-family=\"Helvetica,sans-Serif\" font-size=\"14.00\" fill=\"#000000\">class = Moby Dick</text>\n",
       "</g>\n",
       "<!-- 0&#45;&gt;6 -->\n",
       "<g id=\"edge6\" class=\"edge\">\n",
       "<title>0&#45;&gt;6</title>\n",
       "<path fill=\"none\" stroke=\"#000000\" d=\"M350.5811,-341.8796C357.674,-330.7735 365.3521,-318.7513 372.4937,-307.5691\"/>\n",
       "<polygon fill=\"#000000\" stroke=\"#000000\" points=\"375.6518,-309.1267 378.0846,-298.8149 369.7523,-305.3589 375.6518,-309.1267\"/>\n",
       "<text text-anchor=\"middle\" x=\"383.4681\" y=\"-319.5284\" font-family=\"Helvetica,sans-Serif\" font-size=\"14.00\" fill=\"#000000\">False</text>\n",
       "</g>\n",
       "<!-- 2 -->\n",
       "<g id=\"node3\" class=\"node\">\n",
       "<title>2</title>\n",
       "<path fill=\"#fcefe6\" stroke=\"#000000\" d=\"M217,-187C217,-187 101,-187 101,-187 95,-187 89,-181 89,-175 89,-175 89,-116 89,-116 89,-110 95,-104 101,-104 101,-104 217,-104 217,-104 223,-104 229,-110 229,-116 229,-116 229,-175 229,-175 229,-181 223,-187 217,-187\"/>\n",
       "<text text-anchor=\"start\" x=\"133\" y=\"-171.8\" font-family=\"Helvetica,sans-Serif\" font-size=\"14.00\" fill=\"#000000\">mr ≤ 0.5</text>\n",
       "<text text-anchor=\"start\" x=\"123.5\" y=\"-156.8\" font-family=\"Helvetica,sans-Serif\" font-size=\"14.00\" fill=\"#000000\">gini = 0.498</text>\n",
       "<text text-anchor=\"start\" x=\"110.5\" y=\"-141.8\" font-family=\"Helvetica,sans-Serif\" font-size=\"14.00\" fill=\"#000000\">samples = 9588</text>\n",
       "<text text-anchor=\"start\" x=\"97\" y=\"-126.8\" font-family=\"Helvetica,sans-Serif\" font-size=\"14.00\" fill=\"#000000\">value = [5121, 4467]</text>\n",
       "<text text-anchor=\"start\" x=\"103.5\" y=\"-111.8\" font-family=\"Helvetica,sans-Serif\" font-size=\"14.00\" fill=\"#000000\">class = Moby Dick</text>\n",
       "</g>\n",
       "<!-- 1&#45;&gt;2 -->\n",
       "<g id=\"edge2\" class=\"edge\">\n",
       "<title>1&#45;&gt;2</title>\n",
       "<path fill=\"none\" stroke=\"#000000\" d=\"M216.8721,-222.8796C210.271,-214.0534 203.2371,-204.6485 196.4298,-195.5466\"/>\n",
       "<polygon fill=\"#000000\" stroke=\"#000000\" points=\"199.0528,-193.2099 190.2607,-187.2981 193.4472,-197.4024 199.0528,-193.2099\"/>\n",
       "</g>\n",
       "<!-- 5 -->\n",
       "<g id=\"node6\" class=\"node\">\n",
       "<title>5</title>\n",
       "<path fill=\"#399de5\" stroke=\"#000000\" d=\"M414.5,-179.5C414.5,-179.5 259.5,-179.5 259.5,-179.5 253.5,-179.5 247.5,-173.5 247.5,-167.5 247.5,-167.5 247.5,-123.5 247.5,-123.5 247.5,-117.5 253.5,-111.5 259.5,-111.5 259.5,-111.5 414.5,-111.5 414.5,-111.5 420.5,-111.5 426.5,-117.5 426.5,-123.5 426.5,-123.5 426.5,-167.5 426.5,-167.5 426.5,-173.5 420.5,-179.5 414.5,-179.5\"/>\n",
       "<text text-anchor=\"start\" x=\"301.5\" y=\"-164.3\" font-family=\"Helvetica,sans-Serif\" font-size=\"14.00\" fill=\"#000000\">gini = 0.004</text>\n",
       "<text text-anchor=\"start\" x=\"292\" y=\"-149.3\" font-family=\"Helvetica,sans-Serif\" font-size=\"14.00\" fill=\"#000000\">samples = 534</text>\n",
       "<text text-anchor=\"start\" x=\"290\" y=\"-134.3\" font-family=\"Helvetica,sans-Serif\" font-size=\"14.00\" fill=\"#000000\">value = [1, 533]</text>\n",
       "<text text-anchor=\"start\" x=\"255.5\" y=\"-119.3\" font-family=\"Helvetica,sans-Serif\" font-size=\"14.00\" fill=\"#000000\">class = Great Expectations</text>\n",
       "</g>\n",
       "<!-- 1&#45;&gt;5 -->\n",
       "<g id=\"edge5\" class=\"edge\">\n",
       "<title>1&#45;&gt;5</title>\n",
       "<path fill=\"none\" stroke=\"#000000\" d=\"M279.1279,-222.8796C287.5986,-211.5536 296.7819,-199.2748 305.2847,-187.9058\"/>\n",
       "<polygon fill=\"#000000\" stroke=\"#000000\" points=\"308.1495,-189.9193 311.3359,-179.8149 302.5438,-185.7268 308.1495,-189.9193\"/>\n",
       "</g>\n",
       "<!-- 3 -->\n",
       "<g id=\"node4\" class=\"node\">\n",
       "<title>3</title>\n",
       "<path fill=\"#f9e4d5\" stroke=\"#000000\" d=\"M128,-68C128,-68 12,-68 12,-68 6,-68 0,-62 0,-56 0,-56 0,-12 0,-12 0,-6 6,0 12,0 12,0 128,0 128,0 134,0 140,-6 140,-12 140,-12 140,-56 140,-56 140,-62 134,-68 128,-68\"/>\n",
       "<text text-anchor=\"start\" x=\"34.5\" y=\"-52.8\" font-family=\"Helvetica,sans-Serif\" font-size=\"14.00\" fill=\"#000000\">gini = 0.493</text>\n",
       "<text text-anchor=\"start\" x=\"21.5\" y=\"-37.8\" font-family=\"Helvetica,sans-Serif\" font-size=\"14.00\" fill=\"#000000\">samples = 9088</text>\n",
       "<text text-anchor=\"start\" x=\"8\" y=\"-22.8\" font-family=\"Helvetica,sans-Serif\" font-size=\"14.00\" fill=\"#000000\">value = [5084, 4004]</text>\n",
       "<text text-anchor=\"start\" x=\"14.5\" y=\"-7.8\" font-family=\"Helvetica,sans-Serif\" font-size=\"14.00\" fill=\"#000000\">class = Moby Dick</text>\n",
       "</g>\n",
       "<!-- 2&#45;&gt;3 -->\n",
       "<g id=\"edge3\" class=\"edge\">\n",
       "<title>2&#45;&gt;3</title>\n",
       "<path fill=\"none\" stroke=\"#000000\" d=\"M125.8597,-103.9815C118.597,-94.8828 110.9017,-85.242 103.6204,-76.1199\"/>\n",
       "<polygon fill=\"#000000\" stroke=\"#000000\" points=\"106.3234,-73.8958 97.3495,-68.2637 100.8525,-78.2627 106.3234,-73.8958\"/>\n",
       "</g>\n",
       "<!-- 4 -->\n",
       "<g id=\"node5\" class=\"node\">\n",
       "<title>4</title>\n",
       "<path fill=\"#49a5e7\" stroke=\"#000000\" d=\"M325.5,-68C325.5,-68 170.5,-68 170.5,-68 164.5,-68 158.5,-62 158.5,-56 158.5,-56 158.5,-12 158.5,-12 158.5,-6 164.5,0 170.5,0 170.5,0 325.5,0 325.5,0 331.5,0 337.5,-6 337.5,-12 337.5,-12 337.5,-56 337.5,-56 337.5,-62 331.5,-68 325.5,-68\"/>\n",
       "<text text-anchor=\"start\" x=\"212.5\" y=\"-52.8\" font-family=\"Helvetica,sans-Serif\" font-size=\"14.00\" fill=\"#000000\">gini = 0.137</text>\n",
       "<text text-anchor=\"start\" x=\"203\" y=\"-37.8\" font-family=\"Helvetica,sans-Serif\" font-size=\"14.00\" fill=\"#000000\">samples = 500</text>\n",
       "<text text-anchor=\"start\" x=\"197.5\" y=\"-22.8\" font-family=\"Helvetica,sans-Serif\" font-size=\"14.00\" fill=\"#000000\">value = [37, 463]</text>\n",
       "<text text-anchor=\"start\" x=\"166.5\" y=\"-7.8\" font-family=\"Helvetica,sans-Serif\" font-size=\"14.00\" fill=\"#000000\">class = Great Expectations</text>\n",
       "</g>\n",
       "<!-- 2&#45;&gt;4 -->\n",
       "<g id=\"edge4\" class=\"edge\">\n",
       "<title>2&#45;&gt;4</title>\n",
       "<path fill=\"none\" stroke=\"#000000\" d=\"M192.1403,-103.9815C199.403,-94.8828 207.0983,-85.242 214.3796,-76.1199\"/>\n",
       "<polygon fill=\"#000000\" stroke=\"#000000\" points=\"217.1475,-78.2627 220.6505,-68.2637 211.6766,-73.8958 217.1475,-78.2627\"/>\n",
       "</g>\n",
       "</g>\n",
       "</svg>\n"
      ],
      "text/plain": [
       "<graphviz.files.Source at 0x7fb0dd812dd8>"
      ]
     },
     "execution_count": 76,
     "metadata": {},
     "output_type": "execute_result"
    }
   ],
   "source": [
    "dot_data = sklearn.tree.export_graphviz(dt, out_file=None, \n",
    "                      feature_names=list(sorted(wcv.vocabulary_.keys())),  \n",
    "                      class_names=[\"Moby Dick\", \"Great Expectations\"],  \n",
    "                      filled=True, rounded=True,  \n",
    "                      special_characters=True)  \n",
    "graph = graphviz.Source(dot_data)\n",
    "graph"
   ]
  },
  {
   "cell_type": "markdown",
   "metadata": {},
   "source": [
    "Note that the most important features to the decision tree are not the same as the logistic regression model. Here the words of greatest interest are \"whale\", \"joe\", and \"mr\". whale is a word that only occurs in Great Expectations. joe is a word that occurs almost exclusively in Great Expectations, and \"mr\" is a word that occurs almost exclusively in Great Expectations (463/500 times). "
   ]
  },
  {
   "cell_type": "markdown",
   "metadata": {},
   "source": [
    "The tree above has 63% percent training accuracy and 46% percent test accuracy. This is pretty terrible! The model actually does worse than random guessing on the unseen test set."
   ]
  },
  {
   "cell_type": "code",
   "execution_count": 77,
   "metadata": {},
   "outputs": [
    {
     "name": "stdout",
     "output_type": "stream",
     "text": [
      "Train Accuracy: 0.6325454545454545\n",
      "Test Accuracy: 0.46879334257975036\n"
     ]
    }
   ],
   "source": [
    "dt_predictions_train = dt.predict(phi_both_books_train)\n",
    "dt_predictions_test = dt.predict(phi_both_books_test)\n",
    "print(f\"Train Accuracy: {accuracy_score(y_train, dt_predictions_train)}\")\n",
    "print(f\"Test Accuracy: {accuracy_score(y_test, dt_predictions_test)}\")"
   ]
  },
  {
   "cell_type": "markdown",
   "metadata": {},
   "source": [
    "Above, we set a very high bar for our min $\\Delta WG$. If we remove that restriction, we'll get a much more complex tree not shown. This tree has 98% training accuracy and 80% test accuracy. The very high training accuracy is unsurprising since a decision tree will get 100% so long as there are no overlappnig points. The test accuracy is somewhat lower than our unregularized logistic regression model above."
   ]
  },
  {
   "cell_type": "code",
   "execution_count": 78,
   "metadata": {},
   "outputs": [
    {
     "name": "stdout",
     "output_type": "stream",
     "text": [
      "Train Accuracy: 0.9948181818181818\n",
      "Test Accuracy: 0.8020110957004161\n"
     ]
    }
   ],
   "source": [
    "dt = DecisionTreeClassifier()\n",
    "dt.fit(phi_both_books_train, y_train)\n",
    "dt_predictions_train = dt.predict(phi_both_books_train)\n",
    "dt_predictions_test = dt.predict(phi_both_books_test)\n",
    "print(f\"Train Accuracy: {accuracy_score(y_train, dt_predictions_train)}\")\n",
    "print(f\"Test Accuracy: {accuracy_score(y_test, dt_predictions_test)}\")"
   ]
  },
  {
   "cell_type": "code",
   "execution_count": 79,
   "metadata": {},
   "outputs": [
    {
     "data": {
      "text/plain": [
       "0.8038181818181818"
      ]
     },
     "execution_count": 79,
     "metadata": {},
     "output_type": "execute_result"
    }
   ],
   "source": [
    "from sklearn.model_selection import GridSearchCV\n",
    "\n",
    "parameters = {'min_impurity_decrease': np.linspace(0, 0.001, 20)}\n",
    "\n",
    "dt_model_finder = GridSearchCV(DecisionTreeClassifier(), parameters, cv=10)\n",
    "dt_model_finder.fit(phi_both_books_train, y_train)\n",
    "dt_model_finder.best_score_"
   ]
  },
  {
   "cell_type": "code",
   "execution_count": 80,
   "metadata": {},
   "outputs": [
    {
     "data": {
      "text/plain": [
       "{'min_impurity_decrease': 0.00010526315789473685}"
      ]
     },
     "execution_count": 80,
     "metadata": {},
     "output_type": "execute_result"
    }
   ],
   "source": [
    "dt_model_finder.best_params_"
   ]
  },
  {
   "cell_type": "code",
   "execution_count": 81,
   "metadata": {},
   "outputs": [
    {
     "name": "stdout",
     "output_type": "stream",
     "text": [
      "Train Accuracy: 0.9656363636363636\n",
      "Test Accuracy: 0.800624133148405\n"
     ]
    }
   ],
   "source": [
    "dt_predictions_train = dt_model_finder.best_estimator_.predict(phi_both_books_train)\n",
    "dt_predictions_test = dt_model_finder.best_estimator_.predict(phi_both_books_test)\n",
    "print(f\"Train Accuracy: {accuracy_score(y_train, dt_predictions_train)}\")\n",
    "print(f\"Test Accuracy: {accuracy_score(y_test, dt_predictions_test)}\")"
   ]
  },
  {
   "cell_type": "markdown",
   "metadata": {},
   "source": [
    "Given that our most \"powerful\" technique is the random forest, let's see how good we can do on accuracy if we train a random forest model. Since we are just going for maximum accuracy, let's also perform a Grid Search. If you uncomment and run, it will take a very long time (perhaps more than an hour) to complete training."
   ]
  },
  {
   "cell_type": "code",
   "execution_count": 82,
   "metadata": {},
   "outputs": [
    {
     "data": {
      "text/plain": [
       "0.8577272727272728"
      ]
     },
     "execution_count": 82,
     "metadata": {},
     "output_type": "execute_result"
    }
   ],
   "source": [
    "from sklearn.ensemble import RandomForestClassifier\n",
    "from sklearn.model_selection import GridSearchCV\n",
    "\n",
    "parameters = {'min_impurity_decrease': [0, 0.01, 0.05],\n",
    "             \"max_leaf_nodes\": [3, 5, 10, None],\n",
    "             \"max_features\": [\"auto\", \"sqrt\", \"log2\"]}\n",
    "\n",
    "rf_model_finder = GridSearchCV(RandomForestClassifier(), parameters, cv=10)\n",
    "rf_model_finder.fit(phi_both_books_train, y_train)\n",
    "rf_model_finder.best_score_"
   ]
  },
  {
   "cell_type": "code",
   "execution_count": 83,
   "metadata": {},
   "outputs": [
    {
     "data": {
      "text/plain": [
       "{'max_features': 'log2', 'max_leaf_nodes': None, 'min_impurity_decrease': 0}"
      ]
     },
     "execution_count": 83,
     "metadata": {},
     "output_type": "execute_result"
    }
   ],
   "source": [
    "rf_model_finder.best_params_"
   ]
  },
  {
   "cell_type": "markdown",
   "metadata": {},
   "source": [
    "Above, we see that the cross validation score for our best random forest estimator was 85%."
   ]
  },
  {
   "cell_type": "code",
   "execution_count": 84,
   "metadata": {},
   "outputs": [
    {
     "name": "stdout",
     "output_type": "stream",
     "text": [
      "Train Accuracy: 0.9948181818181818\n",
      "Test Accuracy: 0.8737864077669902\n"
     ]
    }
   ],
   "source": [
    "rf = rf_model_finder.best_estimator_\n",
    "rf_predictions_train = rf.predict(phi_both_books_train)\n",
    "rf_predictions_test = rf.predict(phi_both_books_test)\n",
    "print(f\"Train Accuracy: {accuracy_score(y_train, rf_predictions_train)}\")\n",
    "print(f\"Test Accuracy: {accuracy_score(y_test, rf_predictions_test)}\")"
   ]
  },
  {
   "cell_type": "markdown",
   "metadata": {},
   "source": [
    "Our overall training and test accuracy is 98% and 86% on the training and test set. It seems our random forest does about as well as our unregularized logistic regression model on unseen data."
   ]
  },
  {
   "cell_type": "markdown",
   "metadata": {},
   "source": [
    "Quick note before we continue: CountVectorizer assumes there are spaces between words, which works well with lots of western languages. However, to do word counts in Chinese, Japanese, etc. you'll need to use a special library.\n",
    "\n",
    "For Chinese, I recommend `jieba`: https://github.com/fxsjy/jieba"
   ]
  },
  {
   "cell_type": "markdown",
   "metadata": {},
   "source": [
    "#### 2-Grams"
   ]
  },
  {
   "cell_type": "code",
   "execution_count": 85,
   "metadata": {},
   "outputs": [
    {
     "data": {
      "text/plain": [
       "{'cows like': 0,\n",
       " 'drive orange': 1,\n",
       " 'eats organic': 2,\n",
       " 'fish eats': 3,\n",
       " 'like drive': 4,\n",
       " 'orange cars': 5,\n",
       " 'organic kale': 6}"
      ]
     },
     "execution_count": 85,
     "metadata": {},
     "output_type": "execute_result"
    }
   ],
   "source": [
    "wcv2 = CountVectorizer(stop_words = \"english\", ngram_range = (2, 2))\n",
    "wcv2.fit([\"Cows like to drive orange cars.\", \"The fish eats organic kale.\"])\n",
    "wcv2.vocabulary_"
   ]
  },
  {
   "cell_type": "code",
   "execution_count": 86,
   "metadata": {},
   "outputs": [
    {
     "data": {
      "text/plain": [
       "{'cows like': 0,\n",
       " 'cows like drive': 1,\n",
       " 'cows like drive orange': 2,\n",
       " 'drive orange': 3,\n",
       " 'drive orange cars': 4,\n",
       " 'eats organic': 5,\n",
       " 'eats organic kale': 6,\n",
       " 'fish eats': 7,\n",
       " 'fish eats organic': 8,\n",
       " 'fish eats organic kale': 9,\n",
       " 'like drive': 10,\n",
       " 'like drive orange': 11,\n",
       " 'like drive orange cars': 12,\n",
       " 'orange cars': 13,\n",
       " 'organic kale': 14}"
      ]
     },
     "execution_count": 86,
     "metadata": {},
     "output_type": "execute_result"
    }
   ],
   "source": [
    "wcv2 = CountVectorizer(stop_words = \"english\", ngram_range = (2, 4))\n",
    "wcv2.fit([\"Cows like to drive orange cars.\", \"The fish eats organic kale.\"])\n",
    "wcv2.vocabulary_"
   ]
  },
  {
   "cell_type": "markdown",
   "metadata": {},
   "source": [
    "#### Images"
   ]
  },
  {
   "cell_type": "code",
   "execution_count": 87,
   "metadata": {},
   "outputs": [],
   "source": [
    "from sklearn.datasets import fetch_openml\n",
    "X, y = fetch_openml('mnist_784', version=1, return_X_y=True)"
   ]
  },
  {
   "cell_type": "code",
   "execution_count": 88,
   "metadata": {},
   "outputs": [
    {
     "data": {
      "text/plain": [
       "(70000, 784)"
      ]
     },
     "execution_count": 88,
     "metadata": {},
     "output_type": "execute_result"
    }
   ],
   "source": [
    "X.shape"
   ]
  },
  {
   "cell_type": "code",
   "execution_count": 89,
   "metadata": {},
   "outputs": [
    {
     "data": {
      "text/plain": [
       "'3'"
      ]
     },
     "execution_count": 89,
     "metadata": {},
     "output_type": "execute_result"
    }
   ],
   "source": [
    "y[50]"
   ]
  },
  {
   "cell_type": "code",
   "execution_count": 90,
   "metadata": {},
   "outputs": [
    {
     "data": {
      "text/plain": [
       "array([  0.,   0.,   0.,   0.,   0.,   0.,   0.,   0.,   0.,   0.,   0.,\n",
       "         0.,   0.,   0.,   0.,   0.,   0.,   0.,   0.,   0.,   0.,   0.,\n",
       "         0.,   0.,   0.,   0.,   0.,   0.,   0.,   0.,   0.,   0.,   0.,\n",
       "         0.,   0.,   0.,   0.,   0.,   0.,   0.,   0.,   0.,   0.,   0.,\n",
       "         0.,   0.,   0.,   0.,   0.,   0.,   0.,   0.,   0.,   0.,   0.,\n",
       "         0.,   0.,   0.,   0.,   0.,   0.,   0.,   0.,   0.,   0.,   0.,\n",
       "         0.,   0.,   0.,   0.,   0.,   0.,   0.,   0.,   0.,   0.,   0.,\n",
       "         0.,   0.,   0.,   0.,   0.,   0.,   0.,   0.,   0.,   0.,   0.,\n",
       "         0.,   0.,   0.,   0.,   0.,   0.,   0.,   0.,   0.,   0.,   0.,\n",
       "         0.,   0.,   0.,   0.,   0.,   0.,   0.,   0.,   0.,   0.,   0.,\n",
       "         0.,   0.,   0.,   0.,   0.,   0.,   0.,   0.,   0.,   0.,   0.,\n",
       "         0.,  12.,  56., 140., 126., 175., 200.,  96.,   2.,   0.,   0.,\n",
       "         0.,   0.,   0.,   0.,   0.,   0.,   0.,   0.,   0.,   0.,   0.,\n",
       "         0.,   0.,   0.,   0.,   0.,  35., 166., 238., 254., 246., 242.,\n",
       "       253., 246., 254.,  67.,   0.,   0.,   0.,   0.,   0.,   0.,   0.,\n",
       "         0.,   0.,   0.,   0.,   0.,   0.,   0.,   0.,   0.,   0.,   0.,\n",
       "       184., 182., 146., 127.,  70.,  30.,  45.,  36., 215., 175.,   0.,\n",
       "         0.,   0.,   0.,   0.,   0.,   0.,   0.,   0.,   0.,   0.,   0.,\n",
       "         0.,   0.,   0.,   0.,   0.,   0.,  30.,   0.,   0.,   0.,   0.,\n",
       "         0.,   0.,   0., 207., 246.,  14.,   0.,   0.,   0.,   0.,   0.,\n",
       "         0.,   0.,   0.,   0.,   0.,   0.,   0.,   0.,   0.,   0.,   0.,\n",
       "         0.,   0.,   0.,   0.,   0.,   0.,   0.,   0.,  55., 251., 169.,\n",
       "         1.,   0.,   0.,   0.,   0.,   0.,   0.,   0.,   0.,   0.,   0.,\n",
       "         0.,   0.,   0.,   0.,   0.,   0.,   0.,   0.,   0.,   0.,   0.,\n",
       "         0.,   0.,  11., 215., 232.,  20.,   0.,   0.,   0.,   0.,   0.,\n",
       "         0.,   0.,   0.,   0.,   0.,   0.,   0.,   0.,   0.,   0.,   0.,\n",
       "         0.,   0.,   0.,   0.,   0.,   0.,   0.,  20., 190., 250.,  61.,\n",
       "         0.,   0.,   0.,   0.,   0.,   0.,   0.,   0.,   0.,   0.,   0.,\n",
       "         0.,   0.,   0.,   0.,   0.,   0.,   0.,   0.,   0.,   0.,   0.,\n",
       "        24., 118., 206., 254., 248., 142., 108.,  18.,   0.,   0.,   0.,\n",
       "         0.,   0.,   0.,   0.,   0.,   0.,   0.,   0.,   0.,   0.,   0.,\n",
       "         0.,   0.,   0.,   0.,   0.,  63., 223., 254., 254., 254., 254.,\n",
       "       254., 254., 209.,   0.,   0.,   0.,   0.,   0.,   0.,   0.,   0.,\n",
       "         0.,   0.,   0.,   0.,   0.,   0.,   0.,   0.,   0.,   0.,   0.,\n",
       "        52., 174., 129.,  95.,  16.,  16.,  16., 106., 249., 125.,   0.,\n",
       "         0.,   0.,   0.,   0.,   0.,   0.,   0.,   0.,   0.,   0.,   0.,\n",
       "         0.,   0.,   0.,   0.,   0.,   0.,   0.,   0.,   0.,   0.,   0.,\n",
       "         0.,   0.,   0., 179., 239.,   0.,   0.,   0.,   0.,   0.,   0.,\n",
       "         0.,   0.,   0.,   0.,   0.,   0.,   0.,   0.,   0.,   0.,   0.,\n",
       "         0.,   0.,   0.,   0.,   0.,   0.,   0.,   0.,   0.,  80., 239.,\n",
       "         0.,   0.,   0.,   0.,   0.,   0.,   0.,   0.,   0.,   0.,   0.,\n",
       "         0.,   0.,   0.,   0.,   0.,   0.,   0.,   0.,   0.,   0.,   0.,\n",
       "         0.,   0.,   0.,   0.,  80., 244.,  20.,   0.,   0.,   0.,   0.,\n",
       "         0.,   0.,   0.,   0.,   0.,   0.,   0.,   0.,   0.,   0.,   0.,\n",
       "         0.,   0.,   0.,   0.,   0.,   0.,   0.,   0.,   0.,   0., 100.,\n",
       "       239.,   0.,   0.,   0.,   0.,   0.,   0.,   0.,   0.,   0.,   0.,\n",
       "         0.,   0.,   0.,   0.,   0.,   0.,   0.,   0.,   0.,   0.,   0.,\n",
       "         0.,   0.,   0.,   0.,   0., 234., 239.,   0.,   0.,   0.,   0.,\n",
       "         0.,   0.,   0.,   0.,   0.,   0.,   0.,   0.,   0.,   0.,   0.,\n",
       "         4., 140.,   5.,   0.,   0.,   0.,   0.,   0.,   0.,   3., 150.,\n",
       "       254., 129.,   0.,   0.,   0.,   0.,   0.,   0.,   0.,   0.,   0.,\n",
       "         0.,   0.,   0.,   0.,   0.,   0.,  64., 254., 181.,  38.,   0.,\n",
       "         0.,   0.,   0.,  34., 188., 254., 209.,  20.,   0.,   0.,   0.,\n",
       "         0.,   0.,   0.,   0.,   0.,   0.,   0.,   0.,   0.,   0.,   0.,\n",
       "         0.,  12., 226., 255., 223.,  88.,  68., 128., 157., 242., 254.,\n",
       "       207.,  23.,   0.,   0.,   0.,   0.,   0.,   0.,   0.,   0.,   0.,\n",
       "         0.,   0.,   0.,   0.,   0.,   0.,   0.,   0.,  45., 210., 254.,\n",
       "       254., 254., 254., 255., 254., 187.,  49.,   0.,   0.,   0.,   0.,\n",
       "         0.,   0.,   0.,   0.,   0.,   0.,   0.,   0.,   0.,   0.,   0.,\n",
       "         0.,   0.,   0.,   0.,  41., 129., 239., 229., 179.,  91.,  16.,\n",
       "         3.,   0.,   0.,   0.,   0.,   0.,   0.,   0.,   0.,   0.,   0.,\n",
       "         0.,   0.,   0.,   0.,   0.,   0.,   0.,   0.,   0.,   0.,   0.,\n",
       "         0.,   0.,   0.,   0.,   0.,   0.,   0.,   0.,   0.,   0.,   0.,\n",
       "         0.,   0.,   0.,   0.,   0.,   0.,   0.,   0.,   0.,   0.,   0.,\n",
       "         0.,   0.,   0.,   0.,   0.,   0.,   0.,   0.,   0.,   0.,   0.,\n",
       "         0.,   0.,   0.,   0.,   0.,   0.,   0.,   0.,   0.,   0.,   0.,\n",
       "         0.,   0.,   0.,   0.,   0.,   0.,   0.,   0.,   0.,   0.,   0.,\n",
       "         0.,   0.,   0.,   0.,   0.,   0.,   0.,   0.,   0.,   0.,   0.,\n",
       "         0.,   0.,   0.,   0.,   0.,   0.,   0.,   0.,   0.,   0.,   0.,\n",
       "         0.,   0.,   0.,   0.,   0.,   0.,   0.,   0.,   0.,   0.,   0.,\n",
       "         0.,   0.,   0.,   0.,   0.,   0.,   0.,   0.,   0.,   0.,   0.,\n",
       "         0.,   0.,   0.])"
      ]
     },
     "execution_count": 90,
     "metadata": {},
     "output_type": "execute_result"
    }
   ],
   "source": [
    "X[50]"
   ]
  },
  {
   "cell_type": "code",
   "execution_count": 91,
   "metadata": {},
   "outputs": [
    {
     "data": {
      "text/plain": [
       "784"
      ]
     },
     "execution_count": 91,
     "metadata": {},
     "output_type": "execute_result"
    }
   ],
   "source": [
    "len(X[50])"
   ]
  },
  {
   "cell_type": "code",
   "execution_count": 92,
   "metadata": {
    "scrolled": true
   },
   "outputs": [
    {
     "data": {
      "text/plain": [
       "array([[  0.,   0.,   0.,   0.,   0.,   0.,   0.,   0.,   0.,   0.,   0.,\n",
       "          0.,   0.,   0.,   0.,   0.,   0.,   0.,   0.,   0.,   0.,   0.,\n",
       "          0.,   0.,   0.,   0.,   0.,   0.],\n",
       "       [  0.,   0.,   0.,   0.,   0.,   0.,   0.,   0.,   0.,   0.,   0.,\n",
       "          0.,   0.,   0.,   0.,   0.,   0.,   0.,   0.,   0.,   0.,   0.,\n",
       "          0.,   0.,   0.,   0.,   0.,   0.],\n",
       "       [  0.,   0.,   0.,   0.,   0.,   0.,   0.,   0.,   0.,   0.,   0.,\n",
       "          0.,   0.,   0.,   0.,   0.,   0.,   0.,   0.,   0.,   0.,   0.,\n",
       "          0.,   0.,   0.,   0.,   0.,   0.],\n",
       "       [  0.,   0.,   0.,   0.,   0.,   0.,   0.,   0.,   0.,   0.,   0.,\n",
       "          0.,   0.,   0.,   0.,   0.,   0.,   0.,   0.,   0.,   0.,   0.,\n",
       "          0.,   0.,   0.,   0.,   0.,   0.],\n",
       "       [  0.,   0.,   0.,   0.,   0.,   0.,   0.,   0.,   0.,   0.,  12.,\n",
       "         56., 140., 126., 175., 200.,  96.,   2.,   0.,   0.,   0.,   0.,\n",
       "          0.,   0.,   0.,   0.,   0.,   0.],\n",
       "       [  0.,   0.,   0.,   0.,   0.,   0.,   0.,   0.,  35., 166., 238.,\n",
       "        254., 246., 242., 253., 246., 254.,  67.,   0.,   0.,   0.,   0.,\n",
       "          0.,   0.,   0.,   0.,   0.,   0.],\n",
       "       [  0.,   0.,   0.,   0.,   0.,   0.,   0.,   0., 184., 182., 146.,\n",
       "        127.,  70.,  30.,  45.,  36., 215., 175.,   0.,   0.,   0.,   0.,\n",
       "          0.,   0.,   0.,   0.,   0.,   0.],\n",
       "       [  0.,   0.,   0.,   0.,   0.,   0.,   0.,   0.,  30.,   0.,   0.,\n",
       "          0.,   0.,   0.,   0.,   0., 207., 246.,  14.,   0.,   0.,   0.,\n",
       "          0.,   0.,   0.,   0.,   0.,   0.],\n",
       "       [  0.,   0.,   0.,   0.,   0.,   0.,   0.,   0.,   0.,   0.,   0.,\n",
       "          0.,   0.,   0.,   0.,  55., 251., 169.,   1.,   0.,   0.,   0.,\n",
       "          0.,   0.,   0.,   0.,   0.,   0.],\n",
       "       [  0.,   0.,   0.,   0.,   0.,   0.,   0.,   0.,   0.,   0.,   0.,\n",
       "          0.,   0.,   0.,  11., 215., 232.,  20.,   0.,   0.,   0.,   0.,\n",
       "          0.,   0.,   0.,   0.,   0.,   0.],\n",
       "       [  0.,   0.,   0.,   0.,   0.,   0.,   0.,   0.,   0.,   0.,   0.,\n",
       "          0.,   0.,  20., 190., 250.,  61.,   0.,   0.,   0.,   0.,   0.,\n",
       "          0.,   0.,   0.,   0.,   0.,   0.],\n",
       "       [  0.,   0.,   0.,   0.,   0.,   0.,   0.,   0.,   0.,   0.,   0.,\n",
       "         24., 118., 206., 254., 248., 142., 108.,  18.,   0.,   0.,   0.,\n",
       "          0.,   0.,   0.,   0.,   0.,   0.],\n",
       "       [  0.,   0.,   0.,   0.,   0.,   0.,   0.,   0.,   0.,   0.,  63.,\n",
       "        223., 254., 254., 254., 254., 254., 254., 209.,   0.,   0.,   0.,\n",
       "          0.,   0.,   0.,   0.,   0.,   0.],\n",
       "       [  0.,   0.,   0.,   0.,   0.,   0.,   0.,   0.,   0.,   0.,  52.,\n",
       "        174., 129.,  95.,  16.,  16.,  16., 106., 249., 125.,   0.,   0.,\n",
       "          0.,   0.,   0.,   0.,   0.,   0.],\n",
       "       [  0.,   0.,   0.,   0.,   0.,   0.,   0.,   0.,   0.,   0.,   0.,\n",
       "          0.,   0.,   0.,   0.,   0.,   0.,   0., 179., 239.,   0.,   0.,\n",
       "          0.,   0.,   0.,   0.,   0.,   0.],\n",
       "       [  0.,   0.,   0.,   0.,   0.,   0.,   0.,   0.,   0.,   0.,   0.,\n",
       "          0.,   0.,   0.,   0.,   0.,   0.,   0.,  80., 239.,   0.,   0.,\n",
       "          0.,   0.,   0.,   0.,   0.,   0.],\n",
       "       [  0.,   0.,   0.,   0.,   0.,   0.,   0.,   0.,   0.,   0.,   0.,\n",
       "          0.,   0.,   0.,   0.,   0.,   0.,   0.,  80., 244.,  20.,   0.,\n",
       "          0.,   0.,   0.,   0.,   0.,   0.],\n",
       "       [  0.,   0.,   0.,   0.,   0.,   0.,   0.,   0.,   0.,   0.,   0.,\n",
       "          0.,   0.,   0.,   0.,   0.,   0.,   0., 100., 239.,   0.,   0.,\n",
       "          0.,   0.,   0.,   0.,   0.,   0.],\n",
       "       [  0.,   0.,   0.,   0.,   0.,   0.,   0.,   0.,   0.,   0.,   0.,\n",
       "          0.,   0.,   0.,   0.,   0.,   0.,   0., 234., 239.,   0.,   0.,\n",
       "          0.,   0.,   0.,   0.,   0.,   0.],\n",
       "       [  0.,   0.,   0.,   0.,   0.,   0.,   0.,   4., 140.,   5.,   0.,\n",
       "          0.,   0.,   0.,   0.,   0.,   3., 150., 254., 129.,   0.,   0.,\n",
       "          0.,   0.,   0.,   0.,   0.,   0.],\n",
       "       [  0.,   0.,   0.,   0.,   0.,   0.,   0.,  64., 254., 181.,  38.,\n",
       "          0.,   0.,   0.,   0.,  34., 188., 254., 209.,  20.,   0.,   0.,\n",
       "          0.,   0.,   0.,   0.,   0.,   0.],\n",
       "       [  0.,   0.,   0.,   0.,   0.,   0.,   0.,  12., 226., 255., 223.,\n",
       "         88.,  68., 128., 157., 242., 254., 207.,  23.,   0.,   0.,   0.,\n",
       "          0.,   0.,   0.,   0.,   0.,   0.],\n",
       "       [  0.,   0.,   0.,   0.,   0.,   0.,   0.,   0.,  45., 210., 254.,\n",
       "        254., 254., 254., 255., 254., 187.,  49.,   0.,   0.,   0.,   0.,\n",
       "          0.,   0.,   0.,   0.,   0.,   0.],\n",
       "       [  0.,   0.,   0.,   0.,   0.,   0.,   0.,   0.,   0.,  41., 129.,\n",
       "        239., 229., 179.,  91.,  16.,   3.,   0.,   0.,   0.,   0.,   0.,\n",
       "          0.,   0.,   0.,   0.,   0.,   0.],\n",
       "       [  0.,   0.,   0.,   0.,   0.,   0.,   0.,   0.,   0.,   0.,   0.,\n",
       "          0.,   0.,   0.,   0.,   0.,   0.,   0.,   0.,   0.,   0.,   0.,\n",
       "          0.,   0.,   0.,   0.,   0.,   0.],\n",
       "       [  0.,   0.,   0.,   0.,   0.,   0.,   0.,   0.,   0.,   0.,   0.,\n",
       "          0.,   0.,   0.,   0.,   0.,   0.,   0.,   0.,   0.,   0.,   0.,\n",
       "          0.,   0.,   0.,   0.,   0.,   0.],\n",
       "       [  0.,   0.,   0.,   0.,   0.,   0.,   0.,   0.,   0.,   0.,   0.,\n",
       "          0.,   0.,   0.,   0.,   0.,   0.,   0.,   0.,   0.,   0.,   0.,\n",
       "          0.,   0.,   0.,   0.,   0.,   0.],\n",
       "       [  0.,   0.,   0.,   0.,   0.,   0.,   0.,   0.,   0.,   0.,   0.,\n",
       "          0.,   0.,   0.,   0.,   0.,   0.,   0.,   0.,   0.,   0.,   0.,\n",
       "          0.,   0.,   0.,   0.,   0.,   0.]])"
      ]
     },
     "execution_count": 92,
     "metadata": {},
     "output_type": "execute_result"
    }
   ],
   "source": [
    "X[50].reshape(28, 28)"
   ]
  },
  {
   "cell_type": "code",
   "execution_count": 93,
   "metadata": {
    "scrolled": true
   },
   "outputs": [
    {
     "data": {
      "text/plain": [
       "<matplotlib.image.AxesImage at 0x7fb0dd649128>"
      ]
     },
     "execution_count": 93,
     "metadata": {},
     "output_type": "execute_result"
    },
    {
     "data": {
      "image/png": "[encoded data removed]",
      "text/plain": [
       "<Figure size 432x288 with 1 Axes>"
      ]
     },
     "metadata": {},
     "output_type": "display_data"
    }
   ],
   "source": [
    "plt.imshow(X[50].reshape(28, 28), cmap='gray')"
   ]
  },
  {
   "cell_type": "code",
   "execution_count": 94,
   "metadata": {},
   "outputs": [
    {
     "data": {
      "text/plain": [
       "'3'"
      ]
     },
     "execution_count": 94,
     "metadata": {},
     "output_type": "execute_result"
    }
   ],
   "source": [
    "y[50]"
   ]
  },
  {
   "cell_type": "code",
   "execution_count": 95,
   "metadata": {},
   "outputs": [],
   "source": [
    "def homemade_image_features(x):\n",
    "    phi1 = np.count_nonzero(x == 0)\n",
    "    phi2 = np.count_nonzero(x < 64)\n",
    "    phi3 = np.count_nonzero((x < 128) & (x > 64))\n",
    "    phi4 = np.count_nonzero((x < 192) & (x > 128))\n",
    "    phi5 = np.count_nonzero(x > 192)\n",
    "    return np.array([phi1, phi2, phi3, phi4, phi5])"
   ]
  },
  {
   "cell_type": "code",
   "execution_count": 96,
   "metadata": {},
   "outputs": [
    {
     "data": {
      "text/plain": [
       "array([656, 692,  16,  22,  52])"
      ]
     },
     "execution_count": 96,
     "metadata": {},
     "output_type": "execute_result"
    }
   ],
   "source": [
    "homemade_image_features(X[50])"
   ]
  },
  {
   "cell_type": "code",
   "execution_count": 97,
   "metadata": {},
   "outputs": [],
   "source": [
    "from sklearn.model_selection import train_test_split\n",
    "X_train, X_test, y_train, y_test = train_test_split(X, y, test_size=0.33, random_state=42)"
   ]
  },
  {
   "cell_type": "code",
   "execution_count": 98,
   "metadata": {},
   "outputs": [],
   "source": [
    "homemade_phi_train = np.apply_along_axis(homemade_image_features, 1, X_train)\n",
    "homemade_phi_test = np.apply_along_axis(homemade_image_features, 1, X_test)"
   ]
  },
  {
   "cell_type": "code",
   "execution_count": 99,
   "metadata": {},
   "outputs": [
    {
     "data": {
      "text/plain": [
       "array([[602, 636,  17,  18, 112],\n",
       "       [649, 680,  14,  20,  67],\n",
       "       [613, 654,  26,  18,  84],\n",
       "       ...,\n",
       "       [707, 723,   6,  17,  37],\n",
       "       [598, 624,  31,  15, 113],\n",
       "       [566, 600,  35,  18, 129]])"
      ]
     },
     "execution_count": 99,
     "metadata": {},
     "output_type": "execute_result"
    }
   ],
   "source": [
    "homemade_phi_train"
   ]
  },
  {
   "cell_type": "code",
   "execution_count": 100,
   "metadata": {},
   "outputs": [
    {
     "data": {
      "text/plain": [
       "LogisticRegression(C=1.0, class_weight=None, dual=False, fit_intercept=True,\n",
       "                   intercept_scaling=1, l1_ratio=None, max_iter=10000,\n",
       "                   multi_class='auto', n_jobs=None, penalty='l2',\n",
       "                   random_state=None, solver='lbfgs', tol=0.0001, verbose=0,\n",
       "                   warm_start=False)"
      ]
     },
     "execution_count": 100,
     "metadata": {},
     "output_type": "execute_result"
    }
   ],
   "source": [
    "lm = LogisticRegression(max_iter = 10000)\n",
    "lm.fit(homemade_phi_train, y_train)"
   ]
  },
  {
   "cell_type": "code",
   "execution_count": 101,
   "metadata": {},
   "outputs": [
    {
     "name": "stdout",
     "output_type": "stream",
     "text": [
      "Training Accuracy: 0.278272921108742\n",
      "Test Accuracy: 0.2775757575757576\n"
     ]
    }
   ],
   "source": [
    "lm_predictions_train_homemade = lm.predict(homemade_phi_train)\n",
    "lm_predictions_test_homemade = lm.predict(homemade_phi_test)\n",
    "print(f\"Training Accuracy: {accuracy_score(y_train, lm_predictions_train_homemade)}\")\n",
    "print(f\"Test Accuracy: {accuracy_score(y_test, lm_predictions_test_homemade)}\")"
   ]
  },
  {
   "cell_type": "code",
   "execution_count": 102,
   "metadata": {},
   "outputs": [
    {
     "data": {
      "image/png": "[encoded data removed]",
      "text/plain": [
       "<Figure size 432x288 with 1 Axes>"
      ]
     },
     "metadata": {},
     "output_type": "display_data"
    }
   ],
   "source": [
    "from sklearn.metrics import confusion_matrix\n",
    "cm = confusion_matrix(y_test, lm_predictions_test_homemade)\n",
    "sns.heatmap(cm, annot=True, fmt = \"d\", cmap = \"Blues\", annot_kws={\"size\": 6}, cbar = False)\n",
    "plt.ylabel('True')\n",
    "plt.xlabel('Predicted')\n",
    "sns.set(font_scale = 1)"
   ]
  },
  {
   "cell_type": "markdown",
   "metadata": {},
   "source": [
    "### Better Feature Set: The Raw Data"
   ]
  },
  {
   "cell_type": "code",
   "execution_count": 103,
   "metadata": {},
   "outputs": [
    {
     "name": "stderr",
     "output_type": "stream",
     "text": [
      "/home/hug/miniconda3/envs/data100/lib/python3.6/site-packages/sklearn/linear_model/_logistic.py:940: ConvergenceWarning: lbfgs failed to converge (status=1):\n",
      "STOP: TOTAL NO. of ITERATIONS REACHED LIMIT.\n",
      "\n",
      "Increase the number of iterations (max_iter) or scale the data as shown in:\n",
      "    https://scikit-learn.org/stable/modules/preprocessing.html\n",
      "Please also refer to the documentation for alternative solver options:\n",
      "    https://scikit-learn.org/stable/modules/linear_model.html#logistic-regression\n",
      "  extra_warning_msg=_LOGISTIC_SOLVER_CONVERGENCE_MSG)\n"
     ]
    },
    {
     "data": {
      "text/plain": [
       "LogisticRegression(C=1.0, class_weight=None, dual=False, fit_intercept=True,\n",
       "                   intercept_scaling=1, l1_ratio=None, max_iter=100,\n",
       "                   multi_class='auto', n_jobs=None, penalty='l2',\n",
       "                   random_state=None, solver='lbfgs', tol=0.0001, verbose=0,\n",
       "                   warm_start=False)"
      ]
     },
     "execution_count": 103,
     "metadata": {},
     "output_type": "execute_result"
    }
   ],
   "source": [
    "lm = LogisticRegression()\n",
    "lm.fit(X_train, y_train)"
   ]
  },
  {
   "cell_type": "code",
   "execution_count": 104,
   "metadata": {},
   "outputs": [
    {
     "name": "stdout",
     "output_type": "stream",
     "text": [
      "Training Accuracy: 0.9372494669509595\n",
      "Test Accuracy: 0.9190909090909091\n"
     ]
    }
   ],
   "source": [
    "lm_predictions_train_raw = lm.predict(X_train)\n",
    "lm_predictions_test_raw = lm.predict(X_test)\n",
    "print(f\"Training Accuracy: {accuracy_score(y_train, lm_predictions_train_raw)}\")\n",
    "print(f\"Test Accuracy: {accuracy_score(y_test, lm_predictions_test_raw)}\")"
   ]
  },
  {
   "cell_type": "code",
   "execution_count": 105,
   "metadata": {},
   "outputs": [
    {
     "data": {
      "image/png": "[encoded data removed]",
      "text/plain": [
       "<Figure size 432x288 with 1 Axes>"
      ]
     },
     "metadata": {},
     "output_type": "display_data"
    }
   ],
   "source": [
    "cm = confusion_matrix(y_test, lm_predictions_test_raw)\n",
    "sns.heatmap(cm, annot=True, fmt = \"d\", cmap = \"Blues\", annot_kws={\"size\": 8}, cbar = False)\n",
    "plt.ylabel('True')\n",
    "plt.xlabel('Predicted')\n",
    "sns.set(font_scale = 1)"
   ]
  },
  {
   "cell_type": "markdown",
   "metadata": {},
   "source": [
    "#### Even Better: Histogram of Gradients"
   ]
  },
  {
   "cell_type": "code",
   "execution_count": 106,
   "metadata": {},
   "outputs": [],
   "source": [
    "from skimage.feature import hog\n",
    "\n",
    "def hogify(X):\n",
    "    return hog(X.reshape(28, 28), orientations=8, pixels_per_cell=(4, 4),\n",
    "                    cells_per_block=(1, 1), feature_vector = True)"
   ]
  },
  {
   "cell_type": "code",
   "execution_count": 107,
   "metadata": {},
   "outputs": [],
   "source": [
    "X_train_hog = np.apply_along_axis(hogify, 1, X_train)"
   ]
  },
  {
   "cell_type": "code",
   "execution_count": 108,
   "metadata": {},
   "outputs": [],
   "source": [
    "X_test_hog = np.apply_along_axis(hogify, 1, X_test)"
   ]
  },
  {
   "cell_type": "code",
   "execution_count": 109,
   "metadata": {},
   "outputs": [
    {
     "data": {
      "text/plain": [
       "(46900, 392)"
      ]
     },
     "execution_count": 109,
     "metadata": {},
     "output_type": "execute_result"
    }
   ],
   "source": [
    "X_train_hog.shape"
   ]
  },
  {
   "cell_type": "code",
   "execution_count": 111,
   "metadata": {
    "scrolled": true
   },
   "outputs": [
    {
     "name": "stderr",
     "output_type": "stream",
     "text": [
      "/home/hug/miniconda3/envs/data100/lib/python3.6/site-packages/sklearn/linear_model/_logistic.py:940: ConvergenceWarning: lbfgs failed to converge (status=1):\n",
      "STOP: TOTAL NO. of ITERATIONS REACHED LIMIT.\n",
      "\n",
      "Increase the number of iterations (max_iter) or scale the data as shown in:\n",
      "    https://scikit-learn.org/stable/modules/preprocessing.html\n",
      "Please also refer to the documentation for alternative solver options:\n",
      "    https://scikit-learn.org/stable/modules/linear_model.html#logistic-regression\n",
      "  extra_warning_msg=_LOGISTIC_SOLVER_CONVERGENCE_MSG)\n"
     ]
    },
    {
     "data": {
      "text/plain": [
       "LogisticRegression(C=1.0, class_weight=None, dual=False, fit_intercept=True,\n",
       "                   intercept_scaling=1, l1_ratio=None, max_iter=100,\n",
       "                   multi_class='auto', n_jobs=None, penalty='l2',\n",
       "                   random_state=None, solver='lbfgs', tol=0.0001, verbose=0,\n",
       "                   warm_start=False)"
      ]
     },
     "execution_count": 111,
     "metadata": {},
     "output_type": "execute_result"
    }
   ],
   "source": [
    "lm = LogisticRegression()\n",
    "lm.fit(X_train_hog, y_train)"
   ]
  },
  {
   "cell_type": "code",
   "execution_count": 112,
   "metadata": {},
   "outputs": [
    {
     "name": "stdout",
     "output_type": "stream",
     "text": [
      "Training Accuracy: 0.9853091684434968\n",
      "Test Accuracy: 0.9708225108225108\n"
     ]
    }
   ],
   "source": [
    "lm_predictions_train_hog = lm.predict(X_train_hog)\n",
    "lm_predictions_test_hog = lm.predict(X_test_hog)\n",
    "print(f\"Training Accuracy: {accuracy_score(y_train, lm_predictions_train_hog)}\")\n",
    "print(f\"Test Accuracy: {accuracy_score(y_test, lm_predictions_test_hog)}\")"
   ]
  },
  {
   "cell_type": "code",
   "execution_count": 113,
   "metadata": {},
   "outputs": [
    {
     "data": {
      "image/png": "[encoded data removed]",
      "text/plain": [
       "<Figure size 432x288 with 1 Axes>"
      ]
     },
     "metadata": {},
     "output_type": "display_data"
    }
   ],
   "source": [
    "cm = confusion_matrix(y_test, lm_predictions_test_hog)\n",
    "sns.heatmap(cm, annot=True, fmt = \"d\", cmap = \"Blues\", annot_kws={\"size\": 8}, cbar = False)\n",
    "plt.ylabel('True')\n",
    "plt.xlabel('Predicted')\n",
    "sns.set(font_scale = 1)"
   ]
  }
 ],
 "metadata": {
  "kernelspec": {
   "display_name": "Python 3",
   "language": "python",
   "name": "python3"
  },
  "language_info": {
   "codemirror_mode": {
    "name": "ipython",
    "version": 3
   },
   "file_extension": ".py",
   "mimetype": "text/x-python",
   "name": "python",
   "nbconvert_exporter": "python",
   "pygments_lexer": "ipython3",
   "version": "3.6.4"
  }
 },
 "nbformat": 4,
 "nbformat_minor": 2
}
